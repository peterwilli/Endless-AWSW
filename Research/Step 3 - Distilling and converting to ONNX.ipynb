{
 "cells": [
  {
   "cell_type": "markdown",
   "id": "a98b2c15-46b2-4b0f-9069-68cfe40d8dc0",
   "metadata": {
    "tags": []
   },
   "source": [
    "# Conversion to ONNX\n",
    "ONNX is a different format for running machine learning models. The ONNX format is much faster on CPU, sometimes 5 times as fast as PyTorch!\n",
    "\n",
    "While the EAWSW model is designed to be small, accurate and accessible, for some people it's still too much to run...\n",
    "\n",
    "Hosting the model as a free service for players is an option. An ONNX version of the model allows us to host the model on CPU yet have faster response times! Given that the model is made in a time with chip shortage, running on hardware I already have inside a server is efficient, scalable and cheaper.\n",
    "\n",
    "An important note is that ONNX doesn't execute logic by itself, and you have to do that yourself, `onnx_model_manager.py` intends to deal with this for us."
   ]
  },
  {
   "cell_type": "code",
   "execution_count": 1,
   "id": "916b7a9d-8687-4c2f-8278-6f83d9fabbfc",
   "metadata": {},
   "outputs": [],
   "source": [
    "%load_ext autoreload\n",
    "%autoreload 2\n",
    "\n",
    "from model_utils import train_model, split_data, split_branches, get_model, set_pretrained_model_dropout, get_dataset, ModelSeeder\n",
    "from config import Config\n",
    "import json\n",
    "import matplotlib.pyplot as plt\n",
    "%matplotlib inline\n",
    "import math\n",
    "import random\n",
    "import time\n",
    "import onnx\n",
    "import logging\n",
    "from onnx_model_manager import OnnxModelManager\n",
    "from onnxruntime.quantization import quantize_dynamic, QuantType\n",
    "import os\n",
    "import datasets\n",
    "import torch\n",
    "import transformers\n",
    "from transformers import AutoTokenizer, AutoModelForCausalLM\n",
    "from model_manager import ModelManager"
   ]
  },
  {
   "cell_type": "code",
   "execution_count": 2,
   "id": "6c6b87e8-66eb-4779-89a5-a8d7aad4376f",
   "metadata": {},
   "outputs": [],
   "source": [
    "saved_model_path = os.path.join(\"models\", \"awsw_mixed\")\n",
    "saved_model_onnx_path = os.path.join(\"models\", \"awsw_onnx\")\n",
    "if not os.path.exists(os.path.join(saved_model_path, \"special_tokens_map.json\")):\n",
    "    print(\"Copying config files from huggingface (needed for conversion)... WARNING: this assumes the structure of the model isn't changed!\")\n",
    "    !cd $saved_model_path && git clone https://huggingface.co/EleutherAI/gpt-neo-125M\n",
    "    !cp -n $saved_model_path/gpt-neo-125M/* $saved_model_path\n",
    "    !rm -rf $saved_model_path/gpt-neo-125M\n",
    "if not os.path.exists(os.path.join(saved_model_onnx_path, \"model.onnx\")):\n",
    "    !python3 -m transformers.onnx --model=$saved_model_path --feature=causal-lm-with-past $saved_model_onnx_path"
   ]
  },
  {
   "cell_type": "code",
   "execution_count": 3,
   "id": "a3fe1e14-e2a5-4fa9-a331-ae156a8967e2",
   "metadata": {},
   "outputs": [],
   "source": [
    "def optimize_onnx():\n",
    "    model_quant = os.path.join(saved_model_onnx_path, \"model_quant.onnx\")\n",
    "    if not os.path.exists(model_quant):\n",
    "        model_fp32 = os.path.join(saved_model_onnx_path, \"model.onnx\")\n",
    "        model_opt = os.path.join(saved_model_onnx_path, \"model-opt.onnx\")\n",
    "        quantized_model = quantize_dynamic(model_fp32, model_quant, weight_type = QuantType.QInt8)\n",
    "        #!rm $model_opt\n",
    "optimize_onnx()"
   ]
  },
  {
   "cell_type": "code",
   "execution_count": 4,
   "id": "0b3ae8b2-8518-4071-9e7b-bfdd52087a75",
   "metadata": {},
   "outputs": [
    {
     "name": "stdout",
     "output_type": "stream",
     "text": [
      "Pretrained model loaded on cuda:0\n"
     ]
    }
   ],
   "source": [
    "# Tell pytorch to run this model on the GPU.\n",
    "device_name = \"cuda:0\" if torch.cuda.is_available() else \"cpu\"\n",
    "device = torch.device(device_name)\n",
    "\n",
    "onnx_model_manager = OnnxModelManager(os.path.join(saved_model_onnx_path, \"model-opt.onnx\"))\n",
    "onnx_model_manager_quant = OnnxModelManager(os.path.join(saved_model_onnx_path, \"model_quant.onnx\"))\n",
    "tokenizer = AutoTokenizer.from_pretrained('EleutherAI/gpt-neo-125M')\n",
    "model = AutoModelForCausalLM.from_pretrained(saved_model_path)\n",
    "model.to(device)\n",
    "model.eval()\n",
    "model_manager = ModelManager(model=model, tokenizer=tokenizer, device=device)\n",
    "print(f\"Pretrained model loaded on {device_name}\")"
   ]
  },
  {
   "cell_type": "code",
   "execution_count": 5,
   "id": "ed6291ed-7153-4904-826b-fb64f88fdaea",
   "metadata": {},
   "outputs": [
    {
     "name": "stdout",
     "output_type": "stream",
     "text": [
      "ONNX: In my dreams, I'm a dragoness who dreams about fire, dragoness and dragoness, but I don't think I've ever told a dragoness about these things. I don't know what I'm supposed to do with them, but I'm afraid they're not quite as good as I thought. I know they're not quite as good, but they're just myths. I'm afraid they're not quite as good, but they're good. I'm afraid they're not quite as good, but they're good. I'm afraid they're not quite as good, but they're good. I'm afraid they're not quite as good, but they're\n",
      "ONNX (Quantized): In my dreams, I'm a dragon. I dream of people I met in the past, but I don't think I can remember them well enough to know what they actually mean.\"<d3d3n<p><color=#ffff00ff}I've met a lot of people, and I think they're crazy.\"<d3d3n<p><color=#ffff00ff}I've met a lot of people, and I think they're crazy.\"<d3n3n3<msgn \"They don't know what they're talking about, do they?\"<|endoftext|>\n",
      "PyTorch: In my dreams, I'm a dragon. I dream of fire, but I don't have one. I don't have one. I don't have a dragon, but I've got one. I don't know if I want to have one, but I've got one. I don't want to embarrass myself if I don't have one, but I don't think I'll have much time for you if you don't want to meet me, but I'll keep you posted.\"<d><scn>adineapt<msg>Ad \"I'm sorry, but I don't think I'll be able to attend\n",
      "----------------------------------------------------------------------------------------------------\n",
      "ONNX: In my dreams, I'm a dragoness who dreams about fire, dragoness and dragoness, but I don't know what to think about these dreams, and I don't know if they can be quite like that. I don't know, but they do have a lot of telling them off, and I'm sure they have some good ideas in mind.\"<|endoftext|>\n",
      "ONNX (Quantized): In my dreams, I'm a dragon. I dream of people I met in the past, but I don't think I can explain it better than them. I don't have a dragon, but I have a human dragon, and I don't think I'd call it a dragon. I think it's just a dragon, but I'm sure it's not quite as big as a dragon, but I think it's quite big.\"<d>I don't think it's quite as big and ugly as a dragon, but I can tell you it's not quite as big as a dragon, though it can get quite funny talking.\"<|endoftext|>\n",
      "PyTorch: In my dreams, I'm a dragon, and I don't think I've seen a dragon before.\"<d><scn>black<msg>n \"I can't tell if you're afraid of me, but you know it's quite a sightseeing thing to do.\"<d><scn>black<msg>n \"I suppose you're right.\"<d><scn>black<msg>n \"I suppose you're right.\"<d><scn>black<msg>n \"I suppose I'm right.\"<d><scn>black<msg>n \"The only reason I could\n",
      "----------------------------------------------------------------------------------------------------\n"
     ]
    }
   ],
   "source": [
    "prompt = \"In my dreams, I'm a dragon\"\n",
    "for i in range(2):\n",
    "    print(\"ONNX:\", onnx_model_manager.say_raw(prompt, do_sample=True))\n",
    "    print(\"ONNX (Quantized):\", onnx_model_manager_quant.say_raw(prompt, do_sample=True))\n",
    "    print(\"PyTorch:\", model_manager.say_raw(prompt, 50, 0.7))\n",
    "    print('-' * 100)"
   ]
  },
  {
   "cell_type": "markdown",
   "id": "8c9396c5-9837-4c77-9011-1ac48b711286",
   "metadata": {
    "id": "unxN7nYd2gOM",
    "tags": []
   },
   "source": [
    "# Testing\n",
    "\n",
    "We created a few past (for context) + present prompts (player input) and see the different reactions. This way, we can test the models across different iterations.\n",
    "The first test involves a old prompt to compare the pre-trained model with the one trained on AWSW. Did it manage to store it's data well? Is it able to write down things that have nothing to do with AWSW? (So we know we didn't overfit)."
   ]
  },
  {
   "cell_type": "markdown",
   "id": "225c3279-83c5-4d81-b333-5d9450ad1a62",
   "metadata": {},
   "source": [
    "**This test generates boring and repetetive** replies! It's because we use no good sampling algorithm, but it does give us a indication of what the model has learned!"
   ]
  },
  {
   "cell_type": "code",
   "execution_count": 6,
   "id": "01cf23db-6013-4ff4-8a4f-effddd883295",
   "metadata": {},
   "outputs": [
    {
     "name": "stdout",
     "output_type": "stream",
     "text": [
      "Prompt: How are you?\n",
      "[Pytorch] Reply: park2<msg>Ry \"I'm not sure, but I'm glad you're here. I'm glad you're here. I'm glad you're here. I'm glad you're here. I'm glad you're here. I'm glad you're here. I'm glad you're here. I'm glad you're here. I'm glad you're here. I'm glad you're\n",
      "\n",
      "[ONNX] Reply: park2<msg>Ry \"Oh, I'm fine.\"<d><scn>park2<msg>Ry \"I'm not sure if I'm ready to do this, but I'm sure you're aware.\"<|endoftext|>\n",
      "\n",
      "[ONNX Quantized] Reply: park2<msg>Ry \"Do you know what I'm doing here?\"<p><msg>c \"I'm sorry, but I don't think I'm ready to do this.\"<d><scn>park2<msg>Ry \"Alright, I'll see you later.\"<|endoftext|>\n",
      "\n",
      "----------\n",
      "Prompt: What do you think of Lorem?\n",
      "[Pytorch] Reply: park2<msg>Ad \"I think he's funny.\"<|endoftext|>\n",
      "\n",
      "[ONNX] Reply: park2<msg>Ad \"I think he's funny.\"<|endoftext|>\n",
      "\n",
      "[ONNX Quantized] Reply: park2<msg>Ad \"I think he is funny.\"<d><scn>park2<msg>Ad \"I think he is funny.\"<|endoftext|>\n",
      "\n",
      "----------\n",
      "Prompt: Oh my god, Adine. What is this?\n",
      "[Pytorch] Reply: adineapt<msg>Ad \"Well, I'm not sure, but I'm afraid I don't.\"<d><scn>adineapt<msg>Ad \"I see.\"<|endoftext|>\n",
      "\n",
      "[ONNX] Reply: adineapt<msg>Adineapt<msg>Adineapt<msg>Adineapt<msg>Adineapt<msg>Adineapt<msg>Adineapt<msg>Adineapt<msg>Adineapt<msg>Adineapt<msg>Adineapt<msg>Adineapt<msg>Adineapt<msg>Adineapt<msg>Adineapt<msg>Adineapt<msg>Adineapt<msg>Adineapt<msg>Adineapt<msg>Adineapt<msg>Adineapt<msg>Adine\n",
      "\n",
      "[ONNX Quantized] Reply: adine? Adine? She told me you wouldn't mind if I told you I'm a god, but I'm afraid I don't.\"<d><scn>adine? I don't think I'd mind if I told you I'm a god, but I'm afraid I don't.\"<p><msg>c \"I'm afraid I don't.\"<d><scn>adine? I don't think I'd mind if I told you I'm a god, but I'm afraid I don't.\"<p><msg>c \"I'm afraid I don't.\"<d><sc\n",
      "\n",
      "----------\n",
      "Prompt: What will we do here?\n",
      "[Pytorch] Reply: darker<msg>An \"I'm not sure, but I'll take it.\"<d><scn>darker<msg>An \"I'm not sure, but I'll take it.\"<|endoftext|>\n",
      "\n",
      "[ONNX] Reply: facin<msg>An \"We'll see you around.\"<|endoftext|>\n",
      "\n",
      "[ONNX Quantized] Reply: farm2<msg>Sebastian's lab.\"<p><msg>c \"What do you think of Anna?\"<d><scn>farm2<msg>Sebastian's lab.\"<p><msg>c \"What do you think of Anna?\"<d><scn>farm2<msg>Sebastian's lab.\"<|endoftext|>\n",
      "\n",
      "----------\n"
     ]
    }
   ],
   "source": [
    "prompts = [\n",
    "    ('<p><msg>c \"Hey Remy!\"<d><scn>park2<msg>Ry \"Hello, [player_name].\"', \"How are you?\"),\n",
    "    ('<p><msg>c \"I was with Lorem today.\"<d><scn>park2<msg>Ad \"Very nice.\"', \"What do you think of Lorem?\"),\n",
    "    ('<p><msg>m \"In Tatsu park, Adine and I sat down.\"', \"Oh my god, Adine. What is this?\"),\n",
    "    ('<p><msg>m \"I sat down on a chair in Anna\\'s lab.\"', \"What will we do here?\"),\n",
    "]\n",
    "\n",
    "for (past, prompt) in prompts:\n",
    "    print(f\"Prompt: {prompt}\")\n",
    "    reply = model_manager.say(past, prompt)\n",
    "    print(f\"[Pytorch] Reply: {reply}\\n\")\n",
    "    reply = onnx_model_manager.say(past, prompt)\n",
    "    print(f\"[ONNX] Reply: {reply}\\n\")\n",
    "    reply = onnx_model_manager_quant.say(past, prompt)\n",
    "    print(f\"[ONNX Quantized] Reply: {reply}\\n\")\n",
    "    print(\"-\" * 10)"
   ]
  },
  {
   "cell_type": "markdown",
   "id": "70a9ea4d-a30f-4c1a-a1f6-d5badff70453",
   "metadata": {},
   "source": [
    "# Sampling test\n",
    "\n",
    "This is gonna be interesting!"
   ]
  },
  {
   "cell_type": "code",
   "execution_count": 7,
   "id": "9216177f-f03b-4358-8b5c-7eb0dc663af1",
   "metadata": {},
   "outputs": [
    {
     "name": "stdout",
     "output_type": "stream",
     "text": [
      "Prompt: How are you?\n",
      "[Pytorch] Reply: park2<msg>Ry \"I'm not sure, but I'm afraid I don't.\"<d><scn>park2<msg>Ry \"I suppose that's true.\"<d><scn>park2<msg>Ry \"Well, if you need anything, I'll do it.\"<|endoftext|>\n",
      "\n",
      "[ONNX] Reply: park2<msg>Ry \"Oh, I am not sure, but I am afraid that's not too bad. Do you have any news about my family?\"<d><scn>park2<msg>Ry \"No. I'm sorry, but I couldn’t. I don‘t know what I would think if I wasn’t worried about you anymore.\"<d><scn>park2<msg>Ry \"Well, I know you don’t have plans to retire, and I know what I would do. What I know now is I don’t think I can\n",
      "\n",
      "[ONNX Quantized] Reply: park2<msg>Ry \"Do not know. I'm not sure if you have much experience in the park, though.\"<d><scn>park2<msg>Ry \"I have some experience in the park, and I'd like you to know where I come from, too!\"<p><msg>c \"Hey Bryce! What's up to do? What have ya done for us? You're the best!\"<d><scn>park2<msg>Br \"I'm sure I have more to do, but keep in mind I'm doing what I can do to make sure it's all\n",
      "\n",
      "----------\n",
      "Prompt: What do you think of Lorem?\n",
      "[Pytorch] Reply: park2<msg>Ad \"I think he's good looking.\"<|endoftext|>\n",
      "\n",
      "[ONNX] Reply: park2<msg>Ad \"I dont like him, but he do like you, and he do like a little. I suppose you're not quite sure yet, but I guess we'll see.\"<|endoftext|>\n",
      "\n",
      "[ONNX Quantized] Reply: park2<msg>Ad \"He is funny!\"<p><msg>c \"What's your job here, then, and where am I going?\"<d><scn>park2<msg>Ad \"I'm here to learn more about your kind.\"<p><msg>c \"How does it look?\"<d><scn>park2<msg>Ad \"It looks like a dragoness.\"<d><scn>park2<msg>Ad \"It's a shame you can't tell people about it, though.\"<p><msg>c \"I'm sorry I can't tell\n",
      "\n",
      "----------\n",
      "Prompt: Oh my god, Adine. What is this?\n",
      "[Pytorch] Reply: o<msg>Ad \"It's the word \"creator.\"<d><scn>o<msg>Sb \"Well, I know fully well what it means.\"<d><scn>o<msg>Sb \"What do you think is so important to you?\"<d><scn>o<msg>Sb \"It's not quite the same thing, but I suppose you have\n",
      "\n",
      "[ONNX] Reply: o<msg>n \"I've got some very good stuff for Adine, but I'll be waiting for it to finish, so I know what's going to happen.\"<d><scn>o<msg>n \"I'm not so sure, I suppose, and I won‘t wait for it to finish. I suppose I‘d be waiting in the wings for it to get up there. It might not take me so much to realize that I have to fly around and do all this, but I have to fly, right?\"<d><scn>o<msg>n \"I\n",
      "\n",
      "[ONNX Quantized] Reply: adine? Adine? She told me you wouldn't mind if I told you I'm a god, but I'm afraid I don't.\"<p \"I'm afraid I don't.\"<d><scd><scd><scd><scd><msg>m \"I'm afraid I don't.\"<p><msg=c \"(I'm afraid I don't.\"<p><msg>m \"[I'm afraid I don't.\"<msg>m \"I'm afraid I don't.\"<p><msg=d><scn><scd><scn><msg=m \"I'm\n",
      "\n",
      "----------\n",
      "Prompt: What will we do here?\n",
      "[Pytorch] Reply: darker<msg>An \"We'll go to the production facility.\"<p><msg>c \"What's with the magazine?\"<d><scn>darker<msg>An \"I'm sure you're aware that I'm not a fan of going to the production facility.\"<|endoftext|>\n",
      "\n",
      "[ONNX] Reply: facin<msg>An \"We've already found a lot of dead animals, so I think the best way for me to go is through the facility.\"<|endoftext|>\n",
      "\n",
      "[ONNX Quantized] Reply: farm2<msg>Sebastian's lab.\"<|endoftext|>\n",
      "\n",
      "----------\n"
     ]
    }
   ],
   "source": [
    "for (past, prompt) in prompts:\n",
    "    print(f\"Prompt: {prompt}\")\n",
    "    reply = model_manager.say(past, prompt, top_k = 50, top_p = 0.7)\n",
    "    print(f\"[Pytorch] Reply: {reply}\\n\")\n",
    "    reply = onnx_model_manager.say(past, prompt, do_sample = True)\n",
    "    print(f\"[ONNX] Reply: {reply}\\n\")\n",
    "    reply = onnx_model_manager_quant.say(past, prompt, do_sample = True)\n",
    "    print(f\"[ONNX Quantized] Reply: {reply}\\n\")\n",
    "    print(\"-\" * 10)"
   ]
  },
  {
   "cell_type": "markdown",
   "id": "475c3f1c-91c0-4585-92b6-fab86678834c",
   "metadata": {
    "tags": []
   },
   "source": [
    "# RP test\n",
    "Testing out the injected roleplay actions"
   ]
  },
  {
   "cell_type": "code",
   "execution_count": 8,
   "id": "ba8b6dcd-9723-4832-994e-c39411df2507",
   "metadata": {},
   "outputs": [
    {
     "name": "stdout",
     "output_type": "stream",
     "text": [
      "[Pytorch] Visit Lorem -> lorem<msg>Ip \"I don't know, but I'll give it to you later in the book if you're interested.\"<|endoftext|>\n",
      "[ONNX] Visit Lorem -> lorem<msg>m \"Go back.\"<d><scn>lorem<msg>m \"Go back.\"<|endoftext|>\n",
      "[ONNX Quantized] Visit Lorem -> lorem<msg>m \"I'll show you the computer, but don't tell him it's too bad.\"<|endoftext|>\n",
      "----------\n",
      "[Pytorch] Meet with Lorem -> lorem<msg>Lo \"Oh, [player_name]!\"<p><msg>c \"What is it?\"<d><scn>lorem<msg>Lo \"I'm sorry, but I'm free.\"<d><scn>lorem<msg>Ip \"If you don't want to do this, you don't have to.\"<d><scn>lorem<msg>Ip \"I'll leave you to do this, but I won't let you do this.\"<d\n",
      "[ONNX] Meet with Lorem -> lorem<msg>Lo \"Oh, it's you!\"<d><scn>lorem<msg>Lo \"Hey!\"<d><scn>lorem<msg>Lo \"I'm so glad to see you.\"<d><scn>lorem<msg>Lo \"You're such a happy child, too.\"<d><scn>lorem<msg>Lo \"I know you're not quite alone, but I'm not alone.\"<d><scn>lorem<msg>Lo \"You're right. I'm sorry, but I understand. I don't think it\n",
      "[ONNX Quantized] Meet with Lorem -> lorem<msg>m \"Hey, Lorem! I think you're going!\"<d><scn>lorem<msg>I'm Lorem! I'm Lorem! I'm Lorem! I'm Lorem! I'm Lorem! I'm Lorem!\"<|endoftext|>\n",
      "----------\n",
      "[Pytorch] Visit Adine -> adineapt<msg>Ad \"Hey [player_name]!\"<|endoftext|>\n",
      "[ONNX] Visit Adine -> adine<msg>Ad \"Oh, I think I see it.\"<|endoftext|>\n",
      "[ONNX Quantized] Visit Adine -> adine<msg>Adine<msg>Adine<msg>Adine<msg>Adine<msg>Adine<msg>Adine<msg>Adine<msg>Adine<msg>Adine<msg>Adine<msg>Adine<msg>Adine<msg>Adine<msg>Adine<msg>Adine<msg>Adine<msg>Adine<msg>Adine<msg>Adine<msg>Adine<msg>Adine<msg>Adine<msg>Adine<msg>Adine<msg>Adine<\n",
      "----------\n",
      "[Pytorch] Fight Maverick -> o<msg>m \"Maverick dodges a fish's claws and then sunk into the water, claws on the surface, only to reappear with a fish in the claws. When the fish bites the surface, it can grab the fish and reel in order to catch the fish. When the fish bites the surface, it can grab it and reel in order to catch the fish. When the fish bites the claws, it can grab it and reel in order to catch the fish. When the fish bites the claws, it can grab it and\n",
      "[ONNX] Fight Maverick -> Mv \"I'm not kidding, I'm telling ya!\"<d><scn>Mv \"I'm telling ya!\"<d><scn>Mv \"I'm not kidding you, I am telling you!\"<d><scn>Mv \"You're not telling people what I know is going on!\"<d><scn>Mv \"I know, I understand. I'm telling you!\"<d><scn>Mv \"You're telling me you're watching this.\"<d><scn>Mv \"I'm watching you!\"<d><scn>Mv\n",
      "[ONNX Quantized] Fight Maverick -> farm2<msg>Mv \"I don't think I can tell you.\"<d><scn>farm2<msg>Mv \"You don't have to worry about Maverick.\"<d><scn>farm2<msg>Mv \"I'm sure he is.\"<d><scn>farm2<msg>Mv \"Well done.\"<d><scn>farm2<msg>Mv \"I'm sure he is.\"<d><scn>farm2<msg>Mv \"Well done.\"<d><scn>farm2<msg>Mv\n",
      "----------\n",
      "[Pytorch] Fight Adine -> adine<msg>m \"I didn't hesitate to go ahead and poke around in a hurry, but I noticed that Adine's head was lying on the ground, covered in a red blotchating lot, which I confirmed as a confirmed serial killer was quite shocking.\"<d><scn>adine<msg>Ad \"I'm afraid that's not so bad, but I'm glad to see you again.\"<|endoftext|>\n",
      "[ONNX] Fight Adine -> adine<msg>m \"adine<p><msg>, \"Adine\"<d>m \"adine<p><msg>m \"Adine<p><scn><msg>m \"Adine<p><msg>m \"Adine<p><scn>o<msg>m \"Adine<p><msg>m \"What? I'm not going to help you!\"<d><scn>o<msg>m \"What if I told you that I am not a dragon and do not have a dragon in mind, but I'm a dragon, too?\"<d\n",
      "[ONNX Quantized] Fight Adine -> adine<msg>m \"I didn't hesitate to tell you, as I had done so many times, that you were not going to do this.\"<d><scn>adine<msg>Adine<msg>Adine<msg>Adine<msg>Adine<msg>Adine<msg>Adine<msg>Adine<msg>Adine<msg>Adine<msg>Adine<msg>Adine<msg>Adine<msg>Adine<msg>Adine<msg>Adine<msg>Adine<msg>Adine<msg>\n",
      "----------\n",
      "[Pytorch] Attack Adine -> adine<msg>m \"Adine barely avoids the attack, but managed to get up and quickly hit him with a sharp weapon. He stumbled and fell to the ground with a dull thud, followed by a flurry of feet, followed by a flurry of feet followed by a flurry of feet. The young dragon suddenly dove behind, holding a wooden wooden wooden model fall on the ground with his claws. He crouched down and raised it to his nose, holding the wooden claws on the ground between two feet. When the claws extended, he raised\n",
      "[ONNX] Attack Adine -> adine<msg>m \"I'm worried that she'll stay outside for too long, and I'm afraid I'll have to do better than just do this for now.\"<d><scn>adine<msg>Ad \"I'll be back in charge of the Adine investigation, but I'm afraid I won't be so sure.\"<|endoftext|>\n",
      "[ONNX Quantized] Attack Adine -> adine<msg>m \"Go ahead and starve.\"<d><scn>adine<msg>m \"I'll keep that in mind.\"<d><scn>adine<msg>m \"I'll do it.\"<|endoftext|>\n",
      "----------\n",
      "Lowercase test\n",
      "[Pytorch] visit Lorem -> lorem<msg>Lo \"Oh, [player_name]!\"<d><scn>lorem<msg>Ip \"I'm sorry, [player_name]. I just don't know what to say.\"<d><scn>lorem<msg>Ip \"What? How?\"<d><scn>lorem<msg>Ip \"I don't know. I don't think I want to talk about this right now.\"<d><scn>lorem<msg>Ip\n",
      "[ONNX] visit Lorem -> lorem<msg>m \"I told you I could appreciate it a little. It's a little fancy, but it's still quite good.\"<|endoftext|>\n",
      "[ONNX Quantized] visit Lorem -> lorem<msg>m \"Lorem came to meet her. She told Lorem that she would do anything she could to make it look like real. She gave him the shocker, and after that, the dragon moved away from us and went to sleep.\"<d><scn>lorem<msg>m \"Then she gave him the pizza party's pizza, and after some pizza we had, and it started getting dark outside. Lorem told me that it was time to leave and go to sleep for today. I couldn't go to the couch, but I couldn't make it out. I couldn't sleep\n",
      "[Pytorch] visit lorem -> lorem<msg>Lo \"Hey, [player_name]!\"<|endoftext|>\n",
      "[ONNX] visit lorem -> lorem<msg>m \"Lorem? Is that him? Is that you?\"<d><scn>lorem<msg>Ip \"Hey, I know you, I'm sorry. I'm sorry. I'm not sure how I could explain this, but I'm sure you are aware of that. Well done, you're right, it's not him, but you do look kinda messed up.\"<d><scn>lorem<msg>Ip \"Well done, it's not him, but you're right, it's not the him who's supposed to answer the question.\"<d\n",
      "[ONNX Quantized] visit lorem -> lorem<msg>m \"I watched the dragon Lorem do this.\"<d><scn>lorem<msg>m \"After a few minutes of reading, I saw that the dragon had moved andhatned the outside world to look at the humans in real danger. As a result of this, it was obvious that the humans in the dragon's world were watching us.\"<d><scn>lorem<msg>I saw that the humans in the dragon's world were watching us, and I saw that the dragon's wings were dropping off, making it look as if the humans in the dragon's world\n",
      "----------\n",
      "[Pytorch] meet with Lorem -> lorem<msg>Lo \"Oh, [player_name]!\"<d><scn>lorem<msg>Ip \"I don't know. I'm not sure if I can do this. I don't have a pen.\"<d><scn>lorem<msg>Ip \"Well, I don't think you'll have to do all of that again. I'm afraid I don't.\"<d><scn>lorem<msg>Ip \"I don't know. I'm not\n",
      "[ONNX] meet with Lorem -> lorem<msg>Lo \"Hey, I think I've heard of you two in this town. And you're the one I want to talk about with.\"<d><scn>lorem<msg>Lo \"I want to hear from you.\"<d><scn>lorem<msg>Lo \"If you don't want to hear from me anymore.\"<|endoftext|>\n",
      "[ONNX Quantized] meet with Lorem -> lorem<msg>m \"Hey, Lorem! You're here?\"<p><msg>c \"Hey, Lorem!\"<d><scn>lorem<msg>m \"Hey!\"<d><scn>lorem<msg>m \"Hey, Lore!\"<d><scn>lorem<msg>m \"Now I know why this happened.\"<d><scn>lorem<msg>m \"Why didn't I think of that when I arrived? I couldn't have come in early to get ready to fly in this way.\"<d><scn>lorem\n",
      "[Pytorch] meet with lorem -> lorem<msg>Lo \"Hey [player_name]!\"<|endoftext|>\n",
      "[ONNX] meet with lorem -> lorem<msg>Lo \"meet with lorem\"<d><scn>lorem<msg>Lo \"lorem's office\"<d><scn>lorem<msg>Lo \"lorem's office!\"<d><scn>lorem<msg>Lo \"Hey! I'm Lorem! What are you doing?\"<d><scn>lorem<msg>Lo \"Looking at the paper, Lorem, do you see the dragon in the sky? I'm so sorry, but I don't think I want to tell you this, but I don't think I can explain\n",
      "[ONNX Quantized] meet with lorem -> lorem<msg>m \"l \"meet with lorem\"<d><scn>lorem<p><scn>lorem<msg>m \"l \"l \"l \"l \"l \"l \"l \"meet with lorem\"<d><scn>lorem<msg>m \"Meet with lorem\"<d><scn>lorem<msg>m \"Meet with klutaru\"<d><scn>lorem<msg>m \"Go to mikuharu and meet mn \"Meet\"<d><scn>remyc<\n",
      "----------\n",
      "[Pytorch] visit Adine -> adine<msg>Ad \"I don't think I'd be able to do that, but I'm glad to have you on board.\"<p><msg>c \"I'm glad to have you on board.\"<d><scn>adine<msg>Ad \"Oh, really? I didn't know that was a thing I could do for you.\"<|endoftext|>\n",
      "[ONNX] visit Adine -> adine<msg>Adine<msg>Adine<msg>Adine<msg>Adine<msg>Adine<msg>Adine<msg>Adine<msg>Adine<msg>Adine<msg>Adine<msg>Adine<msg>Adine<msg>Adine<msg>Adine<msg>Adine<msg>Adine<msg>Adine<msg>Adine<msg>Adine<msg>Adine<msg>Adine<msg>Adine<msg>Adine<msg>Adine<msg>Adine<\n",
      "[ONNX Quantized] visit Adine -> adine<msg>Adine<msg>Adine<msg>Adine<msg>Adine<msg>Adine<msg>Adine<msg>Adine<msg>Adine<msg>Adine<msg>Adine<msg>Adine<msg>Adine<msg>Adine<msg>Adine<msg>Adine<msg>Adine<msg>Adine<msg>Adine<msg>Adine<msg>Adine<msg>Adine<msg>Adine<msg>Adine<msg>Adine<msg>Adine<\n",
      "[Pytorch] visit adine -> adine<msg>Ad \"Hey [player_name]! How are you?\"<|endoftext|>\n",
      "[ONNX] visit adine -> adine<msg>Adine<msg>Adine<msg>Adine<msg>Adine<msg>Adine<msg>Adine<msg>Adine<msg>Adine<msg>Adine<msg>Adine<msg>Adine<msg>Adine<msg>Adine<msg>Adine<msg>Adine<msg>Adine<msg>Adine<msg>Adine<msg>Adine<msg>Adine<msg>Adine<msg>Adine<msg>Adine<msg>Adine<msg>Adine<\n",
      "[ONNX Quantized] visit adine -> adine<msg>Adine<msg>Adine<msg>Adine<msg>Adine<msg>Adine<msg>Adine<msg>Adine<msg>Adine<msg>Adine<msg>Adine<msg>Adine<msg>Adine<msg>Adine<msg>Adine<msg>Adine<msg>Adine<msg>Adine<msg>Adine<msg>Adine<msg>Adine<msg>Adine<msg>Adine<msg>Adine<msg>Adine<msg>Adine<\n",
      "----------\n",
      "[Pytorch] fight Maverick -> o2<msg>m \"Maverick dodges Maverick's claws and comes towards Reza, only to find Reza, only to find Reza, only to find Reza, only to find Reza, only to find Reza, only to find Reza, only to find Reza, only to find Reza, only to find Reza, only to find Reza, only to find Reza, only to find Reza, only to find Reza, only to find Reza, only to find Reza\n",
      "[ONNX] fight Maverick -> Mv \"Maverick\"<d><scn>Mv \"Maverick\"<d><scn>Mv \"Vara\"<d><scn>Mv \"Vara \"Vara\"<d><scn>Mv \"Vara\"<d><scn>Mv \"Vara\" \"Vara\"<d><msg>Mv \"[Mv \"I told you to go to the portal and go to the right place.\"<d><scn>Mv \"The portal and the portal will be open for anyone to use it. Anyone can use the\n",
      "[ONNX Quantized] fight Maverick -> Mv \"Maverick? What is it?\"<d><scn>Mv \"It's an uphill struggle that prevents the crowds from going in. It's usually done in the middle, but usually I see crowds through the portal, through the curtains, through the portal and in the wings, through the portal.\"<d><scn>Mv \"I don’t think I can do this.\"<|endoftext|>\n",
      "[Pytorch] fight maverick -> o2<msg>m \"After a few seconds, the trigger went off and the water started to trickle red from the earth's surface. I realized that I would have to go after the water had completely washed off the earth and found some new sand. I realized that I could hardly touch the earth, but I did not think I would want to do this to me. I looked around for my companion, but I couldn't see much. I must have been there for some time, but I couldn't make out anything after all. I\n",
      "[ONNX] fight maverick -> o2<msg>m \"I didn't know what to think about that, but I'm afraid I only did as I was supposed to do. If I didn't do what I was supposed to, I could only do what was necessary for the best of me to do what I could. In the end I had nothing to lose, but I had to find ways to keep myself from being killed by a monster who had nothing to do with me, nothing more.\"<|endoftext|>\n",
      "[ONNX Quantized] fight maverick -> maverick<msg>m \"My claws suddenly broke and came to rest on Reza's neck. I realized that the claws were still hovering over him, but I couldn't see anything through the water, and realized I couldn‘t do anything about the claws. I realized that the claws were still hovering over him, and I realized that I wasn't sure if he really was worried, and it turned out he couldn't be that worried, and it didn’t look like he had a lot of work to do. He probably didn’t want the fish to grab at all, so I dove away from\n",
      "----------\n",
      "[Pytorch] fight Adine -> adine<msg>m \"I went to the shelf where I found the gun, aiming at Adine. I quickly dove behind the box, hiding it in one of the pockets before I saw it. I quickly dove behind the box, hiding it in one of the pockets before I saw it. I waited a few moments outside, aiming at Adine. I quickly dove behind the box, hiding it in one of the pockets before I saw it. I waited a few moments outside, aiming at Adine. I quickly dove behind the box,\n",
      "[ONNX] fight Adine -> adine<msg>m \"Adine dodges the dragon's head with a claw, and comes up to us with a sharp pain in her eyes.\"<d><scn>adine<msg>Ad \"What's the deal you're talking about?\"<|endoftext|>\n",
      "[ONNX Quantized] fight Adine -> adine<msg>m \"Ad \"I'm Adine, and I'm worried about you.\"<|endoftext|>\n",
      "[Pytorch] fight adine -> adine<msg>m \"Adine's head slumped and fell to the ground. She was dead.\"<d><scn>np1r<msg>m \"She turned to me and grabbed my gun, which I pointed at it with an audible gun. I quickly dove behind the box, aiming at the gun at her. I quickly dove behind the box, but as I went up, I noticed that it was her first attempt at catch a glimpse, but I couldn't make out anything after all.\"<d><scn>\n",
      "[ONNX] fight adine -> adine<msg>m \"Adine\"<d><scn>adine<msg>m \"Adine\"<d><scn>adine<msg>m \"Adine's wounds are a confirmed case, and we'll know more in time than we do now. You'll be right in the beginning of the \"adine\" series, right here, and I'm gonna be back!\"<d><scn>adine<msg>m \"I'll wait until you can see that I'm doing this right now.\"<|endoftext|>\n",
      "[ONNX Quantized] fight adine -> adine<msg>m \"I went to the trash to clean out her trash, but I couldn't do much else, so I tried to put some trash away. I didn’t think it was very funny, but I knew it was quite funny, and I wasn't sure if I‘d mind if someone like that came to mind. I didn’t think it was very funny if I told people I didn‘t think it was very funny to do, but if you had to admit I didn't mind it a lot. After all I loved that it wasn”d, it wasn't\n",
      "----------\n",
      "[Pytorch] attack Adine -> adine<msg>m \"I went to the shelf where I found the pizza, but I noticed that Adine's pizza looked rather big and I realized that it was just Adine's pizza. I took the pizza out of its base and put it in. I took the pizza out of the water, put it in, put the pizza into the pizza, put the pizza in the pizza, put the pizza in the pizza, put the pizza in the pizza, put the pizza in the pizza, put the pizza in the pizza, put the\n",
      "[ONNX] attack Adine -> adine<msg>m \"Remy's head came down and lodged itself in a hole in a sand bed. She screamed and tried to stop the fish, only to catch it in the fall of the water, but the fall of the fish broke the seal, causing the fish to fall over and grab it. While it fell, a hail knocked the water off their feet and knocked the fish to the ground.\"<d><scn>beach<msg>m \"As she screamed and tried to fall, the water suddenly shattered through the air and onto the ground. While it broke, the fall of the stone knocked it\n",
      "[ONNX Quantized] attack Adine -> adine<msg>m \"I looked around and saw that Adine was dead and that Adine was watching me and that Adine's words had only strengthened my resolve. She told me I could do better.\"<d><scn>adine<msg>m \"I looked around for Adines and saw they were watching me, waiting for me to go through the door. I quickly dove behind the water and grabbed a shelf that I didn't think I could trust and I dove into it, holding it up there.\"<d><scn>adine<msg>m \"I looked around for Adine,\n",
      "[Pytorch] attack adine -> adine<msg>Ad \"attack adine\"<d><scn>adine<msg>Ad \"go to adine\"<d><scn>adine<msg>Ad \"adine\"<d><scn>adine<msg>Ad \"adine\"<d><scn>adine<msg>Ad \"go to adine\"<d><scn>adine<msg>Ad \"adine\"<d><scn>adine<msg>Ad \"adine\"\n",
      "[ONNX] attack adine -> adine<msg>Ad \"adite\"<d><scn>adine<msg>Ad \"Adite\"<d><scn>adine<msg>Ad \"Ad \"Adite\" is a very good card, but you'll have to keep it around for it's not that hard.\"<|endoftext|>\n",
      "[ONNX Quantized] attack adine -> adine<msg>m \"adine\"<d><scn>adine<msg>m \"adine\"<d><scn>adine<msg>m \"aduine\"<d><scn>aduine<msg>m \"Ad \"adu \"remy\"<d><scn>adu \"remy\"<d><scn>adu \"remy\"<d><scn>adu \"dead\"<d><scn>dead<msg>m \"dead\"<d><scn>dead<msg>m \"remy\n",
      "----------\n"
     ]
    }
   ],
   "source": [
    "test_rps = [\n",
    "    \"Visit Lorem\",\n",
    "    \"Meet with Lorem\",\n",
    "    \"Visit Adine\",\n",
    "    \"Fight Maverick\",\n",
    "    \"Fight Adine\",\n",
    "    \"Attack Adine\"\n",
    "]\n",
    "\n",
    "for rp in test_rps:\n",
    "    print(f'[Pytorch] {rp} -> {model_manager.say(\"\", rp, top_k = 50, top_p = 0.7)}')\n",
    "    print(f'[ONNX] {rp} -> {onnx_model_manager.say(\"\", rp, do_sample = True)}')\n",
    "    print(f'[ONNX Quantized] {rp} -> {onnx_model_manager_quant.say(\"\", rp, do_sample = True)}')\n",
    "    print(\"-\" * 10)\n",
    "    \n",
    "print(\"Lowercase test\")\n",
    "\n",
    "for rp in test_rps:\n",
    "    rp = rp[0].lower() + rp[1:]\n",
    "    print(f'[Pytorch] {rp} -> {model_manager.say(\"\", rp, top_k = 50, top_p = 0.7)}')\n",
    "    print(f'[ONNX] {rp} -> {onnx_model_manager.say(\"\", rp, do_sample = True)}')\n",
    "    print(f'[ONNX Quantized] {rp} -> {onnx_model_manager_quant.say(\"\", rp, do_sample = True)}')\n",
    "    rp = rp.lower()\n",
    "    print(f'[Pytorch] {rp} -> {model_manager.say(\"\", rp, top_k = 50, top_p = 0.7)}')\n",
    "    print(f'[ONNX] {rp} -> {onnx_model_manager.say(\"\", rp, do_sample = True)}')\n",
    "    print(f'[ONNX Quantized] {rp} -> {onnx_model_manager_quant.say(\"\", rp, do_sample = True)}')\n",
    "    print(\"-\" * 10)"
   ]
  }
 ],
 "metadata": {
  "kernelspec": {
   "display_name": "Python 3 (ipykernel)",
   "language": "python",
   "name": "python3"
  },
  "language_info": {
   "codemirror_mode": {
    "name": "ipython",
    "version": 3
   },
   "file_extension": ".py",
   "mimetype": "text/x-python",
   "name": "python",
   "nbconvert_exporter": "python",
   "pygments_lexer": "ipython3",
   "version": "3.8.10"
  }
 },
 "nbformat": 4,
 "nbformat_minor": 5
}
