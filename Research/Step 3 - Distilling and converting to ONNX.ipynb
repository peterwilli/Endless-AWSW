{
 "cells": [
  {
   "cell_type": "markdown",
   "id": "a98b2c15-46b2-4b0f-9069-68cfe40d8dc0",
   "metadata": {
    "tags": []
   },
   "source": [
    "# Conversion to ONNX\n",
    "ONNX is a different format for running machine learning models. The ONNX format is much faster on CPU, sometimes 5 times as fast as PyTorch!\n",
    "\n",
    "While the EAWSW model is designed to be small, accurate and accessible, for some people it's still too much to run...\n",
    "\n",
    "Hosting the model as a free service for players is an option. An ONNX version of the model allows us to host the model on CPU yet have faster response times! Given that the model is made in a time with chip shortage, running on hardware I already have inside a server is efficient, scalable and cheaper.\n",
    "\n",
    "An important note is that ONNX doesn't execute logic by itself, and you have to do that yourself, `onnx_model_manager.py` intends to deal with this for us."
   ]
  },
  {
   "cell_type": "code",
   "execution_count": 1,
   "id": "916b7a9d-8687-4c2f-8278-6f83d9fabbfc",
   "metadata": {},
   "outputs": [],
   "source": [
    "%load_ext autoreload\n",
    "%autoreload 2\n",
    "\n",
    "from model_utils import train_model, split_data, split_branches, get_model, set_pretrained_model_dropout, get_dataset, ModelSeeder\n",
    "from config import Config\n",
    "import json\n",
    "import matplotlib.pyplot as plt\n",
    "%matplotlib inline\n",
    "import math\n",
    "import random\n",
    "import time\n",
    "import onnx\n",
    "import logging\n",
    "from onnx_model_manager import OnnxModelManager\n",
    "from onnxruntime.quantization import quantize_dynamic, QuantType\n",
    "import os\n",
    "import datasets\n",
    "import torch\n",
    "import transformers\n",
    "from transformers import AutoTokenizer, AutoModelForCausalLM\n",
    "from model_manager import ModelManager"
   ]
  },
  {
   "cell_type": "code",
   "execution_count": 2,
   "id": "6c6b87e8-66eb-4779-89a5-a8d7aad4376f",
   "metadata": {},
   "outputs": [
    {
     "name": "stdout",
     "output_type": "stream",
     "text": [
      "Using framework PyTorch: 1.10.1+cu113\n",
      "Overriding 1 configuration item(s)\n",
      "\t- use_cache -> True\n",
      "/usr/local/lib/python3.8/dist-packages/torch/onnx/utils.py:90: UserWarning: 'enable_onnx_checker' is deprecated and ignored. It will be removed in the next PyTorch release. To proceed despite ONNX checker failures, catch torch.onnx.ONNXCheckerError.\n",
      "  warnings.warn(\"'enable_onnx_checker' is deprecated and ignored. It will be removed in \"\n",
      "/usr/local/lib/python3.8/dist-packages/torch/onnx/utils.py:103: UserWarning: `use_external_data_format' is deprecated and ignored. Will be removed in next PyTorch release. The code will work as it is False if models are not larger than 2GB, Otherwise set to False because of size limits imposed by Protocol Buffers.\n",
      "  warnings.warn(\"`use_external_data_format' is deprecated and ignored. Will be removed in next \"\n",
      "/usr/local/lib/python3.8/dist-packages/transformers/models/gpt_neo/modeling_gpt_neo.py:556: TracerWarning: Converting a tensor to a Python boolean might cause the trace to be incorrect. We can't record the data flow of Python values, so this value will be treated as a constant in the future. This means that the trace might not generalize to other inputs!\n",
      "  assert batch_size > 0, \"batch_size has to be defined and > 0\"\n",
      "Validating ONNX model...\n",
      "\t-[✓] ONNX model outputs' name match reference model ({'present.6.key', 'present.8.value', 'present.1.value', 'present.7.key', 'present.8.key', 'present.7.value', 'present.9.value', 'present.11.value', 'present.2.key', 'present.3.value', 'present.3.key', 'present.1.key', 'present.10.value', 'present.2.value', 'present.0.key', 'present.5.value', 'present.11.key', 'present.4.value', 'logits', 'present.4.key', 'present.5.key', 'present.6.value', 'present.9.key', 'present.10.key', 'present.0.value'})\n",
      "\t- Validating ONNX Model output \"logits\":\n",
      "\t\t-[✓] (2, 8, 50257) matches (2, 8, 50257)\n",
      "\t\t-[x] values not close enough (atol: 1e-05)\n",
      "Traceback (most recent call last):\n",
      "  File \"/usr/lib/python3.8/runpy.py\", line 194, in _run_module_as_main\n",
      "    return _run_code(code, main_globals, None,\n",
      "  File \"/usr/lib/python3.8/runpy.py\", line 87, in _run_code\n",
      "    exec(code, run_globals)\n",
      "  File \"/usr/local/lib/python3.8/dist-packages/transformers/onnx/__main__.py\", line 77, in <module>\n",
      "    main()\n",
      "  File \"/usr/local/lib/python3.8/dist-packages/transformers/onnx/__main__.py\", line 70, in main\n",
      "    validate_model_outputs(onnx_config, tokenizer, model, args.output, onnx_outputs, args.atol)\n",
      "  File \"/usr/local/lib/python3.8/dist-packages/transformers/onnx/convert.py\", line 214, in validate_model_outputs\n",
      "    raise ValueError(\n",
      "ValueError: Outputs values doesn't match between reference model and ONNX exported model: Got max absolute difference of: 0.0003814697265625\n"
     ]
    }
   ],
   "source": [
    "saved_model_path = os.path.join(\"models\", \"awsw_mixed\")\n",
    "saved_model_onnx_path = os.path.join(\"models\", \"awsw_onnx\")\n",
    "if not os.path.exists(os.path.join(saved_model_path, \"special_tokens_map.json\")):\n",
    "    print(\"Copying config files from huggingface (needed for conversion)... WARNING: this assumes the structure of the model isn't changed!\")\n",
    "    !cd $saved_model_path && git clone https://huggingface.co/EleutherAI/gpt-neo-125M\n",
    "    !cp -n $saved_model_path/gpt-neo-125M/* $saved_model_path\n",
    "    !rm -rf $saved_model_path/gpt-neo-125M\n",
    "if not os.path.exists(os.path.join(saved_model_onnx_path, \"model.onnx\")):\n",
    "    !python3 -m transformers.onnx --model=$saved_model_path --feature=causal-lm-with-past $saved_model_onnx_path"
   ]
  },
  {
   "cell_type": "code",
   "execution_count": 3,
   "id": "a3fe1e14-e2a5-4fa9-a331-ae156a8967e2",
   "metadata": {},
   "outputs": [],
   "source": [
    "def optimize_onnx():\n",
    "    model_quant = os.path.join(saved_model_onnx_path, \"model_quant.onnx\")\n",
    "    if not os.path.exists(model_quant):\n",
    "        model_fp32 = os.path.join(saved_model_onnx_path, \"model.onnx\")\n",
    "        model_opt = os.path.join(saved_model_onnx_path, \"model-opt.onnx\")\n",
    "        quantized_model = quantize_dynamic(model_fp32, model_quant, weight_type = QuantType.QInt8)\n",
    "        #!rm $model_opt\n",
    "optimize_onnx()"
   ]
  },
  {
   "cell_type": "code",
   "execution_count": 4,
   "id": "0b3ae8b2-8518-4071-9e7b-bfdd52087a75",
   "metadata": {},
   "outputs": [
    {
     "name": "stdout",
     "output_type": "stream",
     "text": [
      "Pretrained model loaded on cuda:0\n"
     ]
    }
   ],
   "source": [
    "# Tell pytorch to run this model on the GPU.\n",
    "device_name = \"cuda:0\" if torch.cuda.is_available() else \"cpu\"\n",
    "device = torch.device(device_name)\n",
    "\n",
    "onnx_model_manager = OnnxModelManager(os.path.join(saved_model_onnx_path, \"model-opt.onnx\"))\n",
    "onnx_model_manager_quant = OnnxModelManager(os.path.join(saved_model_onnx_path, \"model_quant.onnx\"))\n",
    "tokenizer = AutoTokenizer.from_pretrained('EleutherAI/gpt-neo-125M')\n",
    "model = AutoModelForCausalLM.from_pretrained(saved_model_path)\n",
    "model.to(device)\n",
    "model.eval()\n",
    "model_manager = ModelManager(model=model, tokenizer=tokenizer, device=device)\n",
    "print(f\"Pretrained model loaded on {device_name}\")"
   ]
  },
  {
   "cell_type": "code",
   "execution_count": 5,
   "id": "ed6291ed-7153-4904-826b-fb64f88fdaea",
   "metadata": {},
   "outputs": [
    {
     "name": "stdout",
     "output_type": "stream",
     "text": [
      "ONNX: In my dreams, I'm a dragoness who dreams are filled with fire, a dragoness who dreams are filled with fire, a dragoness who dreams are filled with fire, a dragoness who dreams are filled with fire, a dragoness who dreams are filled with fire, a dragoness who dreams are filled with fire, a dragoness who dreams are filled with fire, a dragoness who dreams are filled with fire, a dragoness who dreams are filled with fire, a dragoness who dreams are filled with fire, a dragoness who dreams are filled with fire, a dragoness who dreams are filled with fire, a dragoness who dreams are filled with fire,\n",
      "ONNX (Quantized): In my dreams, I'm a dragoness who dreams in the middle of a cave, and I don't know what to think about it.\"<|endoftext|>\n",
      "PyTorch: In my dreams, I'm a dragoness who dreams are very similar to humans and most of them do not dream seriously, but they dream seriously, and there is a lot of room for people to sleep in, so I'm not sure if I'll find the time for that in the sky. It's quite a cave, and I don't think I'll have the time for that in the sky, though.\"<|endoftext|>\n",
      "----------------------------------------------------------------------------------------------------\n",
      "ONNX: In my dreams, I'm a dragoness who dreams are like. I dream of a dragoness who dreams are like. I know that I've got quite a lot of dragon myths to do, but I don't think I've got one for you right now. I'll keep it in mind.\"<|endoftext|>\n",
      "ONNX (Quantized): In my dreams, I'm a dragoness who dreams in the middle of a cave, and I dream in the middle of a sea of dragoness.\"<d>I know that I've done this, too, and I'll keep learning about it for years, if I can make it happen.\"<d><scn>beach<msg>I'll keep learning, and I'll keep learning, too.\"<p><msg>c \"What's that for?\" \"It's just a hobby, I suppose.\"<|endoftext|>\n",
      "PyTorch: In my dreams, I'm a dragon, and I've been dreaming of fire for years. I don't know what to think about that, but I'm afraid I know it's only because I don't have any real fire, and I don't want to do it to anyone else. I don't want to do it to anyone else, but I don't think I'd want to do it to anyone else.\"<|endoftext|>\n",
      "----------------------------------------------------------------------------------------------------\n"
     ]
    }
   ],
   "source": [
    "prompt = \"In my dreams, I'm a dragon\"\n",
    "for i in range(2):\n",
    "    print(\"ONNX:\", onnx_model_manager.say_raw(prompt, do_sample=True))\n",
    "    print(\"ONNX (Quantized):\", onnx_model_manager_quant.say_raw(prompt, do_sample=True))\n",
    "    print(\"PyTorch:\", model_manager.say_raw(prompt, 50, 0.7))\n",
    "    print('-' * 100)"
   ]
  },
  {
   "cell_type": "markdown",
   "id": "8c9396c5-9837-4c77-9011-1ac48b711286",
   "metadata": {
    "id": "unxN7nYd2gOM",
    "tags": []
   },
   "source": [
    "# Testing\n",
    "\n",
    "We created a few past (for context) + present prompts (player input) and see the different reactions. This way, we can test the models across different iterations.\n",
    "The first test involves a old prompt to compare the pre-trained model with the one trained on AWSW. Did it manage to store it's data well? Is it able to write down things that have nothing to do with AWSW? (So we know we didn't overfit)."
   ]
  },
  {
   "cell_type": "markdown",
   "id": "225c3279-83c5-4d81-b333-5d9450ad1a62",
   "metadata": {},
   "source": [
    "**This test generates boring and repetetive** replies! It's because we use no good sampling algorithm, but it does give us a indication of what the model has learned!"
   ]
  },
  {
   "cell_type": "code",
   "execution_count": 6,
   "id": "01cf23db-6013-4ff4-8a4f-effddd883295",
   "metadata": {},
   "outputs": [
    {
     "name": "stdout",
     "output_type": "stream",
     "text": [
      "Prompt: How are you?\n",
      "[Pytorch] Reply: park2<msg>Ry \"Oh, I'm not sure, but I'm afraid I don't know.\"<d><scn>park2<msg>Ry \"Well, I'm not sure if I would call it a good thing if you didn't call me back, but I'm afraid I don't.\"<d><scn>park2<msg>Ry \"Well,\n",
      "\n",
      "[ONNX] Reply: park2<msg>Ry \"Oh, I'm not sure, but I'm afraid I don't know.\"<d><scn>park2<msg>Ry \"Well, I'm not sure if I would call it a good thing if you didn't call me back, but I'm afraid I don't.\"<d><scn>park2<msg>Ry \"Well, I'm not sure if I would call it a good thing if you didn't call me back, but I'm afraid I don't.\"<|endoftext|>\n",
      "\n",
      "[ONNX Quantized] Reply: park2<msg>Ry \"Do you know what I'm talking about?\"<p><msg>c \"I'm sorry, but I'm afraid I don't.\"<d><scn>park2<msg>Ry \"I'm afraid I don't.\"<p><msg>c \"What's that?\"<d><scn>park2<msg>Ry \"It's a long story.\"<p><msg>c \"I'm sorry, but I don't think I can tell.\"<d><scn>park2<msg>Ry \"I'm afraid I don't.\"<p><\n",
      "\n",
      "----------\n",
      "Prompt: What do you think of Lorem?\n",
      "[Pytorch] Reply: park2<msg>Ad \"I think he's funny.\"<|endoftext|>\n",
      "\n",
      "[ONNX] Reply: park2<msg>Ad \"I think he's funny.\"<|endoftext|>\n",
      "\n",
      "[ONNX Quantized] Reply: park2<msg>Ad \"I think he is funny.\"<d><scn>park2<msg>Ad \"I think he is funny.\"<|endoftext|>\n",
      "\n",
      "----------\n",
      "Prompt: Oh my god, Adine. What is this?\n",
      "[Pytorch] Reply: o<msg>n \"I'm not sure, but I'm afraid I don't understand.\"<d><scn>o<msg>n \"I'm afraid I don't.\"<d><scn>o<msg>n \"I'm afraid I don't.\"<d><scn>o<msg>n \"I'm afraid I don't.\"<d><scn>o<\n",
      "\n",
      "[ONNX] Reply: o<msg>n \"I'm not sure, but I'm afraid I don't understand.\"<d><scn>o<msg>n \"I'm afraid I don't.\"<d><scn>o<msg>n \"I'm afraid I don't.\"<d><scn>o<msg>n \"I'm afraid I don't.\"<d><scn>o<msg>n \"I'm afraid I don't.\"<d><scn>o<msg>n \"I'm afraid I don't.\"<d><scn>o<msg>n \"I\n",
      "\n",
      "[ONNX Quantized] Reply: remyapt<msg>Adine told me to meet her in the park. She told me to look at her carefully, but I couldn't tell if it was her specialties, the wings, or the horns.\"<p><msg>c \"I'm afraid I don't understand.\"<d><scn>remyapt<msg>Adine told me to look at her carefully, but I couldn't tell if it was her specialties, the horns, or the wings, but I couldn't tell if they were her specialties, the horns, or the wings, but I couldn't tell.\"<|endoftext|>\n",
      "\n",
      "----------\n",
      "Prompt: What will we do here?\n",
      "[Pytorch] Reply: facin<msg>An \"I'm not sure, but I'll do it.\"<d><scn>facin<msg>An \"I'm not sure, but I'll do it.\"<|endoftext|>\n",
      "\n",
      "[ONNX] Reply: facin<msg>An \"I'm not sure, but I'll do it.\"<d><scn>facin<msg>An \"I'm not sure, but I'll do it.\"<|endoftext|>\n",
      "\n",
      "[ONNX Quantized] Reply: facin<msg>An \"I'm going to do the best damn job I've ever done.\"<d><scn>facin<msg>An \"I'm going to do the best damn job I've ever done.\"<p><msg>c \"I'm going to do the best damn job I've ever done.\"<d><scn>facin<msg>An \"I'm going to do the best damn job I've ever done.\"<|endoftext|>\n",
      "\n",
      "----------\n"
     ]
    }
   ],
   "source": [
    "prompts = [\n",
    "    ('<p><msg>c \"Hey Remy!\"<d><scn>park2<msg>Ry \"Hello, [player_name].\"', \"How are you?\"),\n",
    "    ('<p><msg>c \"I was with Lorem today.\"<d><scn>park2<msg>Ad \"Very nice.\"', \"What do you think of Lorem?\"),\n",
    "    ('<p><msg>m \"In Tatsu park, Adine and I sat down.\"', \"Oh my god, Adine. What is this?\"),\n",
    "    ('<p><msg>m \"I sat down on a chair in Anna\\'s lab.\"', \"What will we do here?\"),\n",
    "]\n",
    "\n",
    "for (past, prompt) in prompts:\n",
    "    print(f\"Prompt: {prompt}\")\n",
    "    reply = model_manager.say(past, prompt)\n",
    "    print(f\"[Pytorch] Reply: {reply}\\n\")\n",
    "    reply = onnx_model_manager.say(past, prompt)\n",
    "    print(f\"[ONNX] Reply: {reply}\\n\")\n",
    "    reply = onnx_model_manager_quant.say(past, prompt)\n",
    "    print(f\"[ONNX Quantized] Reply: {reply}\\n\")\n",
    "    print(\"-\" * 10)"
   ]
  },
  {
   "cell_type": "markdown",
   "id": "70a9ea4d-a30f-4c1a-a1f6-d5badff70453",
   "metadata": {},
   "source": [
    "# Sampling test\n",
    "\n",
    "This is gonna be interesting!"
   ]
  },
  {
   "cell_type": "code",
   "execution_count": 7,
   "id": "9216177f-f03b-4358-8b5c-7eb0dc663af1",
   "metadata": {},
   "outputs": [
    {
     "name": "stdout",
     "output_type": "stream",
     "text": [
      "Prompt: How are you?\n",
      "[Pytorch] Reply: park2<msg>Ry \"I'm fine.\"<p><msg>c \"Hey, I'm Remy!\"<d><scn>park2<msg>Ry \"Hey, [player_name]!\"<p><msg>c \"What's going on here, [player_name]?\"<d><scn>park2<msg>Ry \"I'm not sure\n",
      "\n",
      "[ONNX] Reply: park2<msg>Ry \"Oh, well.\"<d><scn>park2<msg>Ry \"Well, I am not sure if it's a good time for you. I'm not sure if I'll be able to do all this, but I'll certainly enjoy my time here.\"<|endoftext|>\n",
      "\n",
      "[ONNX Quantized] Reply: park2<msg>Ry \"Do you know what I'm doing?\"<p><msg>c \"What's going through your wings?\"<d><scn>park2<msg>Ry \"Well... I'm working on a video game, but it's very easy to get lost if you don’t mind to look inside.\"<d><scn>park2<msg>Ry \"I suppose you don’t mind that, though, it is very open to members of the park, who want a little help from me.\"<p><msg>c \"I suppose it's not so bad\n",
      "\n",
      "----------\n",
      "Prompt: What do you think of Lorem?\n",
      "[Pytorch] Reply: park2<msg>Ad \"I think he is funny.\"<|endoftext|>\n",
      "\n",
      "[ONNX] Reply: park2<msg>Ad \"I think he is funny.\"<|endoftext|>\n",
      "\n",
      "[ONNX Quantized] Reply: park2<msg>Ad \"I think he's funny, and I don't think I'd mind a little more than a lot.\"<d><scn>park2<msg>Ad \"No, I'm not sure I'd mind more than a lot. Maybe I'll see you some other day.\"<p><msg>c \"I was with Adine today.\"<d><scn>park2<msg>Ad \"Very funny, and I donut.\"<p><msg>c \"No, I'm not funny!\"<d><scn>park2<msg>Ad \"Then,\n",
      "\n",
      "----------\n",
      "Prompt: Oh my god, Adine. What is this?\n",
      "[Pytorch] Reply: o<msg>Ry \"It's a big deal.\"<d><scn>o<msg>Ry \"Well, I'm not sure if I'll be able to get through it.\"<d><scn>o<msg>Ry \"Well, you're not quite sure, but I'm afraid I'll be able to get through it.\"<d><scn>o<msg>Ry \"\n",
      "\n",
      "[ONNX] Reply: o<msg>n \"I'm not sure.\"<d><scn>o<msg>n \"I'm afraid I don't understand. My stomach is so sensitive to do something so I can do something like this. It's like a wound closed, but I'm not sure how.\"<d><scn>o<msg>n \"I'm not sure if I'm supposed to do this, but I'm not sure if I'm supposed to do this, or if I'm supposed to do what I can. I feel like I'm doing something wrong.\"<d><scn>o<msg>\n",
      "\n",
      "[ONNX Quantized] Reply: remyapt<msg>Adine told me to meet her in the park. She told me to look at her carefully, but I couldn't tell if it was her specialties, the wings, or the horns.\"<p><msg><msg>m \"I wondered if she'd tell me more about her, but I couldn't tell. She didn't look quite as funny as everyone else, but I'm afraid it's just me.\"<d><scn><scn>remyapt<msg>Adine told me to meet her, but she didn't tell me it, only to see it in the\n",
      "\n",
      "----------\n",
      "Prompt: What will we do here?\n",
      "[Pytorch] Reply: facin<msg>An \"I'm going to do the same thing.\"<d><scn>facin<msg>An \"You know, I'm going to do the same thing.\"<|endoftext|>\n",
      "\n",
      "[ONNX] Reply: farm2<msg>An \"We'll go to the store and get some pizza, and I'll take you outside to look at the big picture.\"<|endoftext|>\n",
      "\n",
      "[ONNX Quantized] Reply: facin<msg>An \"I'll take you up on your offer, alright, but I'm worried your sensitive skin will lose what it used to come up with.\"<d><scn>facin<msg>An \"It's alright, but it's not like I have to do all the work, so maybe you don't like what I think I'm doing right now.\"<p><msg>c \"Yeah, whatever.\"<d><scn>facin<msg>An \"Well, I suppose you don't like me, then.\"<p><msg>c \"I'm worried I'll\n",
      "\n",
      "----------\n"
     ]
    }
   ],
   "source": [
    "for (past, prompt) in prompts:\n",
    "    print(f\"Prompt: {prompt}\")\n",
    "    reply = model_manager.say(past, prompt, top_k = 50, top_p = 0.7)\n",
    "    print(f\"[Pytorch] Reply: {reply}\\n\")\n",
    "    reply = onnx_model_manager.say(past, prompt, do_sample = True)\n",
    "    print(f\"[ONNX] Reply: {reply}\\n\")\n",
    "    reply = onnx_model_manager_quant.say(past, prompt, do_sample = True)\n",
    "    print(f\"[ONNX Quantized] Reply: {reply}\\n\")\n",
    "    print(\"-\" * 10)"
   ]
  },
  {
   "cell_type": "markdown",
   "id": "475c3f1c-91c0-4585-92b6-fab86678834c",
   "metadata": {
    "tags": []
   },
   "source": [
    "# RP test\n",
    "Testing out the injected roleplay actions"
   ]
  },
  {
   "cell_type": "code",
   "execution_count": 8,
   "id": "ba8b6dcd-9723-4832-994e-c39411df2507",
   "metadata": {},
   "outputs": [
    {
     "name": "stdout",
     "output_type": "stream",
     "text": [
      "[Pytorch] Visit Lorem -> lorem<msg>Ip \"Ip \"Ip \"I don't know, but I'm sure you will.\"<d><scn>lorem<msg>Ip \"What do you think is wrong with doing that? Do you think I'm doing this to save your life?\"<d><scn>lorem<msg>Ip \"It would be better if you told me about it better.\"<d><scn>lorem<msg>Ip \"What do you think is wrong with doing that\n",
      "[ONNX] Visit Lorem -> lorem<msg>m \"Oh, it's you. I'm working with the police and I'm doing some photos.\"<|endoftext|>\n",
      "[ONNX Quantized] Visit Lorem -> lorem<msg>n \"Hello!\"<d><scn>lorem<msg>n \"I was looking forward to this meeting in the middle of the summer festival. It's going to be in the middle of the festivities, so I decided to get some pictures ready to see you later!\"<d><scn>lorem<msg>n \"What a surprise!\"<d><scn>lorem<msg>n \"Everyone is watching!\"<d><scn>lorem<msg>n \"Everyone told me about what the festival was to say!\"<d><scn>lorem\n",
      "----------\n",
      "[Pytorch] Meet with Lorem -> lorem<msg>Lo \"Hey, [player_name]!\"<|endoftext|>\n",
      "[ONNX] Meet with Lorem -> lorem<msg>Lo \"Hey, LoreM!\"<d><scn>lorem<msg>Lo \"Hey!\"<d><scn>lorem<msg>Lo \"What's that?\"<d><scn>lorem<msg>Lo \"Well, I'm glad that you are still here.\"<d><scn>lorem<msg>Lo \"I'm so glad that you're back.\"<d><scn>lorem<msg>Lo \"I'm so glad things are over.\"<d><scn>lorem<msg>Lo \"Oh, I'm\n",
      "[ONNX Quantized] Meet with Lorem -> loremapt<msg>Lo \"Alright.\"<p><msg>c \"What's the deal with Emera?\"<d><scn>emeraroom<msg>Em \"I'm sure you understand.\"<d><scn>emeraroom<msg>Em \"Do you think Emera is worth it?\"<d><scn>emeraroom<msg>Em \"I don't know. I suppose it's worth it.\"<d><scn>emeraroom<msg>Em \"Do you really want to stand in front of someone with a knife in their face?\"<d><\n",
      "----------\n",
      "[Pytorch] Visit Adine -> adine<msg>Ad \"Hey, [player_name]!\"<|endoftext|>\n",
      "[ONNX] Visit Adine -> adine<msg>Ad \"Oh no you don't.\"<d><scn>adine<msg>Ad \"What's that?\"<p><msg>c \"What's that? I'm not a linguist, but I know a little more about human things!\"<d><scn>adine<msg>Ad \"What's that? I don't think you're quite there as well in general, I'd think you'd come in handy, I'll take you somewhere to swim, I'd say.\"<|endoftext|>\n",
      "[ONNX Quantized] Visit Adine -> adine<msg>Adine<msg>Adine<msg>Adine<msg>Adine<msg>Adine<msg>Adine<msg>Adine<msg>Adine<msg>Adine<msg>Adine<msg>Adine<msg>Adine<msg>Adine<msg>Adine<msg>Adine<msg>Adine<msg>Adine<msg>Adine<msg>Adine<msg>Adine<msg>Adine<msg>Adine<msg>Adine<msg>Adine<msg>Adine<\n",
      "----------\n",
      "[Pytorch] Fight Maverick -> o<msg>m \"After Maverick's first fight, I realized that I could do nothing to stop him. I knew I couldn't stop him, but I couldn't do anything to stop him. I couldn't do anything to stop him, I couldn't do anything to stop him. I couldn't do anything to stop him, I couldn't do anything to stop him. I couldn't do anything to stop him, I couldn't do anything to stop him. I couldn't do anything to stop him, I couldn't do anything to\n",
      "[ONNX] Fight Maverick -> o<msg>m \"Maverick dodges Maverick's aim with a lethal hit, causing Maverick to miss his tail and fall to the ground. Maverick's body instantly fell to the ground and he slumped to the bottom of the box.\"<d><scn>o<msg>Maverick's head slumped and came back to his feet. He was found by a generator and ran away from the scene, breaking the box and sending Maverick to the ground.\"<d><scn>remyza to the police station.\"<d><scn>remyza was found by an employee of\n",
      "[ONNX Quantized] Fight Maverick -> o<msg>m \"Mv \"Zv \"Mv \"[Mv \"Hey, I told you I'd show you some of these things, but I'm afraid you don’re just don’t understand the situation.\"<d><scn>o<msg>m \"I'm worried about Maverick's attitude. She's being honest and told me I could hear and walk through all the pain and things I couldn’t do. I don't know if Maverick would be able even walk through the portal, but it wouldn’d be all too worried to tell you anything. I\n",
      "----------\n",
      "[Pytorch] Fight Adine -> adine<msg>m \"Adine barely avoids my attack and fell, but managed to get up and go in charge of me, who managed to catch him, who managed to get up and go in charge of me, who managed to catch him, who managed to catch him, who managed to catch him, who managed to catch him, who managed to catch him, who managed to catch him, who managed to catch him, who managed to catch him, who managed to catch him, who managed to catch him, who managed to catch him\n",
      "[ONNX] Fight Adine -> adine<msg>m \"Adine\"<d><scn>adine<msg>m \"After Adine's wounds, I realized I could get some help from Adion and I realized I could get a lot of help from Adite's medical attention team. Adion and I found the right spot and ran off, only to see some people running away from me. As I ran up to them I saw Adine lying on a ground with her face in their hands. I ran towards the front door, only to see her fall and die in prison.\"<|endoftext|>\n",
      "[ONNX Quantized] Fight Adine -> adine<msg>m \"I saw that Adine's expression had changed, but I couldn‘'t tell if it was because I couldn’t see her, but it was quite a sight to behold her, and I felt that I could do much to make it happen. She stroked her exposed fingertips, and I realized we were going to do well in this game. My dragon friends would flock a surprise, since they could see most of the creatures alive in the sky after this!\"<d><scn>adine<msg>Ad \"I guess it is time for you!\"<d><scn\n",
      "----------\n",
      "[Pytorch] Attack Adine -> adine<msg>m \"Adine dodges Adine and goes after Adine, who comes after Adine, who goes after Adine, who comes after Adine, who goes after Adine, who comes after Adine. She comes after Adine, who comes after Adine, who goes after Adine, who goes after Adine. She comes after Adine, who comes after Adine, who comes after Adine. She goes after Adine, who goes after Adine, who goes after Adine, who comes\n",
      "[ONNX] Attack Adine -> adine<msg>m \"Ad \"Hey Adine! Wait for Adine! Wait for Adine!\"<scn>beak<msg>m \"[adinine] wait for Adine!\"<p>Ad \"Hey Adine! Wait for Adine!\"<|endoftext|>\n",
      "[ONNX Quantized] Attack Adine -> adine<msg>Ad \"I think it must be Adine.\"<d><scn>adine<msg>Ad \"I think it must actually be Adine.\"<d><scn>adine<msg>Ad \"I'm afraid so, too. I'm afraid I'm not quite as nice as Ad \"I'm usually afraid of.\"<|endoftext|>\n",
      "----------\n",
      "Lowercase test\n",
      "[Pytorch] visit Lorem -> lorem<msg>Ip \"Oh, it's a real thing, but I don't think I'd mind if you don't mind me telling you to stay away from me.\"<d><scn>lorem<msg>Ip \"What's wrong with you?\"<d><scn>lorem<msg>Ip \"I don't know. I don't want you to think that I'm wrong, but I don't think you want to talk about it.\"<d><scn>lorem<\n",
      "[ONNX] visit Lorem -> lorem<msg>Ip \"Hey, [Hey, wait a minute, I think I'm done with this. Is it done? What do you think it's done? What did you think we should do? We shouldn've waited for it, then.\"<d><scn>lorem<msg>Ip \"Well, I'm not sure if I can do this, but I'm afraid I don't.\"<d><scn>lorem<msg>Ip \"I don't know. I'm not sure if I'll do this, or not. Maybe you'll feel better about doing it\n",
      "[ONNX Quantized] visit Lorem -> lorem<msg>m \"Lorem got up and went ahead and got some things. I think he got some pictures of me.\"<d><scn>lorem<msg>m \"Here's the pizza we're going to put on him.\"<d><scn>lorem<msg>m \"I put some pizza on the floor and put some pepper in there, too.\"<d><scn>lorem<msg>m \"Then, I took some pizza and put some in the pizza's pizza.\"<d><scn>lorem<msg>m \"I put these pizza in\n",
      "[Pytorch] visit lorem -> lorem<msg>m \"I told her I wouldn't mind if she told me about it, but I don't think I'd be able to do that without it.\"<d><scn>lorem<msg>m \"I told her I wouldn't mind if she told me about it, but I don't think I'd be able to do that without it.\"<d><scn>lorem<msg>m \"I told her I wouldn't mind if she told me about it, but I don't think\n",
      "[ONNX] visit lorem -> lorem<msg>Ip \"This is where you live for the day.\"<|endoftext|>\n",
      "[ONNX Quantized] visit lorem -> lorem<msg>Ip \"Hey, it's me!\"<d><scn>lorem<msg>Ip \"Hey!\"<d><scn>lorem<msg>Ip \"What's going on here?\"<d><scn>lorem<msg>Ip \"I'm not going to die, you know!\"<d><scn>lorem<msg>Ip \"Alright, I'm going to tell you!\"<d><scn>lorem<msg>Ip \"What's going to happen to you if you aren't going?\"<d><sc\n",
      "----------\n",
      "[Pytorch] meet with Lorem -> lorem<msg>Lo \"Hey, Lorem! I know you said you wanted to talk to me, but I'm afraid you're doing this wrong.\"<d><scn>lorem<msg>Ip \"What's wrong with you?\"<d><scn>lorem<msg>Ip \"I'm sorry, but I don't think I can do. I'm afraid I don't.\"<d><scn>lorem<msg>Ip \"What's wrong with you?\"<d><\n",
      "[ONNX] meet with Lorem -> lorem<msg>Lo \"Hey [LIFESTEasONS! Wait for me, then.\"<d><scn>lorem<msg>Ip \"I'm sorry, but it's not working.\"<|endoftext|>\n",
      "[ONNX Quantized] meet with Lorem -> lorem<msg>n \"I'm Lorem\"<d><scn>lorem<msg>m \"Hey Lorem! I'm Lorem! I'm Lorem!\"<d><scn>lorem<msg>m \"Hey Lorem, you're quite funny.\"<d><scn>lorem<msg>m \"I didn't think this game was going to happen, but I'm glad to hear it is coming up. Well done, you're quite funny.\"<d><scn>lorem<msg>m \"After a few moments you were done, you walked to\n",
      "[Pytorch] meet with lorem -> lorem<msg>Lo \"I know him, but I'm not sure if I can do for him. I'm afraid I don't.\"<d><scn>lorem<msg>Lo \"I know him, but I'm not sure if I can do for him. I'm not sure if I can do for now.\"<d><scn>lorem<msg>Lo \"Do you think I could do for him? I don't know.\"<d><scn>lorem<msg>Lo \"\n",
      "[ONNX] meet with lorem -> lorem<msg>Lo \"Hey, lorem! What are you talking to? Lore! What's up with you?\"<d><scn>lorem<msg>Lo \"I'm talking to you!\"<d><scn>lorem<msg>Lo \"I'm talking to you!\"<d><scn>lorem<msg>Lo \"Then what are you talking about? What's up with you?\"<d><scn>lorem<msg>Lo \"I'm talking about you, I suppose.\"<d><scn>lorem<msg>Lo \"Then what do\n",
      "[ONNX Quantized] meet with lorem -> lorem<msg>m \"meet with lorem\"<d><scn>lorem<msg>m \"loud, katsuhon, katsu\"<d><scn>lorem<msg>m \"meet with katsaharu\"<d><scn>lorem<msg>m \"Hey, lorem!\"<d><scn>lorem<msg>m \"Hey, lore!\"<d><scn>lorem<msg>m \"Hey, lorem!\"<d><scn>lorem<msg>m \"Oh, I think it's\n",
      "----------\n",
      "[Pytorch] visit Adine -> adine<msg>Ad \"Hey, [player_name]!\"<|endoftext|>\n",
      "[ONNX] visit Adine -> adine<msg>Ad \"I'm going to do it!\"<d><scn>adine<msg>Ad \"Yeah, you know, it's a bit early to say, but I'll do it for now.\"<p><msg>c \"Yeah!\"<d><scn>adine<msg>Ad \"I'm glad to hear that!\"<d><scn>adine<msg>Ad \"I'll do it!\"<d><scn>adine<msg>Ad \"I think it's time to go!\"<d><scn>adine<msg>Ad\n",
      "[ONNX Quantized] visit Adine -> adine<msg>Adine<msg>Adine<msg>Adine<msg>Adine<msg>Adine<msg>Adine<msg>Adine<msg>Adine<msg>Adine<msg>Adine<msg>Adine<msg>Adine<msg>Adine<msg>Adine<msg>Adine<msg>Adine<msg>Adine<msg>Adine<msg>Adine<msg>Adine<msg>Adine<msg>Adine<msg>Adine<msg>Adine<msg>Adine<\n",
      "[Pytorch] visit adine -> adine<msg>Ad \"Hey, [player_name]!\"<|endoftext|>\n",
      "[ONNX] visit adine -> adine<msg>Ad \"Hey, [Adine! What are you doing?\"<p><msg>c \"Hey, I told you you I could do that!\"<d><scn>adine<msg>Ad \"Yeah, I'm not afraid of going to the Adine's next date.\"<|endoftext|>\n",
      "[ONNX Quantized] visit adine -> adine<msg>Adine<msg>Adine<msg>Adine<msg>Adine<msg>Adine<msg>Adine<msg>Adine<msg>Adine<msg>Adine<msg>Adine<msg>Adine<msg>Adine<msg>Adine<msg>Adine<msg>Adine<msg>Adine<msg>Adine<msg>Adine<msg>Adine<msg>Adine<msg>Adine<msg>Adine<msg>Adine<msg>Adine<msg>Adine<\n",
      "----------\n",
      "[Pytorch] fight Maverick -> adineapt<msg>Mv \"Hey, Maverick!\"<d><scn>adineapt<msg>Mv \"What's wrong, Maverick? I told you I'm not a Maverick, but I'm not sure if I'm ready to go after that.\"<d><scn>adineapt<msg>Mv \"Well, I'm not sure, but I'm not sure if I'd call it a good thing if you didn't call me back, but I'm afraid I don't.\"\n",
      "[ONNX] fight Maverick -> o2<msg>m \"After the first round, I realized that I wasn't sure about Maverick and Maverick, but I wasn't going to let them down.\"<d><scn>o2<msg>m \"After the third round I realized I wasn't supposed to be a dragon, but just an always working dragon, I realized I could have told you I didn't know that much about dragon myths I didn't remember, but I did know a little more about dragon history than I do.\"<d><scn>o2<msg>m \"It was quite an experience, I found myself\n",
      "[ONNX Quantized] fight Maverick -> Mv \"ZAMAZ!\"<d><scn>Mv \"ZAZING!\"<d><scn>Mv \"I'm coming to do my best! Do it!\"<d><scn>Mv \"I knew I couldn'll only have to keep you in the kitchen.\"<d><scn>Mv \"Yes, please.\"<d><scn>o2<msg>Sb \"I don't think you'll find anything else, so I took your order.\"<d><scn>o2<msg>Sb \"I didn't think you would want to\n",
      "[Pytorch] fight maverick -> o<msg>m \"The trigger broke, and Maverick slumped in his sleep. He only stood there for a few moments, staring at the ceiling and listening to the muffled sound of the gun, aiming at me. I turned around to see Maverick lying in a pool of his own blood, slumped in a pool of his own blood. He couldn't see me, but I turned around to see him lying in a pool of his own blood. I couldn't see much, but I heard a deep pain go through my back,\n",
      "[ONNX] fight maverick -> o2<msg>m \"He pulled out a sharp claw, and I realized that it was a wooden claw, and I realized that it must've been there to catch him. When I looked at it for a while, I realized that it must've been me, and that I'd found another hopelessness, and that I must have seen something else.\"<d><scn>o2<msg>m \"It was a big wooden claw, and I realized that I'd lost it when it came to catch him. I couldn only catch it, though, as he crouched down next to my neck and began to\n",
      "[ONNX Quantized] fight maverick -> o2<msg>m \"Maverick dodges Maverick with a claw, then goes to Remynd with a claw. After making some claws, Remynd got some of it off and broke it, using it to grab a few reptiles.\"<d><scn>o2<msg>m \"While Maverick dodpered for a few seconds, I noticed that his fur was noticeably smaller than that of Remynd, and Maverick dodped over and crouched and broke it briefly, but in an instant, Remy did not hesitate to take it off of Maverick and pulled it off of the\n",
      "----------\n",
      "[Pytorch] fight Adine -> o2<msg>m \"Adine was a big, scary dragon who had just vanished into the darkness outside. As much as I loved it, I couldn't see what he was doing. I couldn't tell if it was him, but I didn't think it was him anymore. I couldn't tell if it was him, but I didn't think he'd mind that I'd mind that. I didn't know, but I didn't want to leave you behind.\"<d><scn>o2<msg>m \"I\n",
      "[ONNX] fight Adine -> adine<msg>m \"Ad \"I'm worried about you. I'm afraid I don't know what to do. I'm afraid I don't.\"<p><msg>n \"I'm worried about you. I'm afraid I don't.\"<d><scn>np \"I'm worried about you. I'm afraid I don't.\"n \"I'm worried about you. I'm afraid I don't.\"<p><msg>c \"(I'm afraid I don't know what to do. I'm afraid I don't.)\"<d><scn>o2<msg>n \"\n",
      "[ONNX Quantized] fight Adine -> adine<msg>m \"Adine dodging a neck, using a knife, I broke into a neck and dropped it to the beach. I waited for her fall, barely waiting for Adine, barely missing a fish in the sea, then sunk into the sand, where it shattered into pieces, causing me to stumble back and fall over backwards.\"<d><scn>beach<msg>m \"I collided with the fish and fell into the sea. I turned around and saw Adine lying on the ground, barely waiting for me to take her bite. While eating a grab, she broke in, causing me\n",
      "[Pytorch] fight adine -> adine<msg>m \"Adine's first attack on me came from a knife, and I quickly grabbed it, but as I aimed it at her, I lost control of my gun and fell to the ground. While I waited for the explosion to come back, I saw her fall and fall and hit me in the face with a hailer that knocked me to the ground. I turned around to see her fall and fall. I quickly dove behind her with the gun, but as I went up to the platform, I came in and shot\n",
      "[ONNX] fight adine -> adine<msg>m \"I'm worried that I don't do well, but it won't happen.\"<d><scn>adine<msg>m \"I'm afraid I don’t understand. I know I haven't done this much, but it won't last. I'm afraid I'll mess up your mess ever so much.\"<d><scn>adine<msg>Adine<msg>Adine<msg>Adine<msg>Adine<msg>Adine<msg>Adine<msg>Adine<msg>Adine<msg>Adine<\n",
      "[ONNX Quantized] fight adine -> adine<msg>m \"Ad \"[adinestine\" is now... Adine, I think? I'd love to see that.\"<p><msg>c \"Go to the store and grab a bite.\"<d><scn>adine<msg>Ad \"I think that's it for today.\"<d><scn>adine<msg>Ad \"I guess it's time for you to fly!\"<d><scn>adine<msg>Ad \"I'll take you up on that.\"<p><msg>c \"Hey Sebastian! You aren' cute!\"<d><\n",
      "----------\n",
      "[Pytorch] attack Adine -> adine<msg>m \"Adine dodges Adine's right arm and comes rushing towards Adine, who tries to defend her. She doesn't hesitate and comes towards Adine, who tries to defend her. She comes towards Adine, who tries to defend her. She comes towards Adine, who tries to defend her. She comes towards Adine, who tries to defend her. She comes towards Adine, who tries to defend her. She comes towards Adine, who tries to defend her. She comes towards Adine,\n",
      "[ONNX] attack Adine -> adine<msg>m \"Adine doditate a regular pose using a sharp claw to make a rather peculiar pose. A pose using a circular lever, holding it in place, using it to grab a pose. Once it was done, Adine went to the floor and started looking for Reza.\"<d><scn>adine<msg>Rz \"Hey, [Ad \"I'm Adine, right in the middle of the night.\"<adine<msg<d><scn \"I'm Adine, right in the middle of the night.\"<ad \"I'm Adine, right in\n",
      "[ONNX Quantized] attack Adine -> adine<msg>m \"I'm worried about Adine.\"<d><scn>adine<msg>m \"I know it's starting, and I'll wait outside until it's done, alright. I'll see you later.\"<d><scn>adine<msg>Adine? Adine? Adine? Adine? Adine? Adine? Adine? Adine? Adine? Adine? Adine? Adine? Adine? Adine? Adine? Adine? Adine? Adine? Adine? Adine? Adine? Adine?\n",
      "[Pytorch] attack adine -> adine2<msg>m \"Adine dodges a slashing through the adine, using a sharp claw to grab a knife and use it to defend herself from the attack and prevent herself from being crushed and ground into a bloody pulp by a hailage. She crouched down and waited for the generator to arrive, waiting for the generator to arrive. After making some preparations for the fall, I scrambled to my feet when I heard the doorbell ring. I quickly got up, aiming my gun at the generator's box, which fell to the\n",
      "[ONNX] attack adine -> adine<msg>m \"And she went off, breaking the neck, and making a deep hole for her claws and claws. She continued working with her claws and claws until they got close, and crouched down to grab her head and claws on top of her head, holding it in the air until they got closer, and I started looking for her claws on her wings. I realized that they were made from claws on her claws and claws. She crouched around and grabbed them, claws and claws on top and around her neck, using them to grab her tail.\"<p><msg>c \"Go back!\"<d\n",
      "[ONNX Quantized] attack adine -> adine<msg>m \"I'm worried that Adine will do nothing. And she won's only going after it if she gets some sort of surprise.\"<d><scn>adine<msg>Ad \"What a surprise.\"<|endoftext|>\n",
      "----------\n"
     ]
    }
   ],
   "source": [
    "test_rps = [\n",
    "    \"Visit Lorem\",\n",
    "    \"Meet with Lorem\",\n",
    "    \"Visit Adine\",\n",
    "    \"Fight Maverick\",\n",
    "    \"Fight Adine\",\n",
    "    \"Attack Adine\"\n",
    "]\n",
    "\n",
    "for rp in test_rps:\n",
    "    print(f'[Pytorch] {rp} -> {model_manager.say(\"\", rp, top_k = 50, top_p = 0.7)}')\n",
    "    print(f'[ONNX] {rp} -> {onnx_model_manager.say(\"\", rp, do_sample = True)}')\n",
    "    print(f'[ONNX Quantized] {rp} -> {onnx_model_manager_quant.say(\"\", rp, do_sample = True)}')\n",
    "    print(\"-\" * 10)\n",
    "    \n",
    "print(\"Lowercase test\")\n",
    "\n",
    "for rp in test_rps:\n",
    "    rp = rp[0].lower() + rp[1:]\n",
    "    print(f'[Pytorch] {rp} -> {model_manager.say(\"\", rp, top_k = 50, top_p = 0.7)}')\n",
    "    print(f'[ONNX] {rp} -> {onnx_model_manager.say(\"\", rp, do_sample = True)}')\n",
    "    print(f'[ONNX Quantized] {rp} -> {onnx_model_manager_quant.say(\"\", rp, do_sample = True)}')\n",
    "    rp = rp.lower()\n",
    "    print(f'[Pytorch] {rp} -> {model_manager.say(\"\", rp, top_k = 50, top_p = 0.7)}')\n",
    "    print(f'[ONNX] {rp} -> {onnx_model_manager.say(\"\", rp, do_sample = True)}')\n",
    "    print(f'[ONNX Quantized] {rp} -> {onnx_model_manager_quant.say(\"\", rp, do_sample = True)}')\n",
    "    print(\"-\" * 10)"
   ]
  }
 ],
 "metadata": {
  "kernelspec": {
   "display_name": "Python 3 (ipykernel)",
   "language": "python",
   "name": "python3"
  },
  "language_info": {
   "codemirror_mode": {
    "name": "ipython",
    "version": 3
   },
   "file_extension": ".py",
   "mimetype": "text/x-python",
   "name": "python",
   "nbconvert_exporter": "python",
   "pygments_lexer": "ipython3",
   "version": "3.8.10"
  }
 },
 "nbformat": 4,
 "nbformat_minor": 5
}
