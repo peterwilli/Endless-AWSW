{
 "cells": [
  {
   "cell_type": "code",
   "execution_count": null,
   "id": "fe4cddf0-ab77-49a4-86d1-c24a7dc8bad2",
   "metadata": {},
   "outputs": [],
   "source": [
    "import numpy as np\n",
    "import torch\n",
    "import torch.nn as nn\n",
    "import torch.nn.functional as F\n",
    "from collections import Counter\n",
    "import string\n",
    "import re\n",
    "import random\n",
    "from tqdm import tqdm\n",
    "import matplotlib.pyplot as plt\n",
    "from torch.utils.data import TensorDataset, DataLoader\n",
    "from sklearn.model_selection import train_test_split\n",
    "from transformers import AutoTokenizer, AutoModelForCausalLM"
   ]
  },
  {
   "cell_type": "code",
   "execution_count": null,
   "id": "476a569f-a4a7-4e82-b1ab-5d759fc79176",
   "metadata": {},
   "outputs": [],
   "source": [
    "seed = random.randint(0, 2 ** 32 - 1)\n",
    "seed = 1985442815\n",
    "random.seed(seed)\n",
    "# Tell pytorch to run this model on the GPU.\n",
    "device_name = \"cuda:0\" if torch.cuda.is_available() else \"cpu\"\n",
    "# device_name = \"cpu\"\n",
    "device = torch.device(device_name)\n",
    "print(f\"Will use {device_name} for training with seed: {seed}\")\n",
    "# Model parameters\n",
    "max_length = 128\n",
    "dragon_to_number = {}\n",
    "sentiment_to_number = {}"
   ]
  },
  {
   "cell_type": "code",
   "execution_count": null,
   "id": "c16d4a66-41a0-48ce-9550-8b00a635b260",
   "metadata": {},
   "outputs": [],
   "source": [
    "tokenizer = AutoTokenizer.from_pretrained('EleutherAI/gpt-neo-125M')\n",
    "tokenizer.pad_token = tokenizer.eos_token\n",
    "tokenizer.padding_side = \"right\""
   ]
  },
  {
   "cell_type": "code",
   "execution_count": null,
   "id": "648a7d0a-77d6-40bc-9ae1-16c66f01e561",
   "metadata": {},
   "outputs": [],
   "source": [
    "data = []\n",
    "with open(\"./sentiment_training_data.txt\") as f:\n",
    "    lines = f.readlines()\n",
    "    for line in lines:\n",
    "        line = line.strip()\n",
    "        if len(line) > 0:\n",
    "            line_split = line.split(\" \")\n",
    "            dragon = line_split[0]\n",
    "            sentiment = line_split[1]\n",
    "            if not dragon in dragon_to_number:\n",
    "                dragon_to_number[dragon] = len(dragon_to_number)\n",
    "            if not sentiment in sentiment_to_number:\n",
    "                sentiment_to_number[sentiment] = len(sentiment_to_number)\n",
    "            data.append({\n",
    "                'dragon': dragon,\n",
    "                'sentiment': sentiment,\n",
    "                'text': \" \".join(line_split[2:])\n",
    "            })\n",
    "            \n",
    "for d in data:\n",
    "    d['text'] = tokenizer.encode(d['text'], padding='max_length', max_length=max_length)\n",
    "text_tensor = torch.from_numpy(np.array([d['text'] for d in data]))\n",
    "dragon_tensor = torch.from_numpy(np.array([dragon_to_number[d['dragon']] for d in data]))\n",
    "sentiment_tensor = torch.from_numpy(np.array([sentiment_to_number[d['sentiment']] for d in data]))\n",
    "print(text_tensor.shape, dragon_tensor.shape, sentiment_tensor.shape)"
   ]
  },
  {
   "cell_type": "code",
   "execution_count": null,
   "id": "5eba9c0a-d3a9-47b9-b22d-3e91a30355c4",
   "metadata": {},
   "outputs": [],
   "source": [
    "train_data = TensorDataset(text_tensor, dragon_tensor, sentiment_tensor)"
   ]
  },
  {
   "cell_type": "code",
   "execution_count": null,
   "id": "95c3cfdb-13c5-437e-b3d7-5200cada2dfb",
   "metadata": {},
   "outputs": [],
   "source": [
    "for t in train_data:\n",
    "    print(t)\n",
    "    break"
   ]
  },
  {
   "cell_type": "code",
   "execution_count": null,
   "id": "6f3c78d5-cff6-4c37-a20a-87bd20468829",
   "metadata": {},
   "outputs": [],
   "source": []
  }
 ],
 "metadata": {
  "kernelspec": {
   "display_name": "Python 3 (ipykernel)",
   "language": "python",
   "name": "python3"
  },
  "language_info": {
   "codemirror_mode": {
    "name": "ipython",
    "version": 3
   },
   "file_extension": ".py",
   "mimetype": "text/x-python",
   "name": "python",
   "nbconvert_exporter": "python",
   "pygments_lexer": "ipython3",
   "version": "3.8.10"
  }
 },
 "nbformat": 4,
 "nbformat_minor": 5
}
