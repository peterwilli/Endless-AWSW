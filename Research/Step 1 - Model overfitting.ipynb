{
 "cells": [
  {
   "cell_type": "markdown",
   "id": "568814d8",
   "metadata": {
    "tags": []
   },
   "source": [
    "# Overfitting\n",
    "\n",
    "... Normally? A bad thing! But for our case it's good...\n",
    "\n",
    "We use a new method to mix an overfitted model (our own) with a pretrained model (GPT-Neo-125M) and have them share eachothers traits. This way it's possible to finetune a model without having to retrain it. It's so fast it can be done in a second on CPU."
   ]
  },
  {
   "cell_type": "code",
   "execution_count": 1,
   "id": "ddcf3410",
   "metadata": {},
   "outputs": [
    {
     "name": "stderr",
     "output_type": "stream",
     "text": [
      "/opt/conda/lib/python3.8/site-packages/tqdm/auto.py:22: TqdmWarning: IProgress not found. Please update jupyter and ipywidgets. See https://ipywidgets.readthedocs.io/en/stable/user_install.html\n",
      "  from .autonotebook import tqdm as notebook_tqdm\n"
     ]
    }
   ],
   "source": [
    "%load_ext autoreload\n",
    "%autoreload 2\n",
    "\n",
    "from model_utils import content_aware_encode, train_model, split_data, get_model, set_pretrained_model_dropout, get_dataset, visualize_lr\n",
    "from config import Config\n",
    "import json\n",
    "import matplotlib.pyplot as plt\n",
    "%matplotlib inline\n",
    "import math\n",
    "import random\n",
    "import time\n",
    "import onnx\n",
    "import logging\n",
    "from onnx_model_manager import OnnxModelManager\n",
    "from onnxruntime.quantization import quantize_dynamic, QuantType\n",
    "import os\n",
    "import datasets\n",
    "import torch\n",
    "import transformers\n",
    "from transformers import AutoTokenizer, AutoModelForCausalLM\n",
    "from model_manager import ModelManager"
   ]
  },
  {
   "cell_type": "code",
   "execution_count": 2,
   "id": "87866885",
   "metadata": {},
   "outputs": [
    {
     "name": "stdout",
     "output_type": "stream",
     "text": [
      "Will use cuda:0 for training with seed: 970988852\n"
     ]
    }
   ],
   "source": [
    "seed = 970988852\n",
    "#seed = random.randint(0, 2 ** 32 - 1)\n",
    "random.seed(seed)\n",
    "datasets.logging.set_verbosity(datasets.logging.ERROR)\n",
    "# Tell pytorch to run this model on the GPU.\n",
    "device_name = \"cuda:0\" if torch.cuda.is_available() else \"cpu\"\n",
    "# device_name = \"cpu\"\n",
    "device = torch.device(device_name)\n",
    "print(f\"Will use {device_name} for training with seed: {seed}\")"
   ]
  },
  {
   "cell_type": "code",
   "execution_count": 3,
   "id": "0785a989",
   "metadata": {},
   "outputs": [],
   "source": [
    "split_data(os.path.join(Config.work_dir, \"awsw_story_input.txt\"))"
   ]
  },
  {
   "cell_type": "code",
   "execution_count": 4,
   "id": "e384d3e7",
   "metadata": {},
   "outputs": [],
   "source": [
    "config = {\n",
    "    'lr': 1e-4,\n",
    "    \"warmup_factor\": 5,\n",
    "    'scheduler': 'cycles_buildoff',\n",
    "    \"cycles\": 100,\n",
    "    \"lr_end\": 1e-6,\n",
    "    \"power\": 0.6,\n",
    "    #\"freeze_from_steps\": -1,\n",
    "    'freeze_once': True,\n",
    "    'freeze_layer_rate': 1e-4 * 0.05,\n",
    "    'to_freeze_count': 150,\n",
    "    \"seed\": seed,\n",
    "    \"num_epoch\": 1000\n",
    "}"
   ]
  },
  {
   "cell_type": "markdown",
   "id": "dddcfe20",
   "metadata": {},
   "source": [
    "# Show me your LR!"
   ]
  },
  {
   "cell_type": "code",
   "execution_count": 5,
   "id": "fe02d814",
   "metadata": {},
   "outputs": [
    {
     "data": {
      "image/png": "[encoded data removed]",
      "text/plain": [
       "<Figure size 432x288 with 1 Axes>"
      ]
     },
     "metadata": {
      "needs_background": "light"
     },
     "output_type": "display_data"
    }
   ],
   "source": [
    "visualize_lr(config)"
   ]
  },
  {
   "cell_type": "code",
   "execution_count": 6,
   "id": "f9f2ad15",
   "metadata": {},
   "outputs": [
    {
     "name": "stderr",
     "output_type": "stream",
     "text": [
      "/opt/conda/lib/python3.8/site-packages/torch/nn/modules/module.py:1383: UserWarning: positional arguments and argument \"destination\" are deprecated. nn.Module.state_dict will not accept them in the future. Refer to https://pytorch.org/docs/master/generated/torch.nn.Module.html#torch.nn.Module.state_dict for details.\n",
      "  warnings.warn(\n"
     ]
    },
    {
     "name": "stdout",
     "output_type": "stream",
     "text": [
      "Loaded empty model\n",
      "EleutherAI/gpt-neo-125M loaded with 160 params...\n"
     ]
    }
   ],
   "source": [
    "saved_model_path = os.path.join(\"models\", \"awsw_main\")\n",
    "if os.path.exists(os.path.join(saved_model_path, \"pytorch_model.bin\")):\n",
    "    tokenizer = AutoTokenizer.from_pretrained(Config.base_model_name)\n",
    "    model = AutoModelForCausalLM.from_pretrained(saved_model_path)\n",
    "    print(\"Pretrained model loaded\")\n",
    "else:\n",
    "    model, tokenizer = get_model(Config.base_model_name)\n",
    "    print(\"Loaded empty model\")\n",
    "model = model.to(device)\n",
    "print(f\"{Config.base_model_name} loaded with {len(list(model.named_parameters()))} params...\")\n",
    "# set_pretrained_model_dropout(model.transformer.h, 0.0005)"
   ]
  },
  {
   "cell_type": "markdown",
   "id": "8a51730b",
   "metadata": {},
   "source": [
    "# Test before training on a pretrained model!"
   ]
  },
  {
   "cell_type": "code",
   "execution_count": 7,
   "id": "c0ad61dc",
   "metadata": {},
   "outputs": [
    {
     "name": "stdout",
     "output_type": "stream",
     "text": [
      "In my dreams, I'm a dragonfly, a butterfly, and a dragonfly-like creature, a dragonfly, a dragonfly, a dragonfly-like creature, a dragonfly-like creature, a dragonfly-like creature, a dragonfly-like creature, a dragonfly-like creature, a dragonfly-like creature, a dragonfly-like creature, a dragonfly-like creature, a dragonfly-like creature, a dragonfly-like creature, a dragonfly-like creature, a dragonfly-like creature, a dragonfly-like creature, a dragonfly-like creature, a\n"
     ]
    }
   ],
   "source": [
    "model.eval()\n",
    "model_manager = ModelManager(model=model, tokenizer=tokenizer, device=device)\n",
    "def test_regular_sampler():\n",
    "    print(model_manager.say_raw(\"In my dreams, I'm a dragon\", 50, 0.7))\n",
    "test_regular_sampler()"
   ]
  },
  {
   "cell_type": "markdown",
   "id": "f3c1544d",
   "metadata": {
    "tags": []
   },
   "source": [
    "# Reviewing our dataset!"
   ]
  },
  {
   "cell_type": "code",
   "execution_count": 8,
   "id": "97ac8102",
   "metadata": {},
   "outputs": [
    {
     "name": "stderr",
     "output_type": "stream",
     "text": [
      "100%|██████████| 2/2 [00:00<00:00, 433.05it/s]\n"
     ]
    },
    {
     "name": "stdout",
     "output_type": "stream",
     "text": [
      "RP review!\n",
      ">c \"What do you think of Lorem?\"<d><scn>np1r<msg>Nm normal \"I think he's cute.\"<|endoftext|><p><msg>c \"There's more to it than meets the eye at first. Mere panic doesn't explain the need for secrecy.\"<d><scn>hatchery<msg>Nm blank \"Do you think there's a huge behind-the-scenes game going on?\"<p><msg>c \"I can't say for certain.\"<d><scn>hatchery<msg>Nm blank\n",
      "----------\n",
      ">c \"At least it's not like you were egging me on the whole time. Wait, actually, that is exactly what happened.\"<d><scn>pad<msg>Br stern \"No, you are right. This was a bad idea all around.\"<p><msg>c \"Fight\"<d><scn>pad<msg>m \"I didn't hesitate and kicked Bryce right in the stomach\"<|endoftext|><p><msg>c \"Let's hope his body doesn't start getting rid of any... liquids while he's passed out.\"<d><scn>\n",
      "----------\n"
     ]
    }
   ],
   "source": [
    "dataset = get_dataset(seed, tokenizer, path_train = os.path.join(Config.work_dir, \"data_train.txt\"))\n",
    "with open(\"data_train_sample.txt\", 'w') as f:\n",
    "    for i, item in enumerate(dataset['train']):\n",
    "        f.write(tokenizer.decode(item['input_ids']) + \"\\n\")\n",
    "        \n",
    "with open(\"data_train_sample2.txt\", 'w') as f:\n",
    "    for i, item in enumerate(dataset['train']):\n",
    "        f.write(tokenizer.decode(item['input_ids']) + \"\\n\")\n",
    "        \n",
    "print(\"RP review!\")\n",
    "to_see_rp = [\n",
    "    'c \"Fight',\n",
    "    'c \"What do you think of Lorem?'\n",
    "]\n",
    "for item in dataset['train']:\n",
    "    decoded = tokenizer.decode(item['input_ids'])\n",
    "    for rp in list(to_see_rp):\n",
    "        if rp in decoded: \n",
    "            print(decoded)\n",
    "            print(\"-\" * 10)\n",
    "            to_see_rp.remove(rp)\n",
    "            continue\n",
    "    if len(to_see_rp) == 0:\n",
    "        break\n",
    "# Clean up\n",
    "del to_see_rp"
   ]
  },
  {
   "cell_type": "markdown",
   "id": "66363093",
   "metadata": {
    "tags": []
   },
   "source": [
    "# Training\n",
    "\n",
    "Model is put in training mode and we begin training. The `train_results` will contain all data after training is completed."
   ]
  },
  {
   "cell_type": "code",
   "execution_count": 9,
   "id": "18b2b808",
   "metadata": {
    "scrolled": true,
    "tags": []
   },
   "outputs": [
    {
     "name": "stdout",
     "output_type": "stream",
     "text": [
      "train -> logging_steps: 46\n",
      "[0] set freeze_part_layers: False (freezing 150 out of 160 layers.)\n"
     ]
    },
    {
     "data": {
      "text/html": [
       "\n",
       "    <div>\n",
       "      \n",
       "      <progress value='4650' max='4650' style='width:300px; height:20px; vertical-align: middle;'></progress>\n",
       "      [4650/4650 23:03, Epoch 50/50]\n",
       "    </div>\n",
       "    <table border=\"1\" class=\"dataframe\">\n",
       "  <thead>\n",
       " <tr style=\"text-align: left;\">\n",
       "      <th>Step</th>\n",
       "      <th>Training Loss</th>\n",
       "    </tr>\n",
       "  </thead>\n",
       "  <tbody>\n",
       "    <tr>\n",
       "      <td>100</td>\n",
       "      <td>3.147600</td>\n",
       "    </tr>\n",
       "    <tr>\n",
       "      <td>200</td>\n",
       "      <td>2.756700</td>\n",
       "    </tr>\n",
       "    <tr>\n",
       "      <td>300</td>\n",
       "      <td>2.464800</td>\n",
       "    </tr>\n",
       "    <tr>\n",
       "      <td>400</td>\n",
       "      <td>2.231500</td>\n",
       "    </tr>\n",
       "    <tr>\n",
       "      <td>500</td>\n",
       "      <td>2.081300</td>\n",
       "    </tr>\n",
       "    <tr>\n",
       "      <td>600</td>\n",
       "      <td>1.992900</td>\n",
       "    </tr>\n",
       "    <tr>\n",
       "      <td>700</td>\n",
       "      <td>1.945500</td>\n",
       "    </tr>\n",
       "    <tr>\n",
       "      <td>800</td>\n",
       "      <td>1.930300</td>\n",
       "    </tr>\n",
       "    <tr>\n",
       "      <td>900</td>\n",
       "      <td>1.912000</td>\n",
       "    </tr>\n",
       "    <tr>\n",
       "      <td>1000</td>\n",
       "      <td>1.891700</td>\n",
       "    </tr>\n",
       "    <tr>\n",
       "      <td>1100</td>\n",
       "      <td>1.889400</td>\n",
       "    </tr>\n",
       "    <tr>\n",
       "      <td>1200</td>\n",
       "      <td>1.889400</td>\n",
       "    </tr>\n",
       "    <tr>\n",
       "      <td>1300</td>\n",
       "      <td>1.887300</td>\n",
       "    </tr>\n",
       "    <tr>\n",
       "      <td>1400</td>\n",
       "      <td>1.879100</td>\n",
       "    </tr>\n",
       "    <tr>\n",
       "      <td>1500</td>\n",
       "      <td>1.862700</td>\n",
       "    </tr>\n",
       "    <tr>\n",
       "      <td>1600</td>\n",
       "      <td>1.847500</td>\n",
       "    </tr>\n",
       "    <tr>\n",
       "      <td>1700</td>\n",
       "      <td>1.831800</td>\n",
       "    </tr>\n",
       "    <tr>\n",
       "      <td>1800</td>\n",
       "      <td>1.830000</td>\n",
       "    </tr>\n",
       "    <tr>\n",
       "      <td>1900</td>\n",
       "      <td>1.828700</td>\n",
       "    </tr>\n",
       "    <tr>\n",
       "      <td>2000</td>\n",
       "      <td>1.817100</td>\n",
       "    </tr>\n",
       "    <tr>\n",
       "      <td>2100</td>\n",
       "      <td>1.822600</td>\n",
       "    </tr>\n",
       "    <tr>\n",
       "      <td>2200</td>\n",
       "      <td>1.817800</td>\n",
       "    </tr>\n",
       "    <tr>\n",
       "      <td>2300</td>\n",
       "      <td>1.808600</td>\n",
       "    </tr>\n",
       "    <tr>\n",
       "      <td>2400</td>\n",
       "      <td>1.795300</td>\n",
       "    </tr>\n",
       "    <tr>\n",
       "      <td>2500</td>\n",
       "      <td>1.793100</td>\n",
       "    </tr>\n",
       "    <tr>\n",
       "      <td>2600</td>\n",
       "      <td>1.784300</td>\n",
       "    </tr>\n",
       "    <tr>\n",
       "      <td>2700</td>\n",
       "      <td>1.782400</td>\n",
       "    </tr>\n",
       "    <tr>\n",
       "      <td>2800</td>\n",
       "      <td>1.779100</td>\n",
       "    </tr>\n",
       "    <tr>\n",
       "      <td>2900</td>\n",
       "      <td>1.772400</td>\n",
       "    </tr>\n",
       "    <tr>\n",
       "      <td>3000</td>\n",
       "      <td>1.773700</td>\n",
       "    </tr>\n",
       "    <tr>\n",
       "      <td>3100</td>\n",
       "      <td>1.777100</td>\n",
       "    </tr>\n",
       "    <tr>\n",
       "      <td>3200</td>\n",
       "      <td>1.759800</td>\n",
       "    </tr>\n",
       "    <tr>\n",
       "      <td>3300</td>\n",
       "      <td>1.760600</td>\n",
       "    </tr>\n",
       "    <tr>\n",
       "      <td>3400</td>\n",
       "      <td>1.757000</td>\n",
       "    </tr>\n",
       "    <tr>\n",
       "      <td>3500</td>\n",
       "      <td>1.743900</td>\n",
       "    </tr>\n",
       "    <tr>\n",
       "      <td>3600</td>\n",
       "      <td>1.741800</td>\n",
       "    </tr>\n",
       "    <tr>\n",
       "      <td>3700</td>\n",
       "      <td>1.745900</td>\n",
       "    </tr>\n",
       "    <tr>\n",
       "      <td>3800</td>\n",
       "      <td>1.747300</td>\n",
       "    </tr>\n",
       "    <tr>\n",
       "      <td>3900</td>\n",
       "      <td>1.739200</td>\n",
       "    </tr>\n",
       "    <tr>\n",
       "      <td>4000</td>\n",
       "      <td>1.737900</td>\n",
       "    </tr>\n",
       "    <tr>\n",
       "      <td>4100</td>\n",
       "      <td>1.733300</td>\n",
       "    </tr>\n",
       "    <tr>\n",
       "      <td>4200</td>\n",
       "      <td>1.725100</td>\n",
       "    </tr>\n",
       "    <tr>\n",
       "      <td>4300</td>\n",
       "      <td>1.725100</td>\n",
       "    </tr>\n",
       "    <tr>\n",
       "      <td>4400</td>\n",
       "      <td>1.713800</td>\n",
       "    </tr>\n",
       "    <tr>\n",
       "      <td>4500</td>\n",
       "      <td>1.718500</td>\n",
       "    </tr>\n",
       "    <tr>\n",
       "      <td>4600</td>\n",
       "      <td>1.706900</td>\n",
       "    </tr>\n",
       "  </tbody>\n",
       "</table><p>"
      ],
      "text/plain": [
       "<IPython.core.display.HTML object>"
      ]
     },
     "metadata": {},
     "output_type": "display_data"
    },
    {
     "name": "stdout",
     "output_type": "stream",
     "text": [
      "[24] set freeze_part_layers: True (freezing 150 out of 160 layers.)\n"
     ]
    },
    {
     "name": "stderr",
     "output_type": "stream",
     "text": [
      "/opt/conda/lib/python3.8/site-packages/torch/nn/modules/module.py:1383: UserWarning: positional arguments and argument \"destination\" are deprecated. nn.Module.state_dict will not accept them in the future. Refer to https://pytorch.org/docs/master/generated/torch.nn.Module.html#torch.nn.Module.state_dict for details.\n",
      "  warnings.warn(\n",
      "/opt/conda/lib/python3.8/site-packages/torch/nn/modules/module.py:1383: UserWarning: positional arguments and argument \"destination\" are deprecated. nn.Module.state_dict will not accept them in the future. Refer to https://pytorch.org/docs/master/generated/torch.nn.Module.html#torch.nn.Module.state_dict for details.\n",
      "  warnings.warn(\n",
      "/opt/conda/lib/python3.8/site-packages/torch/nn/modules/module.py:1383: UserWarning: positional arguments and argument \"destination\" are deprecated. nn.Module.state_dict will not accept them in the future. Refer to https://pytorch.org/docs/master/generated/torch.nn.Module.html#torch.nn.Module.state_dict for details.\n",
      "  warnings.warn(\n",
      "/opt/conda/lib/python3.8/site-packages/torch/nn/modules/module.py:1383: UserWarning: positional arguments and argument \"destination\" are deprecated. nn.Module.state_dict will not accept them in the future. Refer to https://pytorch.org/docs/master/generated/torch.nn.Module.html#torch.nn.Module.state_dict for details.\n",
      "  warnings.warn(\n",
      "/opt/conda/lib/python3.8/site-packages/torch/nn/modules/module.py:1383: UserWarning: positional arguments and argument \"destination\" are deprecated. nn.Module.state_dict will not accept them in the future. Refer to https://pytorch.org/docs/master/generated/torch.nn.Module.html#torch.nn.Module.state_dict for details.\n",
      "  warnings.warn(\n",
      "/opt/conda/lib/python3.8/site-packages/torch/nn/modules/module.py:1383: UserWarning: positional arguments and argument \"destination\" are deprecated. nn.Module.state_dict will not accept them in the future. Refer to https://pytorch.org/docs/master/generated/torch.nn.Module.html#torch.nn.Module.state_dict for details.\n",
      "  warnings.warn(\n",
      "/opt/conda/lib/python3.8/site-packages/torch/nn/modules/module.py:1383: UserWarning: positional arguments and argument \"destination\" are deprecated. nn.Module.state_dict will not accept them in the future. Refer to https://pytorch.org/docs/master/generated/torch.nn.Module.html#torch.nn.Module.state_dict for details.\n",
      "  warnings.warn(\n",
      "/opt/conda/lib/python3.8/site-packages/torch/nn/modules/module.py:1383: UserWarning: positional arguments and argument \"destination\" are deprecated. nn.Module.state_dict will not accept them in the future. Refer to https://pytorch.org/docs/master/generated/torch.nn.Module.html#torch.nn.Module.state_dict for details.\n",
      "  warnings.warn(\n"
     ]
    }
   ],
   "source": [
    "train_results = {}\n",
    "model.train()\n",
    "train_model(model, tokenizer, dataset, config, train_results)"
   ]
  },
  {
   "cell_type": "code",
   "execution_count": 10,
   "id": "8f11a043",
   "metadata": {
    "tags": []
   },
   "outputs": [
    {
     "data": {
      "text/plain": [
       "[<matplotlib.lines.Line2D at 0x7f6c5c6798e0>]"
      ]
     },
     "execution_count": 10,
     "metadata": {},
     "output_type": "execute_result"
    },
    {
     "data": {
      "image/png": "[encoded data removed]",
      "text/plain": [
       "<Figure size 432x288 with 2 Axes>"
      ]
     },
     "metadata": {
      "needs_background": "light"
     },
     "output_type": "display_data"
    }
   ],
   "source": [
    "fig, axs = plt.subplots(2)\n",
    "fig.suptitle('Learning rate and loss')\n",
    "axs[0].plot(train_results['learning_rate_history'])\n",
    "axs[1].plot(train_results['loss_history'])"
   ]
  },
  {
   "cell_type": "code",
   "execution_count": 11,
   "id": "d4ae1e77",
   "metadata": {},
   "outputs": [
    {
     "name": "stderr",
     "output_type": "stream",
     "text": [
      "/opt/conda/lib/python3.8/site-packages/torch/nn/modules/module.py:1383: UserWarning: positional arguments and argument \"destination\" are deprecated. nn.Module.state_dict will not accept them in the future. Refer to https://pytorch.org/docs/master/generated/torch.nn.Module.html#torch.nn.Module.state_dict for details.\n",
      "  warnings.warn(\n"
     ]
    }
   ],
   "source": [
    "model.eval()\n",
    "model.save_pretrained(saved_model_path)"
   ]
  },
  {
   "cell_type": "markdown",
   "id": "f0a53f54",
   "metadata": {},
   "source": [
    "# RP evaluation"
   ]
  },
  {
   "cell_type": "code",
   "execution_count": 12,
   "id": "f5e6bfe8",
   "metadata": {},
   "outputs": [
    {
     "name": "stdout",
     "output_type": "stream",
     "text": [
      "Visit Lorem -> park2<msg>Ry normal \"Hey [player_name]!\"<|endoftext|>\n",
      "[sampled] Visit Lorem -> park2<msg>Ry smile \"Good night, [player_name].\"<p><msg>c \"I'll try to get a little closer.\"<d><scn>park2<msg>Ry normal \"Oh, really? I just saw you here last night.\"<p><msg>c \"Hey, [player_name].\"<\n",
      "----------\n",
      "Meet with Lorem -> park2<msg>Ry normal \"Hey [player_name]!\"<|endoftext|>\n",
      "[sampled] Meet with Lorem -> park2<msg>Ry normal \"Hi, Lorem.\"<d><scn>park2<msg>Ry look \"Hey [player_name]!\"<|endoftext|>\n",
      "----------\n",
      "Visit Adine -> park2<msg>Ry normal \"Hey [player_name]!\"<|endoftext|>\n",
      "[sampled] Visit Adine -> park2<msg>Ry normal \"Oh, it's you! I know you can't go, but if you'll just wait a little while, I'll give you a call.\"<p><msg>c \"You too.\"<d><scn>park2<msg>Ry normal \"Yeah, I guess I'll just wait until we both have\n",
      "----------\n",
      "Fight -> park2<msg>Ry shy \"Hey [player_name]!\"<|endoftext|>\n",
      "[sampled] Fight -> park2<msg>Ry shy \"Oh, [player_name].\"<p><msg>c \"Fight\"<d><scn>park2<msg>Ry shy \"Oh, [player_name], I'm not going to lose this fight.\"<|endoftext|>\n",
      "----------\n",
      "Bite -> park2<msg>Ry normal \"Hey [player_name]!\"<|endoftext|>\n",
      "[sampled] Bite -> park2<msg>Ry shy \"Hey [player_name]!\"<|endoftext|>\n",
      "----------\n",
      "Attack -> park2<msg>Ry normal \"Hey [player_name]!\"<|endoftext|>\n",
      "[sampled] Attack -> park2<msg>Ry normal \"Hey [player_name]!\"<|endoftext|>\n",
      "----------\n",
      "Go to store -> store<msg>m \"The store was rather quiet\"<|endoftext|>\n",
      "[sampled] Go to store -> store<msg>m \"The store was a bit crowded and a lot of people had to be in the front.\"<d><scn>park2<msg>Ry normal \"It was pretty crowded, though.\"<p><msg>c \"Go to store\"<d><scn>store<msg>m \"I grabbed the empty spot\n",
      "----------\n",
      "Lowercase test\n",
      "visit Lorem -> park1<msg>m \"I walked back to the park\"<|endoftext|>\n",
      "visit lorem -> park2<msg>Ry normal \"I see.\"<p><msg>c \"I see.\"<d><scn>park2<msg>Ry normal \"I see.\"<p><msg>c \"I see.\"<d><scn>park2<msg>Ry normal \"I see.\"<p><msg>c \"I see.\"<d><scn>park2<msg>Ry normal \"I see.\"<p><msg>c \"I see\n",
      "----------\n",
      "meet with Lorem -> park2<msg>m \"Lorem was surprised to see me, but I didn't hesitate to approach him.\"<d><scn>park2<msg>Lo normal \"I'm sorry, but I don't think you can do this.\"<p><msg>c \"I'm not sure if I can do this, but I'm not sure if I can do this.\"<d><scn>park2<msg>Lo relieved \"I'm not sure if I can do this, but\n",
      "meet with lorem -> park2<msg>m \"I walked back to the park\"<|endoftext|>\n",
      "----------\n",
      "visit Adine -> adineapt<msg>Ad normal \"I see.\"<p><msg>c \"I see.\"<d><scn>adineapt<msg>Ad normal \"I see.\"<p><msg>c \"I see.\"<d><scn>adineapt<msg>Ad normal \"I see.\"<p><msg>c \"I see.\"<d><scn>adineapt<msg>Ad normal \"I see.\"<p><msg>\n",
      "visit adine -> adineapt<msg>Ad normal \"I see.\"<p><msg>c \"I see.\"<d><scn>adineapt<msg>Ad normal \"I see.\"<p><msg>c \"I see.\"<d><scn>adineapt<msg>Ad normal \"I see.\"<p><msg>c \"I see.\"<d><scn>adineapt<msg>Ad normal \"I see.\"<p><msg>\n",
      "----------\n",
      "fight -> black<msg>m \"I went to the door and opened it. I saw a large, dark object in the corner of the room. It was a large, black object with a large, red, white, and blue disc on its surface. It was a large, black object with a large, red, white, and blue disc on its surface.\"<d><scn>black<msg>m \"I went to the door and opened it. I saw a large, dark object in the corner of the room. It was\n",
      "fight -> black<msg>m \"I went to the door and opened it. I saw a large, dark object in the corner of the room. It was a large, black object with a large, red, white, and blue disc on its surface. It was a large, black object with a large, red, white, and blue disc on its surface.\"<d><scn>black<msg>m \"I went to the door and opened it. I saw a large, dark object in the corner of the room. It was\n",
      "----------\n",
      "bite -> black<msg>Nm normal \"I'm not sure if that's a good idea.\"<p><msg>c \"I'm not sure if that's a good idea.\"<d><scn>black<msg>Nm normal \"I'm not sure if that's a good idea.\"<p><msg>c \"I'm not sure if that's a good idea.\"<d><scn>black<msg>Nm normal \"I'm not sure if that's a good idea.\"<p\n",
      "bite -> black<msg>Nm normal \"I'm not sure if that's a good idea.\"<p><msg>c \"I'm not sure if that's a good idea.\"<d><scn>black<msg>Nm normal \"I'm not sure if that's a good idea.\"<p><msg>c \"I'm not sure if that's a good idea.\"<d><scn>black<msg>Nm normal \"I'm not sure if that's a good idea.\"<p\n",
      "----------\n",
      "attack -> black<msg>m \"I went to the door and opened it. I saw a large, dark object in the corner of the room. It was a large, black object with a large, red, red, and blue disc on its surface. It was a large, red, red, and blue disc, and was about the size of a small, red, red, and blue disc.\"<d><scn>black<msg>m \"I looked around the room, but saw nothing.\"<d><scn>\n",
      "attack -> black<msg>m \"I went to the door and opened it. I saw a large, dark object in the corner of the room. It was a large, black object with a large, red, red, and blue disc on its surface. It was a large, red, red, and blue disc, and was about the size of a small, red, red, and blue disc.\"<d><scn>black<msg>m \"I looked around the room, but saw nothing.\"<d><scn>\n",
      "----------\n",
      "go to store -> store<msg>m \"I walked back to the store\"<|endoftext|>\n",
      "go to store -> store<msg>m \"I walked back to the store\"<|endoftext|>\n",
      "----------\n"
     ]
    }
   ],
   "source": [
    "test_rps = [\n",
    "    \"Visit Lorem\",\n",
    "    \"Meet with Lorem\",\n",
    "    \"Visit Adine\",\n",
    "    \"Fight\",\n",
    "    \"Bite\",\n",
    "    \"Attack\",\n",
    "    \"Go to store\"\n",
    "]\n",
    "\n",
    "for rp in test_rps:\n",
    "    start_prompt = '<p><msg>c \"Hey Remy!\"<d><scn>park2<msg>Ry happy \"Hello, [player_name].\"'\n",
    "    print(f'{rp} -> {model_manager.say(start_prompt, rp)}')\n",
    "    print(f'[sampled] {rp} -> {model_manager.say(start_prompt, rp, top_k = 50, top_p = 0.7)}')\n",
    "    print(\"-\" * 10)\n",
    "    \n",
    "print(\"Lowercase test\")\n",
    "\n",
    "for rp in test_rps:\n",
    "    rp = rp[0].lower() + rp[1:]\n",
    "    print(f'{rp} -> {model_manager.say(\"\", rp)}')\n",
    "    rp = rp.lower()\n",
    "    print(f'{rp} -> {model_manager.say(\"\", rp)}')\n",
    "    print(\"-\" * 10)"
   ]
  },
  {
   "cell_type": "code",
   "execution_count": 13,
   "id": "71b8dd9e",
   "metadata": {
    "tags": []
   },
   "outputs": [
    {
     "name": "stdout",
     "output_type": "stream",
     "text": [
      "Prompt: How are you?\n",
      "Reply: park2<msg>Ry normal \"I'm fine.\"<p><msg>c \"I'm not sure if I should be.\"<d><scn>park2<msg>Ry normal \"I'm fine.\"<p><msg>c \"I'm not sure if I should be.\"<d><scn>park2<msg\n",
      "Reply [sampled]: park2<msg>Ry normal \"Fine, thanks.\"<|endoftext|>\n",
      "----------\n",
      "Prompt: What do you think of Lorem?\n",
      "Reply: park2<msg>Ad normal \"I think he's a good guy.\"<p><msg>c \"I think he's a good guy.\"<d><scn>park2<msg>Ad normal \"I think he's a good guy.\"<p><msg>c \"I think he's a good guy.\"<\n",
      "Reply [sampled]: park2<msg>Ad normal \"I think he's good looking.\"<|endoftext|>\n",
      "----------\n",
      "Prompt: Oh my god, Adine. What is this?\n",
      "Reply: black<msg>m \"I was about to say something, but Adine's expression changed to something else.\"<p><msg>c \"I'm not sure if I should be talking about this, but I'm not sure if I should be talking about this.\"<d><scn>black<msg>m \"I was about to say something, but Adine's expression changed\n",
      "Reply [sampled]: np2x<msg>Ad giggle \"Oh, this is the kind of thing that I would never do in my life. I'm sure you can't imagine it.\"<p><msg>c \"I'm not sure if it's going to happen, but you can bet it will. I just have to know what's going to happen.\"<d><scn>np2\n",
      "----------\n",
      "Prompt: What will we do here?\n",
      "Reply: pad<msg>Br brow \"I don't know. I'm not sure.\"<p><msg>c \"I'm not sure.\"<d><scn>pad<msg>Br brow \"I'm not sure. I'm not sure.\"<p><msg>c \"I'm not sure.\"<d><scn>pad<msg>Br brow \"I'm not sure. I'm\n",
      "Reply [sampled]: np2y<msg>Ad normal \"I suppose you'll be able to use this chair, though.\"<p><msg>c \"How?\"<d><scn>np2y<msg>Ad normal \"There is an open box.\"<p><msg>c \"You mean it's yours?\"<d><scn>np2y<msg>Ad think \"Yeah, I'm\n",
      "----------\n",
      "Prompt: Can you swim?\n",
      "Reply: black<msg>Nm normal \"I can. I'm just not used to it.\"<p><msg>c \"I'm not used to it.\"<d><scn>black<msg>Nm normal \"I'm not used to it.\"<p><msg>c \"I'm not used to it.\"<d><scn>black<msg>Nm normal \"I'm not used to\n",
      "Reply [sampled]: black<msg>Nm smile \"Sure, if you want to. You know how I like it here.\"<p><msg>c \"I can't do that. It's too crowded.\"<d><scn>black<msg>Nm blank \"I can swim, though. I'm just a little bit tired, and I have to keep myself hydrated.\"<p><msg>c \"And what do\n",
      "----------\n"
     ]
    }
   ],
   "source": [
    "prompts = [\n",
    "    ('<p><msg>c \"Hey Remy!\"<d><scn>park2<msg>Ry happy \"Hello, [player_name].\"', \"How are you?\"),\n",
    "    ('<p><msg>c \"I was with Lorem today.\"<d><scn>park2<msg>Ad normal \"Very nice.\"', \"What do you think of Lorem?\"),\n",
    "    ('<p><msg>m \"In Tatsu park, Adine and I sat down.\"', \"Oh my god, Adine. What is this?\"),\n",
    "    ('<p><msg>m \"I sat down on a chair in Anna\\'s lab.\"', \"What will we do here?\"),\n",
    "    ('<p><msg>Nm \"Ah, nice. I like it here.\"', \"Can you swim?\"),\n",
    "]\n",
    "\n",
    "def prompt_test(model_manager, do_sample_test = True):\n",
    "    for (past, prompt) in prompts:\n",
    "        print(f\"Prompt: {prompt}\")\n",
    "        reply = model_manager.say(past, prompt)\n",
    "        print(f\"Reply: {reply}\")\n",
    "        if do_sample_test:\n",
    "            reply = model_manager.say(past, prompt, top_k = 50, top_p = 0.7)\n",
    "            print(f\"Reply [sampled]: {reply}\")\n",
    "        print(\"-\" * 10)\n",
    "        \n",
    "prompt_test(model_manager)"
   ]
  },
  {
   "cell_type": "code",
   "execution_count": null,
   "id": "849c36c9",
   "metadata": {},
   "outputs": [],
   "source": []
  }
 ],
 "metadata": {
  "kernelspec": {
   "display_name": "Python 3 (ipykernel)",
   "language": "python",
   "name": "python3"
  },
  "language_info": {
   "codemirror_mode": {
    "name": "ipython",
    "version": 3
   },
   "file_extension": ".py",
   "mimetype": "text/x-python",
   "name": "python",
   "nbconvert_exporter": "python",
   "pygments_lexer": "ipython3",
   "version": "3.8.13"
  }
 },
 "nbformat": 4,
 "nbformat_minor": 5
}
