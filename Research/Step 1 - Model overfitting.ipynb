{
 "cells": [
  {
   "cell_type": "markdown",
   "id": "7da2dbfd-5b54-424f-8643-6482bd916f0c",
   "metadata": {
    "tags": []
   },
   "source": [
    "# Overfitting\n",
    "\n",
    "... Normally? A bad thing! But for our case it's good...\n",
    "\n",
    "We use a new method to mix an overfitted model (our own) with a pretrained model (GPT-Neo-125M) and have them share eachothers traits. This way it's possible to finetune a model without having to retrain it. It's so fast it can be done in a second on CPU."
   ]
  },
  {
   "cell_type": "code",
   "execution_count": 1,
   "id": "2b97b376-9ac5-4c70-ba13-769649099a9f",
   "metadata": {},
   "outputs": [],
   "source": [
    "%load_ext autoreload\n",
    "%autoreload 2\n",
    "\n",
    "from model_utils import content_aware_encode, train_model, split_data, split_branches, get_model, set_pretrained_model_dropout, get_dataset, visualize_lr\n",
    "from config import Config\n",
    "import json\n",
    "import matplotlib.pyplot as plt\n",
    "%matplotlib inline\n",
    "import math\n",
    "import random\n",
    "import time\n",
    "import onnx\n",
    "import logging\n",
    "from onnx_model_manager import OnnxModelManager\n",
    "from onnxruntime.quantization import quantize_dynamic, QuantType\n",
    "import os\n",
    "import datasets\n",
    "import torch\n",
    "import transformers\n",
    "from transformers import AutoTokenizer, AutoModelForCausalLM\n",
    "from model_manager import ModelManager"
   ]
  },
  {
   "cell_type": "code",
   "execution_count": 2,
   "id": "887d9f81-96c3-408f-bd1c-7b126becc4a6",
   "metadata": {},
   "outputs": [
    {
     "name": "stdout",
     "output_type": "stream",
     "text": [
      "Will use cuda:0 for training with seed: 970988852\n"
     ]
    }
   ],
   "source": [
    "seed = 970988852\n",
    "#seed = random.randint(0, 2 ** 32 - 1)\n",
    "random.seed(seed)\n",
    "datasets.logging.set_verbosity(datasets.logging.ERROR)\n",
    "# Tell pytorch to run this model on the GPU.\n",
    "device_name = \"cuda:0\" if torch.cuda.is_available() else \"cpu\"\n",
    "# device_name = \"cpu\"\n",
    "device = torch.device(device_name)\n",
    "print(f\"Will use {device_name} for training with seed: {seed}\")"
   ]
  },
  {
   "cell_type": "code",
   "execution_count": 3,
   "id": "3e95113e-dfc1-40a9-a39b-5d56f3bf32bc",
   "metadata": {},
   "outputs": [],
   "source": [
    "split_data(os.path.join(Config.work_dir, \"awsw_story_input.txt\"))"
   ]
  },
  {
   "cell_type": "code",
   "execution_count": 4,
   "id": "7bb65c62-47c6-4d36-bd1e-2adfef8ff1ab",
   "metadata": {},
   "outputs": [],
   "source": [
    "config = {\n",
    "    'lr': 1e-4,\n",
    "    \"warmup_factor\": 5,\n",
    "    'scheduler': 'cycles_buildoff',\n",
    "    \"cycles\": 100,\n",
    "    \"lr_end\": 1e-6,\n",
    "    \"power\": 0.6,\n",
    "    #\"freeze_from_steps\": 1,\n",
    "    'freeze_once': True,\n",
    "    'freeze_layer_rate': 4e-5,\n",
    "    'to_freeze_count': 155,\n",
    "    \"seed\": seed,\n",
    "    \"num_epoch\": 250\n",
    "}"
   ]
  },
  {
   "cell_type": "markdown",
   "id": "f61ec271-c94c-44f8-94b0-d58cda4c043a",
   "metadata": {},
   "source": [
    "# Show me your LR!"
   ]
  },
  {
   "cell_type": "code",
   "execution_count": 5,
   "id": "95c2a380-8400-4a9b-a334-c0840ac6e9b7",
   "metadata": {},
   "outputs": [
    {
     "data": {
      "image/png": "[encoded data removed]",
      "text/plain": [
       "<Figure size 432x288 with 1 Axes>"
      ]
     },
     "metadata": {
      "needs_background": "light"
     },
     "output_type": "display_data"
    }
   ],
   "source": [
    "visualize_lr(config)"
   ]
  },
  {
   "cell_type": "code",
   "execution_count": 6,
   "id": "07ffae5b-e197-4417-a4cd-e6befc6ee393",
   "metadata": {},
   "outputs": [
    {
     "name": "stdout",
     "output_type": "stream",
     "text": [
      "Loaded empty model\n",
      "EleutherAI/gpt-neo-125M loaded with 160 params...\n"
     ]
    }
   ],
   "source": [
    "saved_model_path = os.path.join(\"models\", \"awsw_main\")\n",
    "if os.path.exists(os.path.join(saved_model_path, \"pytorch_model.bin\")):\n",
    "    tokenizer = AutoTokenizer.from_pretrained(Config.base_model_name)\n",
    "    model = AutoModelForCausalLM.from_pretrained(saved_model_path)\n",
    "    print(\"Pretrained model loaded\")\n",
    "else:\n",
    "    model, tokenizer = get_model(Config.base_model_name)\n",
    "    print(\"Loaded empty model\")\n",
    "model = model.to(device)\n",
    "print(f\"{Config.base_model_name} loaded with {len(list(model.named_parameters()))} params...\")\n",
    "# set_pretrained_model_dropout(model.transformer.h, 0.0005)"
   ]
  },
  {
   "cell_type": "markdown",
   "id": "068f3315-8f5d-4101-8e7e-2c0129204c94",
   "metadata": {},
   "source": [
    "# Test before training on a pretrained model!"
   ]
  },
  {
   "cell_type": "code",
   "execution_count": 7,
   "id": "0f68c3f1-4c0a-41a2-a3fc-b8b3c36e418c",
   "metadata": {},
   "outputs": [
    {
     "name": "stdout",
     "output_type": "stream",
     "text": [
      "In my dreams, I'm a dragon, an old lady, a dragon with a dragon's head.\n",
      "\n",
      "There's nothing to tell you. I'm the old lady's sister. I'm the old lady's friend. I'm the old lady's brother.\n",
      "\n",
      "I'm not a dragon. I'm not a dragon's sister. I'm not a dragon's friend. I'm not a dragon's sister's friend. I'm not a dragon's sister's friend. I'm not a dragon's sister's friend. I'm not a dragon's sister's friend. I'm not a dragon's sister's friend.\n"
     ]
    }
   ],
   "source": [
    "model.eval()\n",
    "model_manager = ModelManager(model=model, tokenizer=tokenizer, device=device)\n",
    "def test_regular_sampler():\n",
    "    print(model_manager.say_raw(\"In my dreams, I'm a dragon\", 50, 0.7))\n",
    "test_regular_sampler()"
   ]
  },
  {
   "cell_type": "markdown",
   "id": "2b4f74aa-5030-4ffd-ad2f-ae013647975e",
   "metadata": {
    "tags": []
   },
   "source": [
    "# Reviewing our dataset!"
   ]
  },
  {
   "cell_type": "code",
   "execution_count": 8,
   "id": "0974ac13-c420-4275-b34a-3816f580cb70",
   "metadata": {},
   "outputs": [
    {
     "name": "stdout",
     "output_type": "stream",
     "text": [
      "Downloading and preparing dataset text/default to /home/awsw-dev/.cache/huggingface/datasets/text/default-fee24f1210a913bc/0.0.0/4b86d314f7236db91f0a0f5cda32d4375445e64c5eda2692655dd99c2dac68e8...\n"
     ]
    },
    {
     "data": {
      "application/vnd.jupyter.widget-view+json": {
       "model_id": "0bf1fd9e8d374e4cadaf4e5c87c33716",
       "version_major": 2,
       "version_minor": 0
      },
      "text/plain": [
       "Downloading data files:   0%|          | 0/2 [00:00<?, ?it/s]"
      ]
     },
     "metadata": {},
     "output_type": "display_data"
    },
    {
     "data": {
      "application/vnd.jupyter.widget-view+json": {
       "model_id": "02461fc4a315464bbafdc2183e3d34e8",
       "version_major": 2,
       "version_minor": 0
      },
      "text/plain": [
       "Extracting data files:   0%|          | 0/2 [00:00<?, ?it/s]"
      ]
     },
     "metadata": {},
     "output_type": "display_data"
    },
    {
     "name": "stdout",
     "output_type": "stream",
     "text": [
      "Dataset text downloaded and prepared to /home/awsw-dev/.cache/huggingface/datasets/text/default-fee24f1210a913bc/0.0.0/4b86d314f7236db91f0a0f5cda32d4375445e64c5eda2692655dd99c2dac68e8. Subsequent calls will reuse this data.\n"
     ]
    },
    {
     "data": {
      "application/vnd.jupyter.widget-view+json": {
       "model_id": "709e4d5b12354407827d26e65defb89f",
       "version_major": 2,
       "version_minor": 0
      },
      "text/plain": [
       "  0%|          | 0/2 [00:00<?, ?it/s]"
      ]
     },
     "metadata": {},
     "output_type": "display_data"
    },
    {
     "name": "stdout",
     "output_type": "stream",
     "text": [
      "RP review!\n",
      ">loremapt<msg>Ip \"Not really.\"<d><scn>loremapt<msg>Lo \"We've known each other for a long time, though, if that counts.\"<p><msg>c \"Fight\"<d><scn>loremapt<msg>m \"I didn't hesitate and kicked Lorem right in the stomach\"<|endoftext|><p><msg>c \"Sure. Thanks for having me.\"<d><scn>black<msg>An \"My pleasure. We could get together, if you want to.\"<p><\n",
      "----------\n",
      " what about Reza?\"<p><msg>c \"I guess they're convinced that they can find him on their own.\"<p><msg>c \"Visit Reza\"<d><scn>park1<msg>Rz \"Hey [player_name]! How are you?\"<|endoftext|><d><scn>facin2<msg>Ry \"This attitude of yours is not helpful.\"<d><scn>facin2<msg>An \"Neither are you.\"<p><msg>c \"What do you think of Lorem?\"<d><\n",
      "----------\n"
     ]
    }
   ],
   "source": [
    "dataset = get_dataset(seed, tokenizer, path_train = os.path.join(Config.work_dir, \"data_train.txt\"))\n",
    "with open(\"data_train_sample.txt\", 'w') as f:\n",
    "    for i, item in enumerate(dataset['train']):\n",
    "        f.write(tokenizer.decode(item['input_ids']) + \"\\n\")\n",
    "        \n",
    "with open(\"data_train_sample2.txt\", 'w') as f:\n",
    "    for i, item in enumerate(dataset['train']):\n",
    "        f.write(tokenizer.decode(item['input_ids']) + \"\\n\")\n",
    "        \n",
    "print(\"RP review!\")\n",
    "to_see_rp = [\n",
    "    'c \"Fight',\n",
    "    'c \"What do you think of Lorem?'\n",
    "]\n",
    "for item in dataset['train']:\n",
    "    decoded = tokenizer.decode(item['input_ids'])\n",
    "    for rp in list(to_see_rp):\n",
    "        if rp in decoded: \n",
    "            print(decoded)\n",
    "            print(\"-\" * 10)\n",
    "            to_see_rp.remove(rp)\n",
    "            continue\n",
    "    if len(to_see_rp) == 0:\n",
    "        break\n",
    "# Clean up\n",
    "del to_see_rp"
   ]
  },
  {
   "cell_type": "markdown",
   "id": "000e9e10-b2eb-421a-9948-dc3590e1f46d",
   "metadata": {
    "tags": []
   },
   "source": [
    "# Training\n",
    "\n",
    "Model is put in training mode and we begin training. The `train_results` will contain all data after training is completed."
   ]
  },
  {
   "cell_type": "code",
   "execution_count": 9,
   "id": "41750b03-f114-46c4-948e-637db79efe15",
   "metadata": {
    "scrolled": true,
    "tags": []
   },
   "outputs": [
    {
     "name": "stdout",
     "output_type": "stream",
     "text": [
      "[0] set freeze_part_layers: False (freezing 155 out of 160 layers.)\n"
     ]
    },
    {
     "data": {
      "text/html": [
       "\n",
       "    <div>\n",
       "      \n",
       "      <progress value='22750' max='22750' style='width:300px; height:20px; vertical-align: middle;'></progress>\n",
       "      [22750/22750 2:14:44, Epoch 249/250]\n",
       "    </div>\n",
       "    <table border=\"1\" class=\"dataframe\">\n",
       "  <thead>\n",
       " <tr style=\"text-align: left;\">\n",
       "      <th>Step</th>\n",
       "      <th>Training Loss</th>\n",
       "    </tr>\n",
       "  </thead>\n",
       "  <tbody>\n",
       "    <tr>\n",
       "      <td>227</td>\n",
       "      <td>2.014800</td>\n",
       "    </tr>\n",
       "    <tr>\n",
       "      <td>454</td>\n",
       "      <td>1.533900</td>\n",
       "    </tr>\n",
       "    <tr>\n",
       "      <td>681</td>\n",
       "      <td>1.519900</td>\n",
       "    </tr>\n",
       "    <tr>\n",
       "      <td>908</td>\n",
       "      <td>1.513100</td>\n",
       "    </tr>\n",
       "    <tr>\n",
       "      <td>1135</td>\n",
       "      <td>1.510800</td>\n",
       "    </tr>\n",
       "    <tr>\n",
       "      <td>1362</td>\n",
       "      <td>1.505000</td>\n",
       "    </tr>\n",
       "    <tr>\n",
       "      <td>1589</td>\n",
       "      <td>1.501800</td>\n",
       "    </tr>\n",
       "    <tr>\n",
       "      <td>1816</td>\n",
       "      <td>1.507900</td>\n",
       "    </tr>\n",
       "    <tr>\n",
       "      <td>2043</td>\n",
       "      <td>1.501700</td>\n",
       "    </tr>\n",
       "    <tr>\n",
       "      <td>2270</td>\n",
       "      <td>1.495000</td>\n",
       "    </tr>\n",
       "    <tr>\n",
       "      <td>2497</td>\n",
       "      <td>1.497300</td>\n",
       "    </tr>\n",
       "    <tr>\n",
       "      <td>2724</td>\n",
       "      <td>1.497700</td>\n",
       "    </tr>\n",
       "    <tr>\n",
       "      <td>2951</td>\n",
       "      <td>1.493700</td>\n",
       "    </tr>\n",
       "    <tr>\n",
       "      <td>3178</td>\n",
       "      <td>1.491500</td>\n",
       "    </tr>\n",
       "    <tr>\n",
       "      <td>3405</td>\n",
       "      <td>1.487000</td>\n",
       "    </tr>\n",
       "    <tr>\n",
       "      <td>3632</td>\n",
       "      <td>1.486400</td>\n",
       "    </tr>\n",
       "    <tr>\n",
       "      <td>3859</td>\n",
       "      <td>1.486400</td>\n",
       "    </tr>\n",
       "    <tr>\n",
       "      <td>4086</td>\n",
       "      <td>1.479100</td>\n",
       "    </tr>\n",
       "    <tr>\n",
       "      <td>4313</td>\n",
       "      <td>1.484600</td>\n",
       "    </tr>\n",
       "    <tr>\n",
       "      <td>4540</td>\n",
       "      <td>1.476600</td>\n",
       "    </tr>\n",
       "    <tr>\n",
       "      <td>4767</td>\n",
       "      <td>1.479900</td>\n",
       "    </tr>\n",
       "    <tr>\n",
       "      <td>4994</td>\n",
       "      <td>1.478100</td>\n",
       "    </tr>\n",
       "    <tr>\n",
       "      <td>5221</td>\n",
       "      <td>1.473700</td>\n",
       "    </tr>\n",
       "    <tr>\n",
       "      <td>5448</td>\n",
       "      <td>1.470200</td>\n",
       "    </tr>\n",
       "    <tr>\n",
       "      <td>5675</td>\n",
       "      <td>1.470200</td>\n",
       "    </tr>\n",
       "    <tr>\n",
       "      <td>5902</td>\n",
       "      <td>1.474200</td>\n",
       "    </tr>\n",
       "    <tr>\n",
       "      <td>6129</td>\n",
       "      <td>1.470200</td>\n",
       "    </tr>\n",
       "    <tr>\n",
       "      <td>6356</td>\n",
       "      <td>1.467100</td>\n",
       "    </tr>\n",
       "    <tr>\n",
       "      <td>6583</td>\n",
       "      <td>1.467300</td>\n",
       "    </tr>\n",
       "    <tr>\n",
       "      <td>6810</td>\n",
       "      <td>1.464700</td>\n",
       "    </tr>\n",
       "    <tr>\n",
       "      <td>7037</td>\n",
       "      <td>1.464300</td>\n",
       "    </tr>\n",
       "    <tr>\n",
       "      <td>7264</td>\n",
       "      <td>1.458900</td>\n",
       "    </tr>\n",
       "    <tr>\n",
       "      <td>7491</td>\n",
       "      <td>1.460500</td>\n",
       "    </tr>\n",
       "    <tr>\n",
       "      <td>7718</td>\n",
       "      <td>1.457400</td>\n",
       "    </tr>\n",
       "    <tr>\n",
       "      <td>7945</td>\n",
       "      <td>1.459600</td>\n",
       "    </tr>\n",
       "    <tr>\n",
       "      <td>8172</td>\n",
       "      <td>1.458600</td>\n",
       "    </tr>\n",
       "    <tr>\n",
       "      <td>8399</td>\n",
       "      <td>1.459500</td>\n",
       "    </tr>\n",
       "    <tr>\n",
       "      <td>8626</td>\n",
       "      <td>1.450800</td>\n",
       "    </tr>\n",
       "    <tr>\n",
       "      <td>8853</td>\n",
       "      <td>1.459100</td>\n",
       "    </tr>\n",
       "    <tr>\n",
       "      <td>9080</td>\n",
       "      <td>1.450600</td>\n",
       "    </tr>\n",
       "    <tr>\n",
       "      <td>9307</td>\n",
       "      <td>1.452800</td>\n",
       "    </tr>\n",
       "    <tr>\n",
       "      <td>9534</td>\n",
       "      <td>1.453400</td>\n",
       "    </tr>\n",
       "    <tr>\n",
       "      <td>9761</td>\n",
       "      <td>1.450000</td>\n",
       "    </tr>\n",
       "    <tr>\n",
       "      <td>9988</td>\n",
       "      <td>1.449100</td>\n",
       "    </tr>\n",
       "    <tr>\n",
       "      <td>10215</td>\n",
       "      <td>1.452000</td>\n",
       "    </tr>\n",
       "    <tr>\n",
       "      <td>10442</td>\n",
       "      <td>1.447600</td>\n",
       "    </tr>\n",
       "    <tr>\n",
       "      <td>10669</td>\n",
       "      <td>1.445300</td>\n",
       "    </tr>\n",
       "    <tr>\n",
       "      <td>10896</td>\n",
       "      <td>1.446500</td>\n",
       "    </tr>\n",
       "    <tr>\n",
       "      <td>11123</td>\n",
       "      <td>1.444500</td>\n",
       "    </tr>\n",
       "    <tr>\n",
       "      <td>11350</td>\n",
       "      <td>1.443800</td>\n",
       "    </tr>\n",
       "    <tr>\n",
       "      <td>11577</td>\n",
       "      <td>1.441700</td>\n",
       "    </tr>\n",
       "    <tr>\n",
       "      <td>11804</td>\n",
       "      <td>1.435900</td>\n",
       "    </tr>\n",
       "    <tr>\n",
       "      <td>12031</td>\n",
       "      <td>1.441800</td>\n",
       "    </tr>\n",
       "    <tr>\n",
       "      <td>12258</td>\n",
       "      <td>1.440000</td>\n",
       "    </tr>\n",
       "    <tr>\n",
       "      <td>12485</td>\n",
       "      <td>1.435100</td>\n",
       "    </tr>\n",
       "    <tr>\n",
       "      <td>12712</td>\n",
       "      <td>1.434100</td>\n",
       "    </tr>\n",
       "    <tr>\n",
       "      <td>12939</td>\n",
       "      <td>1.432200</td>\n",
       "    </tr>\n",
       "    <tr>\n",
       "      <td>13166</td>\n",
       "      <td>1.437400</td>\n",
       "    </tr>\n",
       "    <tr>\n",
       "      <td>13393</td>\n",
       "      <td>1.436100</td>\n",
       "    </tr>\n",
       "    <tr>\n",
       "      <td>13620</td>\n",
       "      <td>1.431500</td>\n",
       "    </tr>\n",
       "    <tr>\n",
       "      <td>13847</td>\n",
       "      <td>1.435200</td>\n",
       "    </tr>\n",
       "    <tr>\n",
       "      <td>14074</td>\n",
       "      <td>1.428700</td>\n",
       "    </tr>\n",
       "    <tr>\n",
       "      <td>14301</td>\n",
       "      <td>1.428300</td>\n",
       "    </tr>\n",
       "    <tr>\n",
       "      <td>14528</td>\n",
       "      <td>1.435000</td>\n",
       "    </tr>\n",
       "    <tr>\n",
       "      <td>14755</td>\n",
       "      <td>1.431900</td>\n",
       "    </tr>\n",
       "    <tr>\n",
       "      <td>14982</td>\n",
       "      <td>1.426700</td>\n",
       "    </tr>\n",
       "    <tr>\n",
       "      <td>15209</td>\n",
       "      <td>1.424100</td>\n",
       "    </tr>\n",
       "    <tr>\n",
       "      <td>15436</td>\n",
       "      <td>1.430100</td>\n",
       "    </tr>\n",
       "    <tr>\n",
       "      <td>15663</td>\n",
       "      <td>1.423200</td>\n",
       "    </tr>\n",
       "    <tr>\n",
       "      <td>15890</td>\n",
       "      <td>1.426800</td>\n",
       "    </tr>\n",
       "    <tr>\n",
       "      <td>16117</td>\n",
       "      <td>1.425400</td>\n",
       "    </tr>\n",
       "    <tr>\n",
       "      <td>16344</td>\n",
       "      <td>1.427800</td>\n",
       "    </tr>\n",
       "    <tr>\n",
       "      <td>16571</td>\n",
       "      <td>1.420000</td>\n",
       "    </tr>\n",
       "    <tr>\n",
       "      <td>16798</td>\n",
       "      <td>1.424600</td>\n",
       "    </tr>\n",
       "    <tr>\n",
       "      <td>17025</td>\n",
       "      <td>1.414500</td>\n",
       "    </tr>\n",
       "    <tr>\n",
       "      <td>17252</td>\n",
       "      <td>1.426700</td>\n",
       "    </tr>\n",
       "    <tr>\n",
       "      <td>17479</td>\n",
       "      <td>1.418700</td>\n",
       "    </tr>\n",
       "    <tr>\n",
       "      <td>17706</td>\n",
       "      <td>1.415500</td>\n",
       "    </tr>\n",
       "    <tr>\n",
       "      <td>17933</td>\n",
       "      <td>1.421000</td>\n",
       "    </tr>\n",
       "    <tr>\n",
       "      <td>18160</td>\n",
       "      <td>1.413700</td>\n",
       "    </tr>\n",
       "    <tr>\n",
       "      <td>18387</td>\n",
       "      <td>1.415600</td>\n",
       "    </tr>\n",
       "    <tr>\n",
       "      <td>18614</td>\n",
       "      <td>1.411400</td>\n",
       "    </tr>\n",
       "    <tr>\n",
       "      <td>18841</td>\n",
       "      <td>1.406900</td>\n",
       "    </tr>\n",
       "    <tr>\n",
       "      <td>19068</td>\n",
       "      <td>1.407200</td>\n",
       "    </tr>\n",
       "    <tr>\n",
       "      <td>19295</td>\n",
       "      <td>1.404200</td>\n",
       "    </tr>\n",
       "    <tr>\n",
       "      <td>19522</td>\n",
       "      <td>1.405800</td>\n",
       "    </tr>\n",
       "    <tr>\n",
       "      <td>19749</td>\n",
       "      <td>1.407400</td>\n",
       "    </tr>\n",
       "    <tr>\n",
       "      <td>19976</td>\n",
       "      <td>1.403600</td>\n",
       "    </tr>\n",
       "    <tr>\n",
       "      <td>20203</td>\n",
       "      <td>1.405700</td>\n",
       "    </tr>\n",
       "    <tr>\n",
       "      <td>20430</td>\n",
       "      <td>1.402400</td>\n",
       "    </tr>\n",
       "    <tr>\n",
       "      <td>20657</td>\n",
       "      <td>1.406100</td>\n",
       "    </tr>\n",
       "    <tr>\n",
       "      <td>20884</td>\n",
       "      <td>1.404800</td>\n",
       "    </tr>\n",
       "    <tr>\n",
       "      <td>21111</td>\n",
       "      <td>1.403300</td>\n",
       "    </tr>\n",
       "    <tr>\n",
       "      <td>21338</td>\n",
       "      <td>1.401600</td>\n",
       "    </tr>\n",
       "    <tr>\n",
       "      <td>21565</td>\n",
       "      <td>1.395700</td>\n",
       "    </tr>\n",
       "    <tr>\n",
       "      <td>21792</td>\n",
       "      <td>1.401300</td>\n",
       "    </tr>\n",
       "    <tr>\n",
       "      <td>22019</td>\n",
       "      <td>1.402400</td>\n",
       "    </tr>\n",
       "    <tr>\n",
       "      <td>22246</td>\n",
       "      <td>1.404500</td>\n",
       "    </tr>\n",
       "    <tr>\n",
       "      <td>22473</td>\n",
       "      <td>1.396900</td>\n",
       "    </tr>\n",
       "    <tr>\n",
       "      <td>22700</td>\n",
       "      <td>1.400400</td>\n",
       "    </tr>\n",
       "  </tbody>\n",
       "</table><p>"
      ],
      "text/plain": [
       "<IPython.core.display.HTML object>"
      ]
     },
     "metadata": {},
     "output_type": "display_data"
    },
    {
     "name": "stdout",
     "output_type": "stream",
     "text": [
      "[183] set freeze_part_layers: True (freezing 155 out of 160 layers.)\n"
     ]
    }
   ],
   "source": [
    "train_results = {}\n",
    "model.train()\n",
    "train_model(model, tokenizer, dataset, config, train_results)"
   ]
  },
  {
   "cell_type": "code",
   "execution_count": 10,
   "id": "c410a601-c5e4-4cc1-af2b-44a7378f3bbe",
   "metadata": {
    "tags": []
   },
   "outputs": [
    {
     "data": {
      "text/plain": [
       "[<matplotlib.lines.Line2D at 0x7fa669327730>]"
      ]
     },
     "execution_count": 10,
     "metadata": {},
     "output_type": "execute_result"
    },
    {
     "data": {
      "image/png": "[encoded data removed]",
      "text/plain": [
       "<Figure size 432x288 with 2 Axes>"
      ]
     },
     "metadata": {
      "needs_background": "light"
     },
     "output_type": "display_data"
    }
   ],
   "source": [
    "fig, axs = plt.subplots(2)\n",
    "fig.suptitle('Learning rate and loss')\n",
    "axs[0].plot(train_results['learning_rate_history'])\n",
    "axs[1].plot(train_results['loss_history'])"
   ]
  },
  {
   "cell_type": "code",
   "execution_count": 11,
   "id": "753228f0-b420-4b3d-bd69-53da7a87bc49",
   "metadata": {},
   "outputs": [],
   "source": [
    "model.eval()\n",
    "model.save_pretrained(saved_model_path)"
   ]
  },
  {
   "cell_type": "code",
   "execution_count": 12,
   "id": "30070cdb-23d0-4755-a517-2198a0454794",
   "metadata": {},
   "outputs": [
    {
     "name": "stdout",
     "output_type": "stream",
     "text": [
      "Visit Lorem -> park2<msg>Lo \"Oh, [player_name], I didn't expect you to arrive so early.\"<|endoftext|>\n",
      "[sampled] Visit Lorem -> park2<msg>Rz \"Oh, [player_name], I didn't expect you to arrive so early.\"<|endoftext|>\n",
      "----------\n",
      "Meet with Lorem -> park2<msg>Lm \"Oh, [player_name], I didn't expect you to arrive so early.\"<|endoftext|>\n",
      "[sampled] Meet with Lorem -> park2<msg>Ll \"Oh, [player_name], I wasn't expecting visitors.\"<|endoftext|>\n",
      "----------\n",
      "Visit Adine -> adineapt<msg>Ad \"Oh, [player_name], I didn't expect you to arrive so early.\"<|endoftext|>\n",
      "[sampled] Visit Adine -> adineapt<msg>Ad \"Oh, [player_name], I didn't expect you to arrive so early.\"<|endoftext|>\n",
      "----------\n",
      "Fight -> park2<msg>m \"Remy barely avoids my attack and fell, but managed to get up and quickly punch me in the face, a soaring pain quickly came over my face\"<|endoftext|>\n",
      "[sampled] Fight -> park2<msg>m \"Remy barely avoids my attack and fell, but managed to get up and quickly punch me in the face, a soaring pain quickly came over my face\"<|endoftext|>\n",
      "----------\n",
      "Bite -> park2<msg>Ry \"Holy shit!\"<|endoftext|>\n",
      "[sampled] Bite -> park2<msg>Ry \"Oh, [player_name], I wasn't expecting visitors.\"<|endoftext|>\n",
      "----------\n",
      "Attack -> park2<msg>m \"Remy barely avoids my attack and fell, but managed to get up and quickly punch me in the face, a soaring pain quickly came over my face\"<|endoftext|>\n",
      "[sampled] Attack -> park2<msg>m \"Remy barely avoids my attack and fell, but managed to get up and quickly punch me in the face, a soaring pain quickly came over my face\"<|endoftext|>\n",
      "----------\n",
      "Lowercase test\n",
      "visit Lorem -> loremapt<msg>Lo \"Hey [player_name]!\"<|endoftext|>\n",
      "visit lorem -> loremapt<msg>Lo \"Hey [player_name]! How are you?\"<|endoftext|>\n",
      "----------\n",
      "meet with Lorem -> loremapt<msg>Lo \"Oh, [player_name], I didn't expect you to arrive so early.\"<|endoftext|>\n",
      "meet with lorem -> loremapt<msg>Lo \"Oh, [player_name], I wasn't expecting visitors.\"<|endoftext|>\n",
      "----------\n",
      "visit Adine -> adineapt<msg>Ad \"Hey [player_name]! How are you?\"<|endoftext|>\n",
      "visit adine -> adineapt<msg>Ad \"Hey [player_name]! How are you?\"<|endoftext|>\n",
      "----------\n",
      "fight -> cafe<msg>m \"I didn't hesitate and kicked Sebastian right in the stomach\"<|endoftext|>\n",
      "fight -> cafe<msg>m \"I didn't hesitate and kicked Sebastian right in the stomach\"<|endoftext|>\n",
      "----------\n",
      "bite -> black<msg>Zh \"Oh, [player_name], I didn't expect you to arrive so early.\"<|endoftext|>\n",
      "bite -> black<msg>Zh \"Oh, [player_name], I didn't expect you to arrive so early.\"<|endoftext|>\n",
      "----------\n",
      "attack -> o2<msg>m \"I didn't hesitate and kicked Sebastian right in the stomach\"<|endoftext|>\n",
      "attack -> o2<msg>m \"I didn't hesitate and kicked Sebastian right in the stomach\"<|endoftext|>\n",
      "----------\n"
     ]
    }
   ],
   "source": [
    "test_rps = [\n",
    "    \"Visit Lorem\",\n",
    "    \"Meet with Lorem\",\n",
    "    \"Visit Adine\",\n",
    "    \"Fight\",\n",
    "    \"Bite\",\n",
    "    \"Attack\"\n",
    "]\n",
    "\n",
    "for rp in test_rps:\n",
    "    start_prompt = '<p><msg>c \"Hey Remy!\"<d><scn>park2<msg>Ry \"Hello, [player_name].\"'\n",
    "    print(f'{rp} -> {model_manager.say(start_prompt, rp)}')\n",
    "    print(f'[sampled] {rp} -> {model_manager.say(start_prompt, rp, top_k = 50, top_p = 0.7)}')\n",
    "    print(\"-\" * 10)\n",
    "    \n",
    "print(\"Lowercase test\")\n",
    "\n",
    "for rp in test_rps:\n",
    "    rp = rp[0].lower() + rp[1:]\n",
    "    print(f'{rp} -> {model_manager.say(\"\", rp)}')\n",
    "    rp = rp.lower()\n",
    "    print(f'{rp} -> {model_manager.say(\"\", rp)}')\n",
    "    print(\"-\" * 10)"
   ]
  },
  {
   "cell_type": "code",
   "execution_count": 13,
   "id": "5946f900-c221-48a9-8436-c0051890bcee",
   "metadata": {
    "tags": []
   },
   "outputs": [
    {
     "name": "stdout",
     "output_type": "stream",
     "text": [
      "Prompt: How are you?\n",
      "Reply: park2<msg>Ry \"Very nice.\"<|endoftext|>\n",
      "Reply [sampled]: park2<msg>Ry \"Very nice.\"<|endoftext|>\n",
      "----------\n",
      "Prompt: What do you think of Lorem?\n",
      "Reply: park2<msg>Ad \"I think he is funny.\"<|endoftext|>\n",
      "Reply [sampled]: park2<msg>Ad \"He is good looking.\"<|endoftext|>\n",
      "----------\n",
      "Prompt: Oh my god, Adine. What is this?\n",
      "Reply: black<msg>Ad \"I was with Katsuharu today\"<d><scn>black<msg>Ad \"Very nice\"<|endoftext|>\n",
      "Reply [sampled]: adineapt<msg>Ad \"Oh, it's a little weird. I thought it was a park-themed joke.\"<p><msg>c \"I see.\"<p><msg>c \"Let's just say I didn't have any visitors.\"<d><scn>adineapt<msg>Ad \"Yeah, it's just a way for us to show\n",
      "----------\n",
      "Prompt: What will we do here?\n",
      "Reply: np1r<msg>Mv \"I don't know. I'm not sure if I can do this.\"<p><msg>c \"I'm not sure if I can do this.\"<d><scn>np1r<msg>Mv \"I'm not sure if I can do this.\"<p><msg>c \"I'm not sure if I can do this.\"<d\n",
      "Reply [sampled]: cafe<msg>An \"I'm not sure what to say to that. I'm just afraid something will happen.\"<p><msg>c \"What do you think of Emera?\"<d><scn>cafe<msg>An \"I think she is funny.\"<|endoftext|>\n",
      "----------\n",
      "Prompt: Can you swim?\n",
      "Reply: o2<msg>Nm \"I can't swim, though.\"<p><msg>c \"I'm not sure if I can.\"<d><scn>o2<msg>Nm \"I'm not sure if I can.\"<p><msg>c \"I'm not sure if I can.\"<d><scn>o2<msg>Nm \"I'm not sure if I\n",
      "Reply [sampled]: o2<msg>Br \"I suppose.\"<p><msg>c \"I see.\"<p><msg>c \"Go to the store\"<d><scn>store<msg>m \"I opened the door and stepped in the store\"<|endoftext|>\n",
      "----------\n"
     ]
    }
   ],
   "source": [
    "prompts = [\n",
    "    ('<p><msg>c \"Hey Remy!\"<d><scn>park2<msg>Ry \"Hello, [player_name].\"', \"How are you?\"),\n",
    "    ('<p><msg>c \"I was with Lorem today.\"<d><scn>park2<msg>Ad \"Very nice.\"', \"What do you think of Lorem?\"),\n",
    "    ('<p><msg>m \"In Tatsu park, Adine and I sat down.\"', \"Oh my god, Adine. What is this?\"),\n",
    "    ('<p><msg>m \"I sat down on a chair in Anna\\'s lab.\"', \"What will we do here?\"),\n",
    "    ('<p><msg>Nm \"Ah, nice. I like it here.\"', \"Can you swim?\"),\n",
    "]\n",
    "\n",
    "def prompt_test(model_manager, do_sample_test = True):\n",
    "    for (past, prompt) in prompts:\n",
    "        print(f\"Prompt: {prompt}\")\n",
    "        reply = model_manager.say(past, prompt)\n",
    "        print(f\"Reply: {reply}\")\n",
    "        if do_sample_test:\n",
    "            reply = model_manager.say(past, prompt, top_k = 50, top_p = 0.7)\n",
    "            print(f\"Reply [sampled]: {reply}\")\n",
    "        print(\"-\" * 10)\n",
    "        \n",
    "prompt_test(model_manager)"
   ]
  }
 ],
 "metadata": {
  "kernelspec": {
   "display_name": "Python 3 (ipykernel)",
   "language": "python",
   "name": "python3"
  },
  "language_info": {
   "codemirror_mode": {
    "name": "ipython",
    "version": 3
   },
   "file_extension": ".py",
   "mimetype": "text/x-python",
   "name": "python",
   "nbconvert_exporter": "python",
   "pygments_lexer": "ipython3",
   "version": "3.8.10"
  }
 },
 "nbformat": 4,
 "nbformat_minor": 5
}
