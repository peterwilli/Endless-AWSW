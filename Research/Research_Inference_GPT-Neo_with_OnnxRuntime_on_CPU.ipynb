{
 "cells": [
  {
   "cell_type": "markdown",
   "metadata": {},
   "source": [
    "Copyright (c) Microsoft Corporation. All rights reserved.  \n",
    "Licensed under the MIT License."
   ]
  },
  {
   "cell_type": "markdown",
   "metadata": {},
   "source": [
    "# Inference PyTorch GPT-Neo Model with ONNX Runtime on CPU\n",
    "\n",
    "In this tutorial, you'll be introduced to how to load a GPT2 model from PyTorch, convert it to ONNX, and inference it using ONNX Runtime using IO Binding. Note that past state is used to get better performance."
   ]
  },
  {
   "cell_type": "markdown",
   "metadata": {},
   "source": [
    "## Prerequisites ##\n",
    "\n",
    "If you have Jupyter Notebook, you may directly run this notebook. We will use pip to install or upgrade [PyTorch](https://pytorch.org/), [OnnxRuntime](https://microsoft.github.io/onnxruntime/) and other required packages.\n",
    "\n",
    "Otherwise, you can setup a new environment. First, we install [AnaConda](https://www.anaconda.com/distribution/). Then open an AnaConda prompt window and run the following commands:\n",
    "\n",
    "```console\n",
    "conda create -n cpu_env python=3.8\n",
    "conda activate cpu_env\n",
    "conda install jupyter\n",
    "jupyter notebook\n",
    "```\n",
    "The last command will launch Jupyter Notebook and we can open this notebook in browser to continue."
   ]
  },
  {
   "cell_type": "code",
   "execution_count": 2,
   "metadata": {},
   "outputs": [],
   "source": [
    "import os\n",
    "import numpy as np\n",
    "import torch\n",
    "import onnxruntime as ort"
   ]
  },
  {
   "cell_type": "code",
   "execution_count": 3,
   "metadata": {},
   "outputs": [
    {
     "name": "stdout",
     "output_type": "stream",
     "text": [
      "Requirement already satisfied: coloredlogs in /home/awsw-dev/.local/lib/python3.8/site-packages (15.0.1)\n",
      "Requirement already satisfied: humanfriendly>=9.1 in /home/awsw-dev/.local/lib/python3.8/site-packages (from coloredlogs) (10.0)\n"
     ]
    }
   ],
   "source": [
    "!pip install coloredlogs"
   ]
  },
  {
   "cell_type": "markdown",
   "metadata": {},
   "source": [
    "## Convert GPT-Neo model from PyTorch to ONNX ##\n",
    "\n",
    "We have a script [convert_to_onnx.py](https://github.com/microsoft/onnxruntime/blob/master/onnxruntime/python/tools/transformers/convert_to_onnx.py) that could help you to convert GPT2 with past state to ONNX. \n",
    "\n",
    "The script accepts a pretrained model name or path of a checkpoint directory as input, and converts the model to ONNX. It also verifies that the ONNX model could generate same input as the pytorch model. The usage is like \n",
    "```\n",
    "python -m onnxruntime.transformers.convert_to_onnx -m model_name_or_path --output gpt2.onnx -o -p fp32|fp16|int8\n",
    "```\n",
    "The -p option can be used to choose the precision: fp32 (float32), fp16 (mixed precision) or int8 (quantization). The -o option will generate optimized model, which is required for fp16 or int8.\n",
    "\n",
    "Here we use a pretrained model as example:"
   ]
  },
  {
   "cell_type": "code",
   "execution_count": 47,
   "metadata": {},
   "outputs": [
    {
     "name": "stdout",
     "output_type": "stream",
     "text": [
      "NodeArg(name='input_ids', type='tensor(int64)', shape=['batch', 'sequence'])\n",
      "NodeArg(name='past_key_values.0.key', type='tensor(float)', shape=['batch', 12, 'past_sequence', 64])\n",
      "NodeArg(name='past_key_values.0.value', type='tensor(float)', shape=['batch', 12, 'past_sequence', 64])\n",
      "NodeArg(name='past_key_values.1.key', type='tensor(float)', shape=['batch', 12, 'past_sequence', 64])\n",
      "NodeArg(name='past_key_values.1.value', type='tensor(float)', shape=['batch', 12, 'past_sequence', 64])\n",
      "NodeArg(name='past_key_values.2.key', type='tensor(float)', shape=['batch', 12, 'past_sequence', 64])\n",
      "NodeArg(name='past_key_values.2.value', type='tensor(float)', shape=['batch', 12, 'past_sequence', 64])\n",
      "NodeArg(name='past_key_values.3.key', type='tensor(float)', shape=['batch', 12, 'past_sequence', 64])\n",
      "NodeArg(name='past_key_values.3.value', type='tensor(float)', shape=['batch', 12, 'past_sequence', 64])\n",
      "NodeArg(name='past_key_values.4.key', type='tensor(float)', shape=['batch', 12, 'past_sequence', 64])\n",
      "NodeArg(name='past_key_values.4.value', type='tensor(float)', shape=['batch', 12, 'past_sequence', 64])\n",
      "NodeArg(name='past_key_values.5.key', type='tensor(float)', shape=['batch', 12, 'past_sequence', 64])\n",
      "NodeArg(name='past_key_values.5.value', type='tensor(float)', shape=['batch', 12, 'past_sequence', 64])\n",
      "NodeArg(name='past_key_values.6.key', type='tensor(float)', shape=['batch', 12, 'past_sequence', 64])\n",
      "NodeArg(name='past_key_values.6.value', type='tensor(float)', shape=['batch', 12, 'past_sequence', 64])\n",
      "NodeArg(name='past_key_values.7.key', type='tensor(float)', shape=['batch', 12, 'past_sequence', 64])\n",
      "NodeArg(name='past_key_values.7.value', type='tensor(float)', shape=['batch', 12, 'past_sequence', 64])\n",
      "NodeArg(name='past_key_values.8.key', type='tensor(float)', shape=['batch', 12, 'past_sequence', 64])\n",
      "NodeArg(name='past_key_values.8.value', type='tensor(float)', shape=['batch', 12, 'past_sequence', 64])\n",
      "NodeArg(name='past_key_values.9.key', type='tensor(float)', shape=['batch', 12, 'past_sequence', 64])\n",
      "NodeArg(name='past_key_values.9.value', type='tensor(float)', shape=['batch', 12, 'past_sequence', 64])\n",
      "NodeArg(name='past_key_values.10.key', type='tensor(float)', shape=['batch', 12, 'past_sequence', 64])\n",
      "NodeArg(name='past_key_values.10.value', type='tensor(float)', shape=['batch', 12, 'past_sequence', 64])\n",
      "NodeArg(name='past_key_values.11.key', type='tensor(float)', shape=['batch', 12, 'past_sequence', 64])\n",
      "NodeArg(name='past_key_values.11.value', type='tensor(float)', shape=['batch', 12, 'past_sequence', 64])\n",
      "NodeArg(name='attention_mask', type='tensor(float)', shape=['batch', 'past_sequence + sequence'])\n",
      "Outputs:\n",
      "NodeArg(name='last_hidden_state', type='tensor(float)', shape=['batch', 'sequence', 'Reshapelast_hidden_state_dim_2'])\n",
      "NodeArg(name='present.0.key', type='tensor(float)', shape=['batch', 12, 'past_sequence + sequence', 64])\n",
      "NodeArg(name='present.0.value', type='tensor(float)', shape=['batch', 12, 'past_sequence + sequence', 64])\n",
      "NodeArg(name='present.1.key', type='tensor(float)', shape=['batch', 12, 'past_sequence + sequence', 64])\n",
      "NodeArg(name='present.1.value', type='tensor(float)', shape=['batch', 12, 'past_sequence + sequence', 64])\n",
      "NodeArg(name='present.2.key', type='tensor(float)', shape=['batch', 12, 'past_sequence + sequence', 64])\n",
      "NodeArg(name='present.2.value', type='tensor(float)', shape=['batch', 12, 'past_sequence + sequence', 64])\n",
      "NodeArg(name='present.3.key', type='tensor(float)', shape=['batch', 12, 'past_sequence + sequence', 64])\n",
      "NodeArg(name='present.3.value', type='tensor(float)', shape=['batch', 12, 'past_sequence + sequence', 64])\n",
      "NodeArg(name='present.4.key', type='tensor(float)', shape=['batch', 12, 'past_sequence + sequence', 64])\n",
      "NodeArg(name='present.4.value', type='tensor(float)', shape=['batch', 12, 'past_sequence + sequence', 64])\n",
      "NodeArg(name='present.5.key', type='tensor(float)', shape=['batch', 12, 'past_sequence + sequence', 64])\n",
      "NodeArg(name='present.5.value', type='tensor(float)', shape=['batch', 12, 'past_sequence + sequence', 64])\n",
      "NodeArg(name='present.6.key', type='tensor(float)', shape=['batch', 12, 'past_sequence + sequence', 64])\n",
      "NodeArg(name='present.6.value', type='tensor(float)', shape=['batch', 12, 'past_sequence + sequence', 64])\n",
      "NodeArg(name='present.7.key', type='tensor(float)', shape=['batch', 12, 'past_sequence + sequence', 64])\n",
      "NodeArg(name='present.7.value', type='tensor(float)', shape=['batch', 12, 'past_sequence + sequence', 64])\n",
      "NodeArg(name='present.8.key', type='tensor(float)', shape=['batch', 12, 'past_sequence + sequence', 64])\n",
      "NodeArg(name='present.8.value', type='tensor(float)', shape=['batch', 12, 'past_sequence + sequence', 64])\n",
      "NodeArg(name='present.9.key', type='tensor(float)', shape=['batch', 12, 'past_sequence + sequence', 64])\n",
      "NodeArg(name='present.9.value', type='tensor(float)', shape=['batch', 12, 'past_sequence + sequence', 64])\n",
      "NodeArg(name='present.10.key', type='tensor(float)', shape=['batch', 12, 'past_sequence + sequence', 64])\n",
      "NodeArg(name='present.10.value', type='tensor(float)', shape=['batch', 12, 'past_sequence + sequence', 64])\n",
      "NodeArg(name='present.11.key', type='tensor(float)', shape=['batch', 12, 'past_sequence + sequence', 64])\n",
      "NodeArg(name='present.11.value', type='tensor(float)', shape=['batch', 12, 'past_sequence + sequence', 64])\n"
     ]
    }
   ],
   "source": [
    "num_attention_heads = 12\n",
    "hidden_size = 768\n",
    "num_layer = 12\n",
    "model_name_or_path = \"EleutherAI/gpt-neo-125M\"\n",
    "device = torch.device(\"cpu\")\n",
    "ort_session = ort.InferenceSession(\"models/onnx/gpt-neo-default-past.onnx\")\n",
    "for input in ort_session.get_inputs():\n",
    "    print(input)\n",
    "print(\"Outputs:\")\n",
    "for output in ort_session.get_outputs():\n",
    "    print(output)"
   ]
  },
  {
   "cell_type": "markdown",
   "metadata": {},
   "source": [
    "## PyTorch Inference using Huggingface Transformers##\n",
    "\n",
    "In the following, we will use an example input to get the output from PyTorch for comparison purpose.\n",
    "For the first inference, there is no any past state. We can prepare empty state for input."
   ]
  },
  {
   "cell_type": "code",
   "execution_count": 42,
   "metadata": {},
   "outputs": [],
   "source": [
    "from transformers import AutoTokenizer\n",
    "\n",
    "EXAMPLE_Text = ['best hotel in bay area']\n",
    "\n",
    "def get_tokenizer(model_name_or_path):\n",
    "    tokenizer = AutoTokenizer.from_pretrained(model_name_or_path)\n",
    "    tokenizer.padding_side = \"right\"\n",
    "    tokenizer.pad_token = tokenizer.eos_token\n",
    "    #okenizer.add_special_tokens({'pad_token': '[PAD]'})\n",
    "    return tokenizer\n",
    "\n",
    "def get_example_inputs(prompt_text=EXAMPLE_Text):    \n",
    "    tokenizer = get_tokenizer(model_name_or_path)\n",
    "    encodings_dict = tokenizer.batch_encode_plus(prompt_text, padding=True)\n",
    "\n",
    "    input_ids = torch.tensor(encodings_dict['input_ids'], dtype=torch.int64)\n",
    "    attention_mask = torch.tensor(encodings_dict['attention_mask'], dtype=torch.float32)\n",
    "    position_ids = (attention_mask.long().cumsum(-1) - 1)\n",
    "    position_ids.masked_fill_(position_ids < 0, 0)\n",
    "\n",
    "    #Empty Past State for generating first word\n",
    "    empty_past = []\n",
    "    batch_size = input_ids.size(0)\n",
    "    past_shape = [2, batch_size, num_attention_heads, 0, hidden_size // num_attention_heads]\n",
    "    for i in range(num_layer):\n",
    "        empty_past.append(torch.empty(past_shape).type(torch.float32).to(device))\n",
    "       \n",
    "    return input_ids, attention_mask, position_ids, empty_past\n",
    "\n",
    "input_ids, attention_mask, position_ids, empty_past = get_example_inputs()"
   ]
  },
  {
   "cell_type": "code",
   "execution_count": 46,
   "metadata": {},
   "outputs": [
    {
     "name": "stdout",
     "output_type": "stream",
     "text": [
      "tensor([[13466,  7541,   287, 15489,  1989]])\n",
      "tensor([[1., 1., 1., 1., 1.]])\n",
      "------------\n",
      "best hotel in bay areaqu\n"
     ]
    }
   ],
   "source": [
    "inputs = {}\n",
    "shape_name_mapping = {\n",
    "    'sequence': input_ids.size(1),\n",
    "    'batch': 1,\n",
    "    'past_sequence': 0,\n",
    "    'past_sequence + sequence': input_ids.size(1)\n",
    "}\n",
    "type_name_mapping = {\n",
    "    'tensor(int64)': np.int64,\n",
    "    'tensor(float)': np.float32\n",
    "}\n",
    "def map_shape(x):\n",
    "    if type(x) is str:\n",
    "        return shape_name_mapping[x]\n",
    "    return x\n",
    "for input in ort_session.get_inputs():\n",
    "    processed_shape = list(map(map_shape, input.shape))\n",
    "    inputs[input.name] = np.zeros(processed_shape, dtype = type_name_mapping[input.type])\n",
    "inputs['input_ids'] = input_ids.numpy()\n",
    "inputs['attention_mask'] = attention_mask.numpy()\n",
    "print(input_ids)\n",
    "outputs = ort_session.run(None, inputs)\n",
    "\n",
    "def test_generation(tokenizer, num_tokens_to_produce = 30):\n",
    "    eos_token_id = tokenizer.eos_token_id\n",
    "    input_ids, attention_mask, position_ids, past = get_example_inputs()\n",
    "    batch_size = input_ids.size(0)\n",
    "    has_eos = torch.zeros(batch_size, dtype=torch.bool)\n",
    "    all_token_ids = input_ids.clone()\n",
    "\n",
    "    for step in range(num_tokens_to_produce):\n",
    "        inputs = {\n",
    "            \n",
    "        }\n",
    "        for input in ort_session.get_inputs():\n",
    "            processed_shape = list(map(map_shape, input.shape))\n",
    "            inputs[input.name] = np.zeros(processed_shape, dtype = type_name_mapping[input.type])\n",
    "        print(attention_mask)\n",
    "        \n",
    "        attention_mask = attention_mask.numpy()\n",
    "        input_ids = input_ids.numpy()\n",
    "        inputs['input_ids'] = input_ids\n",
    "        inputs['attention_mask'] = attention_mask\n",
    "        outputs = ort_session.run(None, inputs)\n",
    "        next_token_logits = outputs[0][:, -1, :]\n",
    "        next_token_logits = torch.Tensor(next_token_logits)\n",
    "        # Greedy approach is used here. You can easily extend it to use beam search and sampling to pick next tokens.\n",
    "        next_tokens = torch.argmax(next_token_logits, dim=-1)\n",
    "        has_eos = has_eos | (next_tokens == eos_token_id)\n",
    "        tokens_to_add = next_tokens.masked_fill(has_eos, eos_token_id)\n",
    "        all_token_ids = torch.cat([all_token_ids, tokens_to_add.unsqueeze(-1)], dim=-1)\n",
    "\n",
    "        # Update input_ids, attention_mask, position_ids and past\n",
    "        input_ids = tokens_to_add.clone().detach().reshape([batch_size, 1]).to(device)    \n",
    "        position_ids = (position_ids[:,-1] + 1).reshape(batch_size,1)\n",
    "        attention_mask = torch.Tensor(attention_mask)\n",
    "        attention_mask = torch.cat([attention_mask, torch.ones([batch_size, 1]).type_as(attention_mask)], 1).to(device)    \n",
    "\n",
    "        #if torch.all(has_eos):\n",
    "        break\n",
    "\n",
    "    for i, output in enumerate(all_token_ids):\n",
    "        print(\"------------\")\n",
    "        print(tokenizer.decode(output, skip_special_tokens=True))\n",
    "\n",
    "tokenizer = get_tokenizer(model_name_or_path)\n",
    "test_generation(tokenizer)"
   ]
  },
  {
   "cell_type": "markdown",
   "metadata": {},
   "source": [
    "## ONNX Runtime Inference ##\n",
    "\n",
    "We can use ONNX Runtime to inference. The inputs are dictionary with name and numpy array as value, and the output is list of numpy array. Note that both input and output are in CPU. When you run the inference in GPU, it will involve data copy between CPU and GPU for input and output.\n",
    "\n",
    "Let's create an inference session for ONNX Runtime given the exported ONNX model, and see the output."
   ]
  },
  {
   "cell_type": "code",
   "execution_count": null,
   "metadata": {},
   "outputs": [],
   "source": [
    "import onnxruntime\n",
    "import numpy\n",
    "\n",
    "input_ids, attention_mask, position_ids, empty_past = get_example_inputs()\n",
    "\n",
    "onnx_model_path = \"gpt2.onnx\"\n",
    "session = onnxruntime.InferenceSession(onnx_model_path)\n",
    "ort_inputs = {'input_ids': numpy.ascontiguousarray(input_ids.cpu().numpy()),\n",
    "              'attention_mask' : numpy.ascontiguousarray(attention_mask.cpu().numpy()),\n",
    "              'position_ids': numpy.ascontiguousarray(position_ids.cpu().numpy())\n",
    "             }\n",
    "for i, past_i in enumerate(empty_past):\n",
    "    ort_inputs[f'past_{i}'] = numpy.ascontiguousarray(past_i.cpu().numpy())\n",
    "ort_outputs = session.run(None, ort_inputs)"
   ]
  },
  {
   "cell_type": "markdown",
   "metadata": {},
   "source": [
    "We can compare the outputs from PyTorch and ONNX Runtime. Logits are very close (max difference is 1E-4)."
   ]
  },
  {
   "cell_type": "code",
   "execution_count": null,
   "metadata": {},
   "outputs": [],
   "source": [
    "logits_masked_diff = (torch_output[0] - ort_outputs[0]) * attention_mask.unsqueeze(2)\n",
    "max_logits_diff = logits_masked_diff.abs().max()\n",
    "print(\"max logits diff (ignored padding)\", max_logits_diff)"
   ]
  },
  {
   "cell_type": "markdown",
   "metadata": {},
   "source": [
    "## ONNX Runtime Inference with IO Binding ##\n",
    "\n",
    "To avoid data copy for input and output, ONNX Runtime also supports IO Binding. User could provide some buffer for input and outputs. For GPU inference, the buffer can be in GPU to reduce memory copy between CPU and GPU. This is helpful for high performance inference in GPU. For GPT-2, IO Binding might help the performance when batch size or (past) sequence length is large."
   ]
  },
  {
   "cell_type": "code",
   "execution_count": null,
   "metadata": {},
   "outputs": [],
   "source": [
    "def inference_with_io_binding(session, config, input_ids, position_ids, attention_mask, past):\n",
    "    output_shapes = Gpt2Helper.get_output_shapes(batch_size=input_ids.size(0),\n",
    "                                                 past_sequence_length=past[0].size(3),\n",
    "                                                 sequence_length=input_ids.size(1),\n",
    "                                                 config=config)\n",
    "    output_buffers = Gpt2Helper.get_output_buffers(output_shapes, device)\n",
    "\n",
    "    io_binding = Gpt2Helper.prepare_io_binding(session, input_ids, position_ids, attention_mask, past,\n",
    "                                               output_buffers, output_shapes)\n",
    "    session.run_with_iobinding(io_binding)\n",
    "\n",
    "    outputs = Gpt2Helper.get_outputs_from_io_binding_buffer(session, output_buffers, output_shapes,\n",
    "                                                            return_numpy=False)\n",
    "    return outputs"
   ]
  },
  {
   "cell_type": "markdown",
   "metadata": {},
   "source": [
    "We can see that the result is exactly same with/without IO Binding:"
   ]
  },
  {
   "cell_type": "code",
   "execution_count": null,
   "metadata": {},
   "outputs": [],
   "source": [
    "input_ids, attention_mask, position_ids, empty_past = get_example_inputs()\n",
    "outputs = inference_with_io_binding(session, config, input_ids, position_ids, attention_mask, empty_past)\n",
    "for i in range(len(outputs)):\n",
    "    assert torch.eq(outputs[i], torch.from_numpy(ort_outputs[i])).all()\n",
    "print(\"IO Binding result is good\")"
   ]
  },
  {
   "cell_type": "markdown",
   "metadata": {},
   "source": [
    "## Batch Text Generation ##\n",
    "\n",
    "Here is an example for text generation using ONNX Runtime or PyTorch. For ONNX Runtime, IO Binding is used for better performance."
   ]
  },
  {
   "cell_type": "code",
   "execution_count": null,
   "metadata": {},
   "outputs": [],
   "source": [
    "def test_generation(tokenizer, input_text, ort_session=None, num_tokens_to_produce = 30):\n",
    "    use_onnxruntime = (ort_session is not None)\n",
    "    print(\"Text generation using\", \"OnnxRuntime\" if use_onnxruntime else \"PyTorch\", \"...\")\n",
    "    eos_token_id = tokenizer.eos_token_id\n",
    "    \n",
    "    input_ids, attention_mask, position_ids, past = get_example_inputs(input_text)\n",
    "    batch_size = input_ids.size(0)\n",
    "\n",
    "    has_eos = torch.zeros(batch_size, dtype=torch.bool)\n",
    "\n",
    "    all_token_ids = input_ids.clone()\n",
    "\n",
    "    for step in range(num_tokens_to_produce):\n",
    "        if ort_session is not None:\n",
    "            outputs = inference_with_io_binding(ort_session, config, input_ids, position_ids, attention_mask, past)\n",
    "        else:\n",
    "            outputs = torch_model(input_ids, attention_mask=attention_mask, position_ids=position_ids, past=past)  \n",
    "\n",
    "        next_token_logits = outputs[0][:, -1, :]\n",
    "        # Greedy approach is used here. You can easily extend it to use beam search and sampling to pick next tokens.\n",
    "        next_tokens = torch.argmax(next_token_logits, dim=-1)\n",
    "\n",
    "        has_eos = has_eos | (next_tokens == eos_token_id)\n",
    "        tokens_to_add = next_tokens.masked_fill(has_eos, eos_token_id)\n",
    "        all_token_ids = torch.cat([all_token_ids, tokens_to_add.unsqueeze(-1)], dim=-1)\n",
    "\n",
    "        # Update input_ids, attention_mask, position_ids and past\n",
    "        input_ids = tokens_to_add.clone().detach().reshape([batch_size, 1]).to(device)    \n",
    "        position_ids = (position_ids[:,-1] + 1).reshape(batch_size,1)\n",
    "        attention_mask = torch.cat([attention_mask, torch.ones([batch_size, 1]).type_as(attention_mask)], 1).to(device)    \n",
    "\n",
    "        past = []\n",
    "        if not use_onnxruntime:\n",
    "            past = list(outputs[1]) # past in torch output is tuple\n",
    "        else:\n",
    "            for i in range(num_layer):\n",
    "                past_i = torch.from_numpy(outputs[i + 1]) if isinstance(outputs[i + 1], numpy.ndarray) else outputs[i + 1].clone().detach()\n",
    "                past.append(past_i.to(device))\n",
    "\n",
    "        if torch.all(has_eos):\n",
    "            break\n",
    "\n",
    "    for i, output in enumerate(all_token_ids):\n",
    "        print(\"------------\")\n",
    "        print(tokenizer.decode(output, skip_special_tokens=True))"
   ]
  },
  {
   "cell_type": "code",
   "execution_count": null,
   "metadata": {},
   "outputs": [],
   "source": [
    "tokenizer = get_tokenizer(model_name_or_path, cache_dir)\n",
    "input_text = EXAMPLE_Text\n",
    "test_generation(tokenizer, input_text, ort_session=session)"
   ]
  },
  {
   "cell_type": "markdown",
   "metadata": {},
   "source": [
    "Next, we use PyTorch to run again and we can see that the result is exactly same."
   ]
  },
  {
   "cell_type": "code",
   "execution_count": null,
   "metadata": {},
   "outputs": [],
   "source": [
    "test_generation(tokenizer, input_text)"
   ]
  },
  {
   "cell_type": "markdown",
   "metadata": {},
   "source": [
    "## Int8 Quantization ##\n",
    "Next, we will apply dynamic quantization to the model. We optimize the model before quantization to get better performance.\n",
    "\n",
    "Note that text generation result from fp32 and int8 models could be quite different. User shall evaluate the precision metric for your application for both fp32 and int8 models. If the quality of int8 model result is acceptable, you will be glad to find that it is faster than fp32 model in inference. \n",
    "\n",
    "Note that you can leverage [quantization aware training (QAT)](https://pytorch.org/blog/introduction-to-quantization-on-pytorch/) for accuracy improvement if needed."
   ]
  },
  {
   "cell_type": "code",
   "execution_count": null,
   "metadata": {},
   "outputs": [],
   "source": [
    "from onnxruntime.transformers.quantize_helper import QuantizeHelper\n",
    "\n",
    "optimized_fp32_model_path = \"gpt2_fp32.onnx\"\n",
    "quantized_int8_model_path = \"gpt2_int8.onnx\"\n",
    "Gpt2Helper.optimize_onnx(\"gpt2.onnx\", optimized_fp32_model_path, False, model.config.num_attention_heads, model.config.hidden_size)\n",
    "QuantizeHelper.quantize_onnx_model(optimized_fp32_model_path, quantized_int8_model_path)"
   ]
  },
  {
   "cell_type": "code",
   "execution_count": null,
   "metadata": {},
   "outputs": [],
   "source": [
    "session_int8 = onnxruntime.InferenceSession(quantized_int8_model_path)\n",
    "input_text = ['bert model optimization']\n",
    "test_generation(tokenizer, input_text, ort_session=session_int8, num_tokens_to_produce=14)"
   ]
  },
  {
   "cell_type": "markdown",
   "metadata": {},
   "source": [
    "## Benchmark ##\n",
    "There is a tool benchmark_gpt2.py, which can be used to measure the performance of GPT-2 by PyTorch, ONNX Runtime without/with IO Binding."
   ]
  },
  {
   "cell_type": "code",
   "execution_count": null,
   "metadata": {},
   "outputs": [],
   "source": [
    "!{sys.executable} -m onnxruntime.transformers.benchmark_gpt2 -m gpt2 -o"
   ]
  },
  {
   "cell_type": "code",
   "execution_count": null,
   "metadata": {},
   "outputs": [],
   "source": [
    "!{sys.executable} -m onnxruntime.transformers.benchmark_gpt2 -m gpt2 -o --precision int8"
   ]
  },
  {
   "cell_type": "markdown",
   "metadata": {},
   "source": [
    "We can see that quantized model has significant speed up (close to 2x).\n",
    "\n",
    "### Test Environment ###\n",
    "The following is the hardware of the test machine, and software version:"
   ]
  },
  {
   "cell_type": "code",
   "execution_count": null,
   "metadata": {},
   "outputs": [],
   "source": [
    "!{sys.executable} -m onnxruntime.transformers.machine_info --silent"
   ]
  },
  {
   "cell_type": "code",
   "execution_count": null,
   "metadata": {},
   "outputs": [],
   "source": []
  }
 ],
 "metadata": {
  "kernelspec": {
   "display_name": "Python 3 (ipykernel)",
   "language": "python",
   "name": "python3"
  },
  "language_info": {
   "codemirror_mode": {
    "name": "ipython",
    "version": 3
   },
   "file_extension": ".py",
   "mimetype": "text/x-python",
   "name": "python",
   "nbconvert_exporter": "python",
   "pygments_lexer": "ipython3",
   "version": "3.8.10"
  }
 },
 "nbformat": 4,
 "nbformat_minor": 4
}
