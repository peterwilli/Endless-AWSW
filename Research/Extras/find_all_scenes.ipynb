{
 "cells": [
  {
   "cell_type": "code",
   "execution_count": 5,
   "id": "bb2fd7fe-4f05-40ed-b1f4-ef6c0e30d66e",
   "metadata": {},
   "outputs": [],
   "source": [
    "import os\n",
    "import sys\n",
    "from collections import Counter\n",
    "sys.path.append('..')\n",
    "from config import Config\n",
    "from regexes import *"
   ]
  },
  {
   "cell_type": "code",
   "execution_count": 14,
   "id": "fb00c2b6-fc32-43d8-bc88-2c4f9fcd1505",
   "metadata": {},
   "outputs": [],
   "source": [
    "def get_all_scenes(path):\n",
    "    scenes = Counter()\n",
    "    with open(path, 'r') as file:\n",
    "        for line in file.readlines():\n",
    "            current_cmd = None\n",
    "            for token in re_token.findall(line):\n",
    "                if len(token) > 0:\n",
    "                    cmd_match = re_command.match(token)\n",
    "                    if cmd_match is None:\n",
    "                        if current_cmd == 'scn':\n",
    "                            scene = token\n",
    "                            scenes[scene] += 1\n",
    "                    else:\n",
    "                        current_cmd = cmd_match.group(1)\n",
    "    return scenes"
   ]
  },
  {
   "cell_type": "code",
   "execution_count": 16,
   "id": "9bef42f6-72c7-4ba9-8813-5287acbf6f40",
   "metadata": {},
   "outputs": [
    {
     "data": {
      "text/plain": [
       "dict_keys(['ecknaomiapt01', 'eckoldbiolab', 'beach', 'eckwatersky01', 'eckunderwatertransition01', 'eckunderwater02', 'eckunderwatertunnel', 'black', 'eckbeachb', 'park2', 'loremapt', 'office', 'bare', 'pad', 'bareblur', 'bareblur2', 'facin2', 'facinx', 'facin3', 'alley', 'fb', 'farm', 'town4', 'adineapt', 'emeraroom', 'o4', 'o2', 'park3', 'np3x', 'np2x', 'np1x', 'buildingoutside', 'np3', 'np2', 'store2', 'town1x', 'forestx', 'cave', 'o', 'remyapt', 'cafe', 'viewingspot', 'np1r', 'hallway', 'np2y', 'np1n', 'town2', 'darker', 'store', 'library', 'forest2', 'school', 'forest1', 'storex', 'np5e', 'beachx', 'padx', 'np4', 'np5', 'fac1', 'facin', 'town3', 'kitchen', 'np1', 'stars', 'o3', 'town7', 'town6', 'deadbody', 'whiteroom', 'cave2', 'table', 'starsrx', 'farm2', 'office2', 'hatchery', 'testingroom', 'gate', 'fac12', 'adineapt2', 'eckkitchenx', 'eckoutsideuniv2', 'eckswimmingpool', 'ecknewtownout2', 'eckswimmingpool2', 'eckpolicedeptstairs1', 'eckplayeraptextra1', 'town1', 'ecknaomiapt03', 'ecknaomiaptbalcony', 'ecknaomiapt02'])"
      ]
     },
     "execution_count": 16,
     "metadata": {},
     "output_type": "execute_result"
    }
   ],
   "source": [
    "get_all_scenes(\"../awsw_story_input.txt\").keys()"
   ]
  },
  {
   "cell_type": "code",
   "execution_count": null,
   "id": "c067574e-3e96-4829-8747-41e2ac78b4e4",
   "metadata": {},
   "outputs": [],
   "source": []
  }
 ],
 "metadata": {
  "kernelspec": {
   "display_name": "Python 3 (ipykernel)",
   "language": "python",
   "name": "python3"
  },
  "language_info": {
   "codemirror_mode": {
    "name": "ipython",
    "version": 3
   },
   "file_extension": ".py",
   "mimetype": "text/x-python",
   "name": "python",
   "nbconvert_exporter": "python",
   "pygments_lexer": "ipython3",
   "version": "3.10.12"
  }
 },
 "nbformat": 4,
 "nbformat_minor": 5
}
