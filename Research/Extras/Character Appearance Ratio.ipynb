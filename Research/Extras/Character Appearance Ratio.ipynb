{
 "cells": [
  {
   "cell_type": "code",
   "execution_count": null,
   "id": "a2c8f1d7-065a-4054-a2a4-c65f5f148f61",
   "metadata": {},
   "outputs": [],
   "source": [
    "import os\n",
    "from collections import Counter\n",
    "import plotly.express as px\n",
    "\n",
    "import numpy as np\n",
    "import pandas as pd\n",
    "import scipy\n",
    "import json"
   ]
  },
  {
   "cell_type": "code",
   "execution_count": null,
   "id": "736c42c3-25d4-4652-b74f-22ab64be3399",
   "metadata": {},
   "outputs": [],
   "source": [
    "data_path = os.path.join(\"..\", \"awsw_story_input.txt\")\n",
    "with open(data_path) as f:\n",
    "    data = f.read()"
   ]
  },
  {
   "cell_type": "code",
   "execution_count": null,
   "id": "d86d4a18-b68c-460e-82f9-0bb3e63c6920",
   "metadata": {},
   "outputs": [],
   "source": [
    "commands_counter = Counter()\n",
    "for line in data.split(\"\\n\"):\n",
    "    command = line.split(\" \")[0]\n",
    "    if len(command) > 0:\n",
    "        commands_counter[command] += 1\n",
    "    \n",
    "print(f\"JSON: {json.dumps(commands_counter)}\")\n",
    "\n",
    "# Make human readable\n",
    "human_readable = {\n",
    "    'c': 'Player',\n",
    "    'Ry': 'Remy',\n",
    "    'Lo': 'Lorem',\n",
    "    'Ip': 'Ipsum',\n",
    "    'Br': 'Bryce',\n",
    "    'Wr': 'Unknown name',\n",
    "    'Ka': 'Katsuharu',\n",
    "    'Rz': 'Reza',\n",
    "    'Kv': 'Kevin',\n",
    "    'Zh': 'Zhong',\n",
    "    'm': 'Narrator',\n",
    "    'n': 'Back Story',\n",
    "    'Mv': 'Maverick',\n",
    "    'An': 'Anna',\n",
    "    'Ad': 'Adine',\n",
    "    'Sb': 'Sebastian'\n",
    "}\n",
    "for key in list(commands_counter.keys()):\n",
    "    commands_counter[human_readable[key]] = commands_counter.pop(key)\n",
    "print(f\"Human redable: {commands_counter}\")"
   ]
  },
  {
   "cell_type": "code",
   "execution_count": null,
   "id": "914ec60e-0f9b-4082-9066-eb3c156141fb",
   "metadata": {},
   "outputs": [],
   "source": [
    "df = pd.DataFrame.from_dict(commands_counter, orient='index').reset_index()\n",
    "df"
   ]
  },
  {
   "cell_type": "code",
   "execution_count": null,
   "id": "f7d467b8-9def-400a-8855-d9aaa547d4eb",
   "metadata": {},
   "outputs": [],
   "source": [
    "fig = px.pie(df, values=0, names='index', title='Frequency of commands / characters in AWSW')\n",
    "fig.update_layout(\n",
    "    margin=dict(l=20, r=20, t=60, b=20),\n",
    "    paper_bgcolor=\"White\",\n",
    "    height=500\n",
    ")\n",
    "\n",
    "fig.show()"
   ]
  },
  {
   "cell_type": "code",
   "execution_count": null,
   "id": "49051fe6-5b44-4d84-81f8-99fe6c410d67",
   "metadata": {},
   "outputs": [],
   "source": []
  }
 ],
 "metadata": {
  "kernelspec": {
   "display_name": "Python 3 (ipykernel)",
   "language": "python",
   "name": "python3"
  },
  "language_info": {
   "codemirror_mode": {
    "name": "ipython",
    "version": 3
   },
   "file_extension": ".py",
   "mimetype": "text/x-python",
   "name": "python",
   "nbconvert_exporter": "python",
   "pygments_lexer": "ipython3",
   "version": "3.8.10"
  }
 },
 "nbformat": 4,
 "nbformat_minor": 5
}
