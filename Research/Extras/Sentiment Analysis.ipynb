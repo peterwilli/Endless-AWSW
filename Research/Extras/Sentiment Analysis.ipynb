{
 "cells": [
  {
   "cell_type": "code",
   "execution_count": 6,
   "id": "5bafed18",
   "metadata": {},
   "outputs": [],
   "source": [
    "from collections import Counter\n",
    "import pandas as pd\n",
    "import plotly.express as px\n",
    "import sys\n",
    "import json\n",
    "\n",
    "sys.path.append('..')\n",
    "from config import Config\n",
    "from regexes import *"
   ]
  },
  {
   "cell_type": "code",
   "execution_count": 3,
   "id": "4c90f1bf",
   "metadata": {},
   "outputs": [],
   "source": [
    "data = []\n",
    "with open(\"../awsw_story_input.txt\", \"r\") as f:\n",
    "    lines = f.readlines()\n",
    "    for line in lines:\n",
    "        line = line.strip()\n",
    "        if len(line) > 0:\n",
    "            msg_match = re_msg.search(line)\n",
    "            if msg_match is not None:\n",
    "                msg_from = msg_match.group(1)\n",
    "                if msg_from in Config.interactable_characters:\n",
    "                    sentiment = msg_match.group(2)\n",
    "                    text = msg_match.group(3)\n",
    "                    data.append({\n",
    "                        'dragon': msg_from,\n",
    "                        'sentiment': sentiment,\n",
    "                        'text': text\n",
    "                    })"
   ]
  },
  {
   "cell_type": "code",
   "execution_count": 7,
   "id": "1446693a",
   "metadata": {},
   "outputs": [
    {
     "data": {
      "text/plain": [
       "'{\"Nm\": [\"smile\", \"normal\", \"shy\", \"sad\", \"blank\", \"stern\", \"concern\", \"slsmile\", \"confused\", \"scared\", \"annoyed\", \"hurt\", \"cry\", \"bacon\", \"angry\", \"giggle\", \"crysmile\", \"sleep\"], \"Ry\": [\"normal\", \"smile\", \"shy\", \"sad\", \"look\", \"angry\", \"face\", \"think\"], \"Lo\": [\"shy\", \"happy\", \"normal\", \"relieved\", \"think\", \"sad\"], \"Ip\": [\"happy\", \"think\", \"normal\", \"sad\"], \"Br\": [\"normal\", \"stern\", \"smirk\", \"brow\", \"laugh\", \"flirty\", \"gunself\", \"angry\", \"shy\", \"sad\"], \"An\": [\"normal\", \"sad\", \"face\", \"disgust\", \"rage\", \"smirk\", \"cry\", \"despair\", \"think\"], \"Mv\": [\"scared\", \"normal\", \"angry\", \"nice\", \"sad\", \"think\", \"rage\", \"laugh\", \"annoyed\", \"smile\", \"shy\", \"sideeye\"], \"Ad\": [\"think\", \"normal\", \"giggle\", \"annoyed\", \"disappoint\", \"sad\", \"frustrated\"], \"Em\": [\"mean\", \"frown\", \"normal\", \"ques\", \"laugh\", \"stern\"], \"Sb\": [\"normal\", \"drop\", \"disapproval\", \"brow\", \"stern\", \"smile\", \"shy\", \"hand\"], \"Dm\": [\"arrogant\", \"face\", \"normal\"], \"Ka\": [\"normal\", \"exhausted\", \"smile\", \"excited\", \"ques\"], \"Rz\": [\"angry\", \"annoyed\", \"gunpoint\", \"normal\", \"amused\", \"gunself\", \"rage\", \"defeat\", \"laugh\"], \"Iz\": [\"normal\"], \"Zh\": [\"normal\", \"smile\", \"serv\", \"shy\", \"laugh\"], \"Kv\": [\"ramble\", \"normal\", \"brow\", \"face\"]}'"
      ]
     },
     "execution_count": 7,
     "metadata": {},
     "output_type": "execute_result"
    }
   ],
   "source": [
    "def valid_emotions_per_dragon():\n",
    "    result = {}\n",
    "    for d in data:\n",
    "        if not d['dragon'] in result:\n",
    "            result[d['dragon']] = []\n",
    "        emotion = d['sentiment']\n",
    "        if not emotion in result[d['dragon']]:\n",
    "            result[d['dragon']].append(emotion)\n",
    "    return result\n",
    "json.dumps(valid_emotions_per_dragon())"
   ]
  },
  {
   "cell_type": "code",
   "execution_count": null,
   "id": "19586e35",
   "metadata": {},
   "outputs": [],
   "source": [
    "sentiment_counter = Counter()\n",
    "for d in data:\n",
    "    sentiment_counter[d['sentiment']] += 1\n",
    "df = pd.DataFrame.from_dict(sentiment_counter, orient='index').reset_index()\n",
    "fig = px.pie(df, values=0, names='index', title='Frequency of sentiment/emotions in AWSW')\n",
    "fig.update_layout(\n",
    "    margin=dict(l=20, r=20, t=60, b=20),\n",
    "    paper_bgcolor=\"White\",\n",
    "    height=900\n",
    ")\n",
    "fig.show()"
   ]
  },
  {
   "cell_type": "code",
   "execution_count": null,
   "id": "ffa0d8e9",
   "metadata": {},
   "outputs": [],
   "source": [
    "counter_for_dragons = {}\n",
    "for d in data:\n",
    "    if not d['dragon'] in counter_for_dragons:\n",
    "        counter_for_dragons[d['dragon']] = Counter()\n",
    "    counter_for_dragons[d['dragon']][d['sentiment']] += 1\n",
    "final_counter = {\n",
    "    'Dragon': []\n",
    "}\n",
    "for dragon in counter_for_dragons:\n",
    "    final_counter['Dragon'].append(Config.interactable_characters[dragon])\n",
    "    \n",
    "for sentiment in sentiment_counter:\n",
    "    final_counter[sentiment] = []\n",
    "    for dragon in counter_for_dragons:\n",
    "        count = counter_for_dragons[dragon][sentiment]\n",
    "        final_counter[sentiment].append(count)\n",
    "        \n",
    "for i in range(len(final_counter['Dragon'])):\n",
    "    max_sentiment_count = 0\n",
    "    for sentiment in sentiment_counter:\n",
    "        max_sentiment_count += final_counter[sentiment][i]\n",
    "    for sentiment in sentiment_counter:\n",
    "        final_counter[sentiment][i] /= max_sentiment_count\n",
    "        \n",
    "df = pd.DataFrame(data = final_counter)\n",
    "fig = px.bar(df, x=\"Dragon\", y = list(sentiment_counter.keys()), title=\"Sentiment per dragon in AWSW\", pattern_shape=\"variable\", pattern_shape_sequence=[\".\", \"x\", \"+\"], labels={\"value\": \"Ratio\", \"variable\": \"Sentiment\"})\n",
    "fig.update_layout(\n",
    "    margin=dict(l=20, r=20, t=60, b=20),\n",
    "    paper_bgcolor=\"White\",\n",
    "    height=1250\n",
    ")\n",
    "fig.show()"
   ]
  }
 ],
 "metadata": {
  "kernelspec": {
   "display_name": "Python 3 (ipykernel)",
   "language": "python",
   "name": "python3"
  },
  "language_info": {
   "codemirror_mode": {
    "name": "ipython",
    "version": 3
   },
   "file_extension": ".py",
   "mimetype": "text/x-python",
   "name": "python",
   "nbconvert_exporter": "python",
   "pygments_lexer": "ipython3",
   "version": "3.10.12"
  }
 },
 "nbformat": 4,
 "nbformat_minor": 5
}
