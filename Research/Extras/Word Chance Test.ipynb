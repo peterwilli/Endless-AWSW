{
 "cells": [
  {
   "cell_type": "code",
   "execution_count": 7,
   "id": "943194c9",
   "metadata": {},
   "outputs": [],
   "source": [
    "%load_ext autoreload\n",
    "%autoreload 2\n",
    "\n",
    "import numpy as np\n",
    "import sys\n",
    "import matplotlib.pyplot as plt\n",
    "sys.path.append('..')\n",
    "from onnx_model_manager import OnnxModelManager"
   ]
  },
  {
   "cell_type": "code",
   "execution_count": 35,
   "id": "ed80b846",
   "metadata": {},
   "outputs": [
    {
     "name": "stdout",
     "output_type": "stream",
     "text": [
      "[0. 0. 0. 0. 0. 0. 0. 0. 0. 0.]\n",
      "[1.         0.6        0.36       0.216      0.1296     0.07776\n",
      " 0.046656   0.0279936  0.01679616 0.0100777 ]\n"
     ]
    },
    {
     "data": {
      "image/png": "[encoded data removed]",
      "text/plain": [
       "<Figure size 432x288 with 1 Axes>"
      ]
     },
     "metadata": {
      "needs_background": "light"
     },
     "output_type": "display_data"
    }
   ],
   "source": [
    "new_chances = np.zeros(10, dtype = np.float32)\n",
    "print(new_chances)\n",
    "new_chances = OnnxModelManager().word_chance(new_chances, 0.6)\n",
    "plt.plot(new_chances)\n",
    "print(new_chances)"
   ]
  },
  {
   "cell_type": "code",
   "execution_count": null,
   "id": "bc57fabe",
   "metadata": {},
   "outputs": [],
   "source": []
  }
 ],
 "metadata": {
  "kernelspec": {
   "display_name": "Python 3 (ipykernel)",
   "language": "python",
   "name": "python3"
  },
  "language_info": {
   "codemirror_mode": {
    "name": "ipython",
    "version": 3
   },
   "file_extension": ".py",
   "mimetype": "text/x-python",
   "name": "python",
   "nbconvert_exporter": "python",
   "pygments_lexer": "ipython3",
   "version": "3.8.13"
  }
 },
 "nbformat": 4,
 "nbformat_minor": 5
}
