{
 "cells": [
  {
   "cell_type": "markdown",
   "id": "829f66ce-7a94-43e0-a151-8cc429713ae4",
   "metadata": {},
   "source": [
    "# Roleplay actions\n",
    "The purpose of this notebook is to seed the model with actions to further stimulate it to react to roleplay actions such as \"meet Lorem\". The actions are mixed into the model and aren't part of some kind of post processing so more is left to chance. Cause if it were guaranteed, where's the fun in that!"
   ]
  },
  {
   "cell_type": "code",
   "execution_count": null,
   "id": "4be0d4ad-4cca-494f-b29c-248df3fdea47",
   "metadata": {},
   "outputs": [],
   "source": [
    "import os\n",
    "import numpy as np\n",
    "import pandas as pd\n",
    "import scipy\n",
    "import json\n",
    "import sys\n",
    "sys.path.append('..')\n",
    "from config import Config"
   ]
  },
  {
   "cell_type": "code",
   "execution_count": null,
   "id": "9502a6ed-481c-4185-a458-36922077d9c1",
   "metadata": {},
   "outputs": [],
   "source": [
    "d = {\n",
    "    'Ry': 'remyapt',\n",
    "    'Lo': 'loremapt',\n",
    "    'Ip': 'loremapt',\n",
    "    'Br': 'bare',\n",
    "    'Em': 'emeraroom',\n",
    "    'Ka': ['park3', 'park2', 'park1'],\n",
    "    'Rz': ['park3', 'park2', 'park1'],\n",
    "    'Kv': ['park3', 'park2', 'park1'],\n",
    "    'Zh': 'bare',\n",
    "    'Mv': ['park3', 'park2', 'park1'],\n",
    "    'An': 'corridor',\n",
    "    'Ad': 'adineapt',\n",
    "    'Sb': 'office'\n",
    "}\n",
    "{ k: { 'scenes': v } for k, v in d.items() }"
   ]
  },
  {
   "cell_type": "code",
   "execution_count": null,
   "id": "10f2c488-4eea-4ea8-8557-f24be6ecaaad",
   "metadata": {},
   "outputs": [],
   "source": [
    "interactable_characters = Config.interactable_characters\n",
    "interactable_characters_inv = { v: k for k, v in interactable_characters.items() }\n",
    "\n",
    "class ActionReaction():\n",
    "    def __init__(self, actions, reactions, characters):\n",
    "        self.actions = actions\n",
    "        self.reactions = reactions\n",
    "        self.characters = characters\n",
    "        \n",
    "    def to_commands(self):\n",
    "        command_lines = []\n",
    "        for action in self.actions:\n",
    "            for reaction in self.reactions:\n",
    "                for character_code, character_data in self.characters.items():\n",
    "                    scenes = ['%lastscene']\n",
    "                    if 'scenes' in character_data:\n",
    "                        scenes = character_data['scenes']\n",
    "                        if type(scenes) is not list:\n",
    "                            scenes = [scenes]\n",
    "                    for scene in scenes:        \n",
    "                        character_name = character_code\n",
    "                        if character_code in interactable_characters:\n",
    "                            character_name = interactable_characters[character_code]\n",
    "                        command_lines.append(f'<p><msg>c \"{action.replace(\"%character\", character_name)}\"<d><scn>{scene}<msg>{character_code} \"{reaction}\"')\n",
    "                        command_lines.append(f'<p><msg>c \"{action.replace(\"%character\", character_name).lower()}\"<d><scn>{scene}<msg>{character_code} \"{reaction}\"')\n",
    "                        command_lines.append(f'<p><msg>c \"{action.lower().replace(\"%character\", character_name).lower()}\"<d><scn>{scene}<msg>{character_code} \"{reaction}\"')\n",
    "        return command_lines"
   ]
  },
  {
   "cell_type": "markdown",
   "id": "3328b783-add1-4c87-aaf8-9061ecf78463",
   "metadata": {},
   "source": [
    "# Character actions\n",
    "These actions relate to characters, each action will be paired to a character response."
   ]
  },
  {
   "cell_type": "code",
   "execution_count": null,
   "id": "9f1a693a-22ab-4f0d-bf2c-d1bc4d603d27",
   "metadata": {},
   "outputs": [],
   "source": [
    "actions = [\n",
    "    ActionReaction([\n",
    "        \"Meet with %character\",\n",
    "        \"Visit %character\",\n",
    "        \"Go to %character\",\n",
    "    ], [\n",
    "        \"Hey [player_name]!\",\n",
    "        \"Hey [player_name]! How are you?\",\n",
    "        \"Oh, [player_name], I didn't expect you to arrive so early.\",\n",
    "        \"Oh, [player_name], I wasn't expecting visitors.\",\n",
    "    ], \n",
    "    {\n",
    "        'Ry': {'scenes': 'remyapt'},\n",
    "        'Lo': {'scenes': 'loremapt'},\n",
    "        'Ip': {'scenes': 'loremapt'},\n",
    "        'Br': {'scenes': 'bare'},\n",
    "        'Em': {'scenes': 'emeraroom'},\n",
    "        'Ka': {'scenes': ['park3', 'park2', 'park1']},\n",
    "        'Rz': {'scenes': ['park3', 'park2', 'park1']},\n",
    "        'Kv': {'scenes': ['park3', 'park2', 'park1']},\n",
    "        'Zh': {'scenes': 'bare'},\n",
    "        'Mv': {'scenes': ['park3', 'park2', 'park1']},\n",
    "        'An': {'scenes': 'corridor'},\n",
    "        'Ad': {'scenes': 'adineapt'},\n",
    "        'Sb': {'scenes': 'office'}\n",
    "    }),\n",
    "    ActionReaction([\n",
    "        \"Fight %lastcharacter\",\n",
    "        \"Attack %lastcharacter\"\n",
    "    ], [\n",
    "        \"%lastcharacter barely avoids my attack and fell, but managed to get up and quickly punch me in the face, a soaring pain quickly came over my face\",\n",
    "        \"%lastcharacter dodges my attack and comes rushing towards me\",\n",
    "        \"I didn't hesitate and kicked %lastcharacter right in the stomach\"\n",
    "    ], \n",
    "    {\n",
    "        'm': {'scenes': '%lastscene'},\n",
    "    }),\n",
    "    ActionReaction([\n",
    "        \"Hey %character! Over here!\",\n",
    "        \"Hello %character\",\n",
    "        \"%character? Is that you?\",\n",
    "    ], [\n",
    "        \"Hey [player_name]!\",\n",
    "        \"Hey [player_name]! How are you?\",\n",
    "        \"[player_name]? What are you doing here?\",\n",
    "    ], \n",
    "    {\n",
    "        k: {'scenes': '%lastscene'} for k, v in interactable_characters.items()\n",
    "    })\n",
    "]\n",
    "\n",
    "command_lines = []\n",
    "for action in actions:\n",
    "    command_lines += action.to_commands()\n",
    "print(\"\\n\".join(command_lines))"
   ]
  },
  {
   "cell_type": "code",
   "execution_count": null,
   "id": "058364c3-9380-46f4-9617-7c5151f57b80",
   "metadata": {},
   "outputs": [],
   "source": []
  }
 ],
 "metadata": {
  "kernelspec": {
   "display_name": "Python 3 (ipykernel)",
   "language": "python",
   "name": "python3"
  },
  "language_info": {
   "codemirror_mode": {
    "name": "ipython",
    "version": 3
   },
   "file_extension": ".py",
   "mimetype": "text/x-python",
   "name": "python",
   "nbconvert_exporter": "python",
   "pygments_lexer": "ipython3",
   "version": "3.8.10"
  }
 },
 "nbformat": 4,
 "nbformat_minor": 5
}
