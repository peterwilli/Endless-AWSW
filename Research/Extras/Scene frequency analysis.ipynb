{
 "cells": [
  {
   "cell_type": "code",
   "execution_count": null,
   "id": "c25886f8",
   "metadata": {},
   "outputs": [],
   "source": [
    "import os\n",
    "from collections import Counter\n",
    "import plotly.express as px\n",
    "\n",
    "import numpy as np\n",
    "import pandas as pd\n",
    "import scipy\n",
    "import json\n",
    "import re\n",
    "from collections import Counter"
   ]
  },
  {
   "cell_type": "code",
   "execution_count": null,
   "id": "baf46ad8",
   "metadata": {},
   "outputs": [],
   "source": [
    "data_path = os.path.join(\"..\", \"awsw_story_input.txt\")\n",
    "with open(data_path) as f:\n",
    "    data = f.read()"
   ]
  },
  {
   "cell_type": "code",
   "execution_count": null,
   "id": "2b86508c",
   "metadata": {},
   "outputs": [],
   "source": [
    "re_token = re.compile(r'(<.*?>|[^<]*)')"
   ]
  },
  {
   "cell_type": "code",
   "execution_count": null,
   "id": "f965d447",
   "metadata": {},
   "outputs": [],
   "source": [
    "scene_counter = Counter()\n",
    "count_next_token = False\n",
    "for token in re_token.findall(data):\n",
    "    if token == '<scn>':\n",
    "        count_next_token = True\n",
    "    elif count_next_token:\n",
    "        count_next_token = False\n",
    "        scene_counter[token] += 1\n",
    "print(list(scene_counter.keys()))"
   ]
  },
  {
   "cell_type": "code",
   "execution_count": null,
   "id": "37c405fa",
   "metadata": {},
   "outputs": [],
   "source": [
    "df = pd.DataFrame.from_dict(scene_counter, orient='index').reset_index()\n",
    "fig = px.pie(df, values=0, names='index', title='Frequency of scenes in AWSW')\n",
    "fig.update_layout(\n",
    "    margin=dict(l=20, r=20, t=60, b=20),\n",
    "    paper_bgcolor=\"White\",\n",
    "    height=2000\n",
    ")\n",
    "\n",
    "fig.show()"
   ]
  }
 ],
 "metadata": {
  "kernelspec": {
   "display_name": "Python 3 (ipykernel)",
   "language": "python",
   "name": "python3"
  },
  "language_info": {
   "codemirror_mode": {
    "name": "ipython",
    "version": 3
   },
   "file_extension": ".py",
   "mimetype": "text/x-python",
   "name": "python",
   "nbconvert_exporter": "python",
   "pygments_lexer": "ipython3",
   "version": "3.8.13"
  }
 },
 "nbformat": 4,
 "nbformat_minor": 5
}
