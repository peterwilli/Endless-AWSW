{
 "cells": [
  {
   "cell_type": "markdown",
   "id": "5a94063a-1b23-4fb6-8b3f-0112bda99eb2",
   "metadata": {},
   "source": [
    "Patch:\n",
    "\n",
    "```diff\n",
    "diff --git a/src/transformers/generation_utils.py b/src/transformers/generation_utils.py\n",
    "index 8d63954..109f962 100644\n",
    "--- a/src/transformers/generation_utils.py\n",
    "+++ b/src/transformers/generation_utils.py\n",
    "@@ -1373,6 +1373,13 @@ class GenerationMixin:\n",
    " \n",
    "             # prepare model inputs\n",
    "             model_inputs = self.prepare_inputs_for_generation(input_ids, **model_kwargs)\n",
    "+            model_inputs_copy = dict(model_inputs)\n",
    "+            if model_inputs['past_key_values'] is not None:\n",
    "+                if type(model_inputs_copy['past_key_values']) is tuple:\n",
    "+                    model_inputs_copy['past_key_values'] = f\"len({len(model_inputs_copy['past_key_values'])})\"\n",
    "+                else:\n",
    "+                    model_inputs_copy['past_key_values'] = model_inputs_copy['past_key_values'].shape\n",
    "+            print(\"model_inputs\", model_inputs_copy)\n",
    " \n",
    "             # forward pass to get next token\n",
    "             outputs = self(\n",
    "\n",
    "```"
   ]
  },
  {
   "cell_type": "code",
   "execution_count": null,
   "id": "bbec733c-01f3-405c-95bf-0a975c20b632",
   "metadata": {},
   "outputs": [],
   "source": [
    "!pip uninstall -y transformers\n",
    "!sudo pip install -e transformers/"
   ]
  },
  {
   "cell_type": "code",
   "execution_count": 1,
   "id": "2c0890f9-c29f-4e61-9b3f-90c4c0ee5e8d",
   "metadata": {},
   "outputs": [],
   "source": [
    "%load_ext autoreload\n",
    "%autoreload 2\n",
    "import torch\n",
    "from transformers import AutoTokenizer, AutoModelForCausalLM"
   ]
  },
  {
   "cell_type": "code",
   "execution_count": 2,
   "id": "94cdf05b-2ee9-4b7b-83d0-4127bbc2668e",
   "metadata": {},
   "outputs": [],
   "source": [
    "tokenizer = AutoTokenizer.from_pretrained(\"EleutherAI/gpt-neo-125M\")\n",
    "model = AutoModelForCausalLM.from_pretrained(\"EleutherAI/gpt-neo-125M\")"
   ]
  },
  {
   "cell_type": "code",
   "execution_count": 3,
   "id": "f9d71c04-abf9-47f9-8e1e-40d5f0a3fc94",
   "metadata": {},
   "outputs": [
    {
     "name": "stderr",
     "output_type": "stream",
     "text": [
      "Setting `pad_token_id` to `eos_token_id`:50256 for open-end generation.\n"
     ]
    },
    {
     "name": "stdout",
     "output_type": "stream",
     "text": [
      "model_inputs {'input_ids': tensor([[   40,   266, 24082,  1088,   262]]), 'past_key_values': None, 'use_cache': None, 'position_ids': tensor([[0, 1, 2, 3, 4]]), 'attention_mask': tensor([[1, 1, 1, 1, 1]]), 'token_type_ids': None}\n",
      "model_inputs {'input_ids': tensor([[2119]]), 'past_key_values': 'len(12)', 'use_cache': None, 'position_ids': tensor([[5]]), 'attention_mask': tensor([[1, 1, 1, 1, 1, 1]]), 'token_type_ids': None}\n",
      "model_inputs {'input_ids': tensor([[11]]), 'past_key_values': 'len(12)', 'use_cache': None, 'position_ids': tensor([[6]]), 'attention_mask': tensor([[1, 1, 1, 1, 1, 1, 1]]), 'token_type_ids': None}\n",
      "model_inputs {'input_ids': tensor([[290]]), 'past_key_values': 'len(12)', 'use_cache': None, 'position_ids': tensor([[7]]), 'attention_mask': tensor([[1, 1, 1, 1, 1, 1, 1, 1]]), 'token_type_ids': None}\n",
      "model_inputs {'input_ids': tensor([[314]]), 'past_key_values': 'len(12)', 'use_cache': None, 'position_ids': tensor([[8]]), 'attention_mask': tensor([[1, 1, 1, 1, 1, 1, 1, 1, 1]]), 'token_type_ids': None}\n",
      "model_inputs {'input_ids': tensor([[1101]]), 'past_key_values': 'len(12)', 'use_cache': None, 'position_ids': tensor([[9]]), 'attention_mask': tensor([[1, 1, 1, 1, 1, 1, 1, 1, 1, 1]]), 'token_type_ids': None}\n",
      "model_inputs {'input_ids': tensor([[407]]), 'past_key_values': 'len(12)', 'use_cache': None, 'position_ids': tensor([[10]]), 'attention_mask': tensor([[1, 1, 1, 1, 1, 1, 1, 1, 1, 1, 1]]), 'token_type_ids': None}\n",
      "model_inputs {'input_ids': tensor([[1654]]), 'past_key_values': 'len(12)', 'use_cache': None, 'position_ids': tensor([[11]]), 'attention_mask': tensor([[1, 1, 1, 1, 1, 1, 1, 1, 1, 1, 1, 1]]), 'token_type_ids': None}\n",
      "model_inputs {'input_ids': tensor([[611]]), 'past_key_values': 'len(12)', 'use_cache': None, 'position_ids': tensor([[12]]), 'attention_mask': tensor([[1, 1, 1, 1, 1, 1, 1, 1, 1, 1, 1, 1, 1]]), 'token_type_ids': None}\n",
      "model_inputs {'input_ids': tensor([[314]]), 'past_key_values': 'len(12)', 'use_cache': None, 'position_ids': tensor([[13]]), 'attention_mask': tensor([[1, 1, 1, 1, 1, 1, 1, 1, 1, 1, 1, 1, 1, 1]]), 'token_type_ids': None}\n",
      "model_inputs {'input_ids': tensor([[1101]]), 'past_key_values': 'len(12)', 'use_cache': None, 'position_ids': tensor([[14]]), 'attention_mask': tensor([[1, 1, 1, 1, 1, 1, 1, 1, 1, 1, 1, 1, 1, 1, 1]]), 'token_type_ids': None}\n",
      "model_inputs {'input_ids': tensor([[1016]]), 'past_key_values': 'len(12)', 'use_cache': None, 'position_ids': tensor([[15]]), 'attention_mask': tensor([[1, 1, 1, 1, 1, 1, 1, 1, 1, 1, 1, 1, 1, 1, 1, 1]]), 'token_type_ids': None}\n",
      "model_inputs {'input_ids': tensor([[284]]), 'past_key_values': 'len(12)', 'use_cache': None, 'position_ids': tensor([[16]]), 'attention_mask': tensor([[1, 1, 1, 1, 1, 1, 1, 1, 1, 1, 1, 1, 1, 1, 1, 1, 1]]), 'token_type_ids': None}\n",
      "model_inputs {'input_ids': tensor([[307]]), 'past_key_values': 'len(12)', 'use_cache': None, 'position_ids': tensor([[17]]), 'attention_mask': tensor([[1, 1, 1, 1, 1, 1, 1, 1, 1, 1, 1, 1, 1, 1, 1, 1, 1, 1]]), 'token_type_ids': None}\n",
      "model_inputs {'input_ids': tensor([[1498]]), 'past_key_values': 'len(12)', 'use_cache': None, 'position_ids': tensor([[18]]), 'attention_mask': tensor([[1, 1, 1, 1, 1, 1, 1, 1, 1, 1, 1, 1, 1, 1, 1, 1, 1, 1, 1]]), 'token_type_ids': None}\n"
     ]
    },
    {
     "data": {
      "text/plain": [
       "(\"I wiggle around the room, and I'm not sure if I'm going to be able to\",\n",
       " tensor([   40,   266, 24082,  1088,   262,  2119,    11,   290,   314,  1101,\n",
       "           407,  1654,   611,   314,  1101,  1016,   284,   307,  1498,   284]))"
      ]
     },
     "execution_count": 3,
     "metadata": {},
     "output_type": "execute_result"
    }
   ],
   "source": [
    "prompt = \"I wiggle around the\"\n",
    "tokens = torch.tensor(tokenizer.encode(prompt)).unsqueeze(0)\n",
    "generated_tokens = model.generate(tokens)[0]\n",
    "tokenizer.decode(generated_tokens), generated_tokens"
   ]
  }
 ],
 "metadata": {
  "kernelspec": {
   "display_name": "Python 3 (ipykernel)",
   "language": "python",
   "name": "python3"
  },
  "language_info": {
   "codemirror_mode": {
    "name": "ipython",
    "version": 3
   },
   "file_extension": ".py",
   "mimetype": "text/x-python",
   "name": "python",
   "nbconvert_exporter": "python",
   "pygments_lexer": "ipython3",
   "version": "3.8.10"
  }
 },
 "nbformat": 4,
 "nbformat_minor": 5
}
