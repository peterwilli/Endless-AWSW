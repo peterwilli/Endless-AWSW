{
 "cells": [
  {
   "cell_type": "markdown",
   "id": "c5397303-4a67-4d1d-a70f-0b7e4f663f7e",
   "metadata": {},
   "source": [
    "# Finetuning\n",
    "\n",
    "We retrain an LLM (Large Language Model) with a set of specific subset of data alongside an injection of specific prompts to trigger certain scenarios like fighting. The dataset is very carefully crafted from the original game."
   ]
  },
  {
   "cell_type": "code",
   "execution_count": 1,
   "id": "d8eb7696-6435-46c4-9aab-2d6a0035ae24",
   "metadata": {
    "tags": []
   },
   "outputs": [],
   "source": [
    "%load_ext autoreload\n",
    "%autoreload 2\n",
    "\n",
    "import matplotlib.pyplot as plt\n",
    "%matplotlib inline\n",
    "import os\n",
    "import torch\n",
    "import gc\n",
    "import torch.nn as nn\n",
    "import bitsandbytes as bnb\n",
    "from peft import LoraConfig, get_peft_model \n",
    "from transformers import AutoTokenizer, AutoConfig, AutoModelForCausalLM\n",
    "from model_manager import ModelManager\n",
    "import random\n",
    "from transformers import TrainerCallback\n",
    "import wandb\n",
    "import transformers\n",
    "from config import Config\n",
    "import datasets\n",
    "from model_utils import get_dataset, visualize_lr, train_model, split_data\n",
    "from awsw_training_progress import AWSWProgressCallback\n",
    "from peft import PeftModel, PeftConfig"
   ]
  },
  {
   "cell_type": "code",
   "execution_count": 2,
   "id": "580cd9d6-8a58-40cc-a663-277ade571b61",
   "metadata": {
    "tags": []
   },
   "outputs": [
    {
     "name": "stdout",
     "output_type": "stream",
     "text": [
      "Will use cuda:0 for training with seed: 970988852\n"
     ]
    }
   ],
   "source": [
    "seed = 970988852\n",
    "#seed = random.randint(0, 2 ** 32 - 1)\n",
    "random.seed(seed)\n",
    "datasets.logging.set_verbosity(datasets.logging.ERROR)\n",
    "# Tell pytorch to run this model on the GPU.\n",
    "device_name = \"cuda:0\" if torch.cuda.is_available() else \"cpu\"\n",
    "# device_name = \"cpu\"\n",
    "device = torch.device(device_name)\n",
    "config = {\n",
    "    'lr': 1e-4,\n",
    "    \"warmup_factor\": 0.01,\n",
    "    'scheduler': 'cycles_buildoff',\n",
    "    \"cycles\": 50,\n",
    "    \"merge_cycles\": 10,\n",
    "    \"lr_end\": 1e-6,\n",
    "    \"power\": 0.6,\n",
    "    \"seed\": seed,\n",
    "    \"num_epoch\": 20\n",
    "}\n",
    "print(f\"Will use {device_name} for training with seed: {seed}\")"
   ]
  },
  {
   "cell_type": "markdown",
   "id": "33d8bbe2-6592-4895-a709-8fca0102c37f",
   "metadata": {},
   "source": [
    "# Allocating some benchmark tests\n",
    "These tests evaluate roleplay and storytelling capabilities across the board."
   ]
  },
  {
   "cell_type": "code",
   "execution_count": 3,
   "id": "c94f6f14-e495-4c16-927c-a8ee0d934c1e",
   "metadata": {
    "tags": []
   },
   "outputs": [],
   "source": [
    "story_prompts = [\n",
    "    ('<p><msg>c \"Hey Remy!\"<d><scn>park2<msg>Ry happy \"Hello, [player_name].\"', \"How are you?\"),\n",
    "    ('<p><msg>c \"I was with Lorem today.\"<d><scn>park2<msg>Ad normal \"Very nice.\"', \"What do you think of Lorem?\"),\n",
    "    ('<p><msg>m \"In Tatsu park, Adine and I sat down.\"', \"Oh my god, Adine. What is this?\"),\n",
    "    ('<p><msg>m \"I sat down on a chair in Anna\\'s lab.\"', \"What will we do here?\"),\n",
    "    ('<p><msg>Nm happy \"Ah, nice. I like it here.\"', \"Can you swim?\"),\n",
    "]\n",
    "rp_prompts = [('<p><msg>c \"Hey Remy!\"<d><scn>park2<msg>Ry happy \"Hello, [player_name].\"', d) for d in [\n",
    "    \"Visit Lorem\",\n",
    "    \"Meet with Lorem\",\n",
    "    \"Visit Adine\",\n",
    "    \"Fight\",\n",
    "    \"Bite\",\n",
    "    \"Attack\",\n",
    "    \"Go to store\"\n",
    "]]\n",
    "\n",
    "def story_test(do_sample_test = True):\n",
    "    for (context, prompt) in story_prompts:\n",
    "        print(f\"Prompt: {prompt}\")\n",
    "        reply = model_manager.say(context, prompt, max_length = 64)\n",
    "        print(f\"Reply: {reply}\")\n",
    "        if do_sample_test:\n",
    "            reply = model_manager.say(context, prompt, top_k = 50, top_p = 0.7, max_length = 64)\n",
    "            print(f\"Reply [sampled]: {reply}\")\n",
    "        print(\"-\" * 10)\n",
    "\n",
    "def rp_test(do_lowercase_test = True):\n",
    "    for (context, prompt) in rp_prompts:\n",
    "        print(f'{prompt} -> {model_manager.say(context, prompt, max_length = 64)}')\n",
    "        print(f'[sampled] {prompt} -> {model_manager.say(context, prompt, top_k = 50, top_p = 0.7, max_length = 64)}')\n",
    "        print(\"-\" * 10)\n",
    "    if do_lowercase_test:\n",
    "        print(\"Lowercase test\")\n",
    "        for (context, prompt) in rp_prompts:\n",
    "            prompt = prompt[0].lower() + prompt[1:]\n",
    "            print(f'{prompt} -> {model_manager.say(context, prompt, max_length = 64)}')\n",
    "            prompt = prompt.lower()\n",
    "            print(f'{prompt} -> {model_manager.say(context, prompt, max_length = 64)}')\n",
    "            print(\"-\" * 10)"
   ]
  },
  {
   "cell_type": "markdown",
   "id": "e02b402b-21dd-4cec-a2ef-b6878792cafe",
   "metadata": {},
   "source": [
    "# Loading pretrained model\n",
    "We load a foundation language model, i.e. a language model that is generic and needs to be finetuned on a downstream task."
   ]
  },
  {
   "cell_type": "code",
   "execution_count": 4,
   "id": "85092601-eb4d-46a2-9e0e-b4b4c69efa43",
   "metadata": {},
   "outputs": [
    {
     "data": {
      "application/vnd.jupyter.widget-view+json": {
       "model_id": "83375fa2fd9545c1b59a7a46986ceb12",
       "version_major": 2,
       "version_minor": 0
      },
      "text/plain": [
       "Loading checkpoint shards:   0%|          | 0/2 [00:00<?, ?it/s]"
      ]
     },
     "metadata": {},
     "output_type": "display_data"
    },
    {
     "name": "stderr",
     "output_type": "stream",
     "text": [
      "/Projects/Personal/Endless-AWSW/Research/.venv/lib/python3.10/site-packages/transformers/generation/configuration_utils.py:362: UserWarning: `do_sample` is set to `False`. However, `temperature` is set to `0.9` -- this flag is only used in sample-based generation modes. You should set `do_sample=True` or unset `temperature`. This was detected when initializing the generation config instance, which means the corresponding file may hold incorrect parameterization and should be fixed.\n",
      "  warnings.warn(\n",
      "/Projects/Personal/Endless-AWSW/Research/.venv/lib/python3.10/site-packages/transformers/generation/configuration_utils.py:367: UserWarning: `do_sample` is set to `False`. However, `top_p` is set to `0.6` -- this flag is only used in sample-based generation modes. You should set `do_sample=True` or unset `top_p`. This was detected when initializing the generation config instance, which means the corresponding file may hold incorrect parameterization and should be fixed.\n",
      "  warnings.warn(\n"
     ]
    },
    {
     "name": "stdout",
     "output_type": "stream",
     "text": [
      "Pretrained model loaded\n"
     ]
    }
   ],
   "source": [
    "saved_model_path = os.path.join(\"models\", \"awsw_main\")\n",
    "tokenizer = AutoTokenizer.from_pretrained(Config.base_model_name)\n",
    "if os.path.exists(os.path.join(saved_model_path, \"adapter_model.bin\")):\n",
    "    model = AutoModelForCausalLM.from_pretrained(\n",
    "        saved_model_path, \n",
    "        load_in_8bit=True, \n",
    "        device_map='auto',\n",
    "        torch_dtype=torch.float16)\n",
    "    print(\"Pretrained model loaded\")\n",
    "else:\n",
    "    model = AutoModelForCausalLM.from_pretrained(\n",
    "        Config.base_model_name,\n",
    "        load_in_8bit=True, \n",
    "        device_map='auto',\n",
    "        torch_dtype=torch.float16 \n",
    "    )\n",
    "    print(\"Loaded empty model\")\n",
    "model_manager = ModelManager(model=model, tokenizer=tokenizer, device=device)"
   ]
  },
  {
   "cell_type": "markdown",
   "id": "a989f94a-18ec-4ad9-8f8a-aae47eac3e5c",
   "metadata": {},
   "source": [
    "# Running the first story test\n",
    "This story test will likely fail miserably, as we haven't trained the model yet!\n",
    "We also do a generic test, where we take a generic prompt to see how well the language model does in general."
   ]
  },
  {
   "cell_type": "code",
   "execution_count": null,
   "id": "de846693-b725-42c5-8e4e-455f4dbb8f41",
   "metadata": {
    "tags": []
   },
   "outputs": [],
   "source": [
    "story_test(True)\n",
    "print(model_manager.say_raw(\"How to turn into a dragon in a lucid dream.\\nStep 1:\", top_k = 50, top_p = 0.7))"
   ]
  },
  {
   "cell_type": "markdown",
   "id": "fb32b3e9-bf8c-4fee-ae79-6cb3f62e440c",
   "metadata": {},
   "source": [
    "### Apply LoRA\n",
    "\n",
    "Here comes the magic of PEFT (parameter efficient finetuning)! PEFT allows one to finetune a model without changing the original weights by injecting new, smaller weights to train. This allows for faster finetuning and also keeps the orginal knowledge of the original model.\n",
    "Let's load a `PeftModel` and specify that we are going to use low-rank adapters (LoRA) using `get_peft_model` utility function from `peft`."
   ]
  },
  {
   "cell_type": "code",
   "execution_count": null,
   "id": "41945144-796e-4297-b22b-39efa535b841",
   "metadata": {
    "tags": []
   },
   "outputs": [],
   "source": [
    "for param in model.parameters():\n",
    "  param.requires_grad = False  # freeze the model - train adapters later\n",
    "  if param.ndim == 1:\n",
    "    # cast the small parameters (e.g. layernorm) to fp32 for stability\n",
    "    param.data = param.data.to(torch.float32)\n",
    "\n",
    "model.gradient_checkpointing_enable()  # reduce number of stored activations\n",
    "model.enable_input_require_grads()\n",
    "\n",
    "class CastOutputToFloat(nn.Sequential):\n",
    "  def forward(self, x): return super().forward(x).to(torch.float32)\n",
    "model.lm_head = CastOutputToFloat(model.lm_head)"
   ]
  },
  {
   "cell_type": "code",
   "execution_count": null,
   "id": "6299ad0e-c8ed-4b9b-aedb-a094f20eba55",
   "metadata": {
    "tags": []
   },
   "outputs": [],
   "source": [
    "def print_trainable_parameters(model):\n",
    "    \"\"\"\n",
    "    Prints the number of trainable parameters in the model.\n",
    "    \"\"\"\n",
    "    trainable_params = 0\n",
    "    all_param = 0\n",
    "    for _, param in model.named_parameters():\n",
    "        all_param += param.numel()\n",
    "        if param.requires_grad:\n",
    "            trainable_params += param.numel()\n",
    "    print(\n",
    "        f\"trainable params: {trainable_params / 1000000:.2f}M || all params: {all_param / 1000000:.2f}M || trainable: {(trainable_params / all_param) * 100:.2f}%\"\n",
    "    )"
   ]
  },
  {
   "cell_type": "code",
   "execution_count": null,
   "id": "932c67c5-15c8-4e06-a41d-6b490ce24856",
   "metadata": {
    "tags": []
   },
   "outputs": [],
   "source": [
    "lora_config = LoraConfig(\n",
    "    r=8,\n",
    "    lora_alpha=32,\n",
    "    target_modules=[\"q_proj\", \"v_proj\"],\n",
    "    lora_dropout=0.05,\n",
    "    bias=\"none\",\n",
    "    task_type=\"CAUSAL_LM\"\n",
    ")\n",
    "\n",
    "model = get_peft_model(model, lora_config)\n",
    "print_trainable_parameters(model)"
   ]
  },
  {
   "cell_type": "markdown",
   "id": "4e846af4-a596-4d43-8438-dccddacf9cd2",
   "metadata": {},
   "source": [
    "# Reviewing our dataset!"
   ]
  },
  {
   "cell_type": "code",
   "execution_count": null,
   "id": "f9103419-d4d6-4351-b45c-b4c12683f607",
   "metadata": {
    "tags": []
   },
   "outputs": [],
   "source": [
    "split_data(os.path.join(Config.work_dir, \"awsw_story_input.txt\"))"
   ]
  },
  {
   "cell_type": "code",
   "execution_count": null,
   "id": "6f87e391-b115-4ba5-b07f-6c0996573929",
   "metadata": {
    "tags": []
   },
   "outputs": [],
   "source": [
    "dataset = get_dataset(seed, tokenizer, path_train = os.path.join(Config.work_dir, \"data_train.txt\"))\n",
    "with open(\"data_train_sample.txt\", 'w') as f:\n",
    "    for i, item in enumerate(dataset['train']):\n",
    "        f.write(tokenizer.decode(item['input_ids']) + \"\\n\")\n",
    "        \n",
    "with open(\"data_train_sample2.txt\", 'w') as f:\n",
    "    for i, item in enumerate(dataset['train']):\n",
    "        f.write(tokenizer.decode(item['input_ids']) + \"\\n\")\n",
    "        \n",
    "print(\"RP review!\")\n",
    "to_see_rp = [\n",
    "    'c \"Fight',\n",
    "    'c \"What do you think of Lorem?'\n",
    "]\n",
    "for item in dataset['train']:\n",
    "    decoded = tokenizer.decode(item['input_ids'])\n",
    "    for rp in list(to_see_rp):\n",
    "        if rp in decoded: \n",
    "            print(decoded)\n",
    "            print(\"-\" * 10)\n",
    "            to_see_rp.remove(rp)\n",
    "            continue\n",
    "    if len(to_see_rp) == 0:\n",
    "        break\n",
    "# Clean up\n",
    "del to_see_rp"
   ]
  },
  {
   "cell_type": "markdown",
   "id": "22c9a355-411e-4d57-bb63-0904119af8b9",
   "metadata": {},
   "source": [
    "# Train! 🐉"
   ]
  },
  {
   "cell_type": "code",
   "execution_count": null,
   "id": "a19c0b65-3191-4c02-b08b-43adf672e3d8",
   "metadata": {},
   "outputs": [],
   "source": [
    "%env WANDB_PROJECT=endless-angels-with-scaly-wings\n",
    "\n",
    "# Define a callback that logs the demo prompt at the end of each epoch\n",
    "class PromptTestCallback(TrainerCallback):\n",
    "    def __init__(self):\n",
    "        self.story_table = wandb.Table(columns=[\"epoch\", \"context\", \"prompt\", \"reply\", \"sampled_reply\"])\n",
    "        self.rp_table = wandb.Table(columns=[\"epoch\", \"context\", \"prompt\", \"reply\", \"sampled_reply\"])\n",
    "        \n",
    "    @torch.no_grad()\n",
    "    def on_epoch_end(self, args, state, control, **kwargs):\n",
    "        for (context, prompt) in story_prompts:\n",
    "            reply = model_manager.say(context, prompt, max_length = 64)\n",
    "            sampled_reply = model_manager.say(context, prompt, max_length = 64, top_k = 50, top_p = 0.7)\n",
    "            self.story_table.add_data(state.epoch, context, prompt, reply, sampled_reply)  \n",
    "        for (context, prompt) in rp_prompts:\n",
    "            reply = model_manager.say(context, prompt, max_length = 64)\n",
    "            sampled_reply = model_manager.say(context, prompt, max_length = 64, top_k = 50, top_p = 0.7)\n",
    "            self.rp_table.add_data(state.epoch, context, prompt, reply, sampled_reply)\n",
    "        # \"Temporary\" hack (6 months already) due to wandb sucking (see: https://github.com/wandb/wandb/issues/2981)\n",
    "        from copy import copy\n",
    "        wandb.log({ 'story_test': copy(self.story_table), 'rp_test': copy(self.rp_table) })\n",
    "        \n",
    "model.train()\n",
    "train_results = {}\n",
    "train_model(model, tokenizer, dataset, config, train_results, [AWSWProgressCallback(), PromptTestCallback()])"
   ]
  },
  {
   "cell_type": "markdown",
   "id": "6c1c5d8d-37ba-4e5c-ae18-c3d6f1eacf77",
   "metadata": {},
   "source": [
    "# Show loss and learning rate of our training!"
   ]
  },
  {
   "cell_type": "code",
   "execution_count": null,
   "id": "962ec8c8-916f-456a-ab06-8d098d25eed4",
   "metadata": {
    "tags": []
   },
   "outputs": [],
   "source": [
    "fig, axs = plt.subplots(2)\n",
    "fig.suptitle('Learning rate and loss')\n",
    "axs[0].plot(train_results['learning_rate_history'])\n",
    "axs[1].plot(train_results['loss_history'])"
   ]
  },
  {
   "cell_type": "markdown",
   "id": "40372452-b7dd-4040-9c57-e234207f9901",
   "metadata": {},
   "source": [
    "# RP and story evaluation\n",
    "\n",
    "Here we evaluate the final trained model capabilities, and see how well it does in both roleplay and storytelling around the AWSW universe."
   ]
  },
  {
   "cell_type": "code",
   "execution_count": null,
   "id": "e2484747-9ade-4bdc-85b5-8e05b2945fae",
   "metadata": {},
   "outputs": [],
   "source": [
    "story_test(True)\n",
    "rp_test(True)"
   ]
  },
  {
   "cell_type": "markdown",
   "id": "72fea741-4f91-4896-87ca-4247621c5082",
   "metadata": {},
   "source": [
    "# Saving our precious! 💎"
   ]
  },
  {
   "cell_type": "code",
   "execution_count": null,
   "id": "88a42ecd-a07d-433e-b23e-829684393f2b",
   "metadata": {},
   "outputs": [],
   "source": [
    "model.save_pretrained(saved_model_path)"
   ]
  },
  {
   "cell_type": "code",
   "execution_count": 5,
   "id": "8dff75a6-a92f-4111-a037-a6424ee23d88",
   "metadata": {
    "tags": []
   },
   "outputs": [],
   "source": [
    "del model\n",
    "gc.collect()\n",
    "try:\n",
    "    torch.distributed.destroy_process_group()\n",
    "except:\n",
    "    pass\n",
    "torch.cuda.empty_cache()"
   ]
  },
  {
   "cell_type": "code",
   "execution_count": 8,
   "id": "e6a4fbb7-b5c9-4d33-b09d-d368b7f4d664",
   "metadata": {},
   "outputs": [
    {
     "data": {
      "application/vnd.jupyter.widget-view+json": {
       "model_id": "8c7aee70386a40bbbed15185f1cb73cb",
       "version_major": 2,
       "version_minor": 0
      },
      "text/plain": [
       "Loading checkpoint shards:   0%|          | 0/2 [00:00<?, ?it/s]"
      ]
     },
     "metadata": {},
     "output_type": "display_data"
    }
   ],
   "source": [
    "# Reload model in FP16 and merge it with LoRA weights\n",
    "base_model = AutoModelForCausalLM.from_pretrained(\n",
    "    Config.base_model_name,\n",
    "    low_cpu_mem_usage=True,\n",
    "    return_dict=True,\n",
    "    torch_dtype=torch.float16,\n",
    "    device_map='cpu',\n",
    ")\n",
    "model = PeftModel.from_pretrained(base_model, saved_model_path)\n",
    "model = model.merge_and_unload()"
   ]
  },
  {
   "cell_type": "markdown",
   "id": "a2992e56-3232-4bb4-86e5-d0e3be55d11d",
   "metadata": {},
   "source": [
    "# Share to 🤗 Hub"
   ]
  },
  {
   "cell_type": "code",
   "execution_count": 9,
   "id": "2e6bf005-009b-4783-b3d2-8c796323e650",
   "metadata": {
    "tags": []
   },
   "outputs": [
    {
     "data": {
      "application/vnd.jupyter.widget-view+json": {
       "model_id": "ffc794c663ff49cca08346fddcffc574",
       "version_major": 2,
       "version_minor": 0
      },
      "text/plain": [
       "VBox(children=(HTML(value='<center> <img\\nsrc=https://huggingface.co/front/assets/huggingface_logo-noborder.sv…"
      ]
     },
     "metadata": {},
     "output_type": "display_data"
    }
   ],
   "source": [
    "from huggingface_hub import notebook_login\n",
    "\n",
    "notebook_login()"
   ]
  },
  {
   "cell_type": "code",
   "execution_count": 10,
   "id": "3ba312ee-9752-4fb8-b847-a928bef38497",
   "metadata": {
    "tags": []
   },
   "outputs": [
    {
     "name": "stderr",
     "output_type": "stream",
     "text": [
      "/Projects/Personal/Endless-AWSW/Research/.venv/lib/python3.10/site-packages/transformers/utils/hub.py:844: FutureWarning: The `use_auth_token` argument is deprecated and will be removed in v5 of Transformers.\n",
      "  warnings.warn(\n",
      "/Projects/Personal/Endless-AWSW/Research/.venv/lib/python3.10/site-packages/transformers/generation/configuration_utils.py:508: UserWarning: The generation config instance is invalid -- `.validate()` throws warnings and/or exceptions. Fix these issues to save the configuration. This warning will be raised to an exception in v4.34.\n",
      "\n",
      "Thrown during validation:\n",
      "`do_sample` is set to `False`. However, `temperature` is set to `0.9` -- this flag is only used in sample-based generation modes. You should set `do_sample=True` or unset `temperature`.\n",
      "  warnings.warn(\n"
     ]
    },
    {
     "data": {
      "application/vnd.jupyter.widget-view+json": {
       "model_id": "693587eb7ca64cc0baab73495f84c9e3",
       "version_major": 2,
       "version_minor": 0
      },
      "text/plain": [
       "Upload 2 LFS files:   0%|          | 0/2 [00:00<?, ?it/s]"
      ]
     },
     "metadata": {},
     "output_type": "display_data"
    },
    {
     "data": {
      "application/vnd.jupyter.widget-view+json": {
       "model_id": "acb21af9cb044cb8ad96fb4beafbef15",
       "version_major": 2,
       "version_minor": 0
      },
      "text/plain": [
       "pytorch_model-00001-of-00002.bin:   0%|          | 0.00/9.98G [00:00<?, ?B/s]"
      ]
     },
     "metadata": {},
     "output_type": "display_data"
    },
    {
     "data": {
      "application/vnd.jupyter.widget-view+json": {
       "model_id": "7801f35a132d42e6a25201d9e1ce7845",
       "version_major": 2,
       "version_minor": 0
      },
      "text/plain": [
       "pytorch_model-00002-of-00002.bin:   0%|          | 0.00/3.50G [00:00<?, ?B/s]"
      ]
     },
     "metadata": {},
     "output_type": "display_data"
    },
    {
     "data": {
      "text/plain": [
       "CommitInfo(commit_url='https://huggingface.co/peterwilli/eawsw-16k/commit/7c4618e5754281f33496e4e9cce0d021dcafdb60', commit_message='Upload LlamaForCausalLM', commit_description='', oid='7c4618e5754281f33496e4e9cce0d021dcafdb60', pr_url=None, pr_revision=None, pr_num=None)"
      ]
     },
     "execution_count": 10,
     "metadata": {},
     "output_type": "execute_result"
    }
   ],
   "source": [
    "model.push_to_hub(\"peterwilli/eawsw-16k\", use_auth_token=True)"
   ]
  },
  {
   "cell_type": "code",
   "execution_count": 12,
   "id": "89b6e1ae-1c43-4c5a-b1a5-246144052a79",
   "metadata": {},
   "outputs": [
    {
     "name": "stderr",
     "output_type": "stream",
     "text": [
      "/Projects/Personal/Endless-AWSW/Research/.venv/lib/python3.10/site-packages/transformers/generation/configuration_utils.py:508: UserWarning: The generation config instance is invalid -- `.validate()` throws warnings and/or exceptions. Fix these issues to save the configuration. This warning will be raised to an exception in v4.34.\n",
      "\n",
      "Thrown during validation:\n",
      "`do_sample` is set to `False`. However, `temperature` is set to `0.9` -- this flag is only used in sample-based generation modes. You should set `do_sample=True` or unset `temperature`.\n",
      "  warnings.warn(\n"
     ]
    }
   ],
   "source": [
    "model.save_pretrained(\"merged-eawsw-16k\")"
   ]
  },
  {
   "cell_type": "code",
   "execution_count": null,
   "id": "3dcd8925-b29e-4235-90d3-aac533ef0aa0",
   "metadata": {},
   "outputs": [],
   "source": []
  }
 ],
 "metadata": {
  "kernelspec": {
   "display_name": "Python 3 (ipykernel)",
   "language": "python",
   "name": "python3"
  },
  "language_info": {
   "codemirror_mode": {
    "name": "ipython",
    "version": 3
   },
   "file_extension": ".py",
   "mimetype": "text/x-python",
   "name": "python",
   "nbconvert_exporter": "python",
   "pygments_lexer": "ipython3",
   "version": "3.10.12"
  }
 },
 "nbformat": 4,
 "nbformat_minor": 5
}
