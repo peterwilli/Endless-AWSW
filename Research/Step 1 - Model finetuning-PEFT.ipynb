{
 "cells": [
  {
   "cell_type": "markdown",
   "id": "c5397303-4a67-4d1d-a70f-0b7e4f663f7e",
   "metadata": {},
   "source": [
    "# Finetuning\n",
    "\n",
    "We retrain an LLM (Large Language Model) with a set of specific subset of data alongside an injection of specific prompts to trigger certain scenarios like fighting. The dataset is very carefully crafted from the original game."
   ]
  },
  {
   "cell_type": "code",
   "execution_count": 1,
   "id": "d8eb7696-6435-46c4-9aab-2d6a0035ae24",
   "metadata": {
    "tags": []
   },
   "outputs": [],
   "source": [
    "%load_ext autoreload\n",
    "%autoreload 2\n",
    "\n",
    "import matplotlib.pyplot as plt\n",
    "%matplotlib inline\n",
    "import os\n",
    "import torch\n",
    "import gc\n",
    "import torch.nn as nn\n",
    "import bitsandbytes as bnb\n",
    "from peft import LoraConfig, get_peft_model \n",
    "from transformers import AutoTokenizer, AutoConfig, AutoModelForCausalLM\n",
    "from model_manager import ModelManager\n",
    "import random\n",
    "from transformers import TrainerCallback\n",
    "import wandb\n",
    "import transformers\n",
    "from config import Config\n",
    "import datasets\n",
    "from model_utils import get_dataset, visualize_lr, train_model, split_data\n",
    "from awsw_training_progress import AWSWProgressCallback\n",
    "from peft import PeftModel, PeftConfig"
   ]
  },
  {
   "cell_type": "code",
   "execution_count": 2,
   "id": "580cd9d6-8a58-40cc-a663-277ade571b61",
   "metadata": {
    "tags": []
   },
   "outputs": [
    {
     "name": "stdout",
     "output_type": "stream",
     "text": [
      "Will use cuda:0 for training with seed: 970988852\n"
     ]
    }
   ],
   "source": [
    "seed = 970988852\n",
    "#seed = random.randint(0, 2 ** 32 - 1)\n",
    "random.seed(seed)\n",
    "datasets.logging.set_verbosity(datasets.logging.ERROR)\n",
    "# Tell pytorch to run this model on the GPU.\n",
    "device_name = \"cuda:0\" if torch.cuda.is_available() else \"cpu\"\n",
    "# device_name = \"cpu\"\n",
    "device = torch.device(device_name)\n",
    "config = {\n",
    "    'lr': 1e-4,\n",
    "    \"warmup_factor\": 0.01,\n",
    "    'scheduler': 'cycles_buildoff',\n",
    "    \"cycles\": 50,\n",
    "    \"merge_cycles\": 10,\n",
    "    \"lr_end\": 1e-6,\n",
    "    \"power\": 0.6,\n",
    "    \"seed\": seed,\n",
    "    \"num_epoch\": 20\n",
    "}\n",
    "print(f\"Will use {device_name} for training with seed: {seed}\")"
   ]
  },
  {
   "cell_type": "markdown",
   "id": "33d8bbe2-6592-4895-a709-8fca0102c37f",
   "metadata": {},
   "source": [
    "# Allocating some benchmark tests\n",
    "These tests evaluate roleplay and storytelling capabilities across the board."
   ]
  },
  {
   "cell_type": "code",
   "execution_count": 3,
   "id": "c94f6f14-e495-4c16-927c-a8ee0d934c1e",
   "metadata": {
    "tags": []
   },
   "outputs": [],
   "source": [
    "story_prompts = [\n",
    "    ('<p><msg>c \"Hey Remy!\"<d><scn>park2<msg>Ry happy \"Hello, [player_name].\"', \"How are you?\"),\n",
    "    ('<p><msg>c \"I was with Lorem today.\"<d><scn>park2<msg>Ad normal \"Very nice.\"', \"What do you think of Lorem?\"),\n",
    "    ('<p><msg>m \"In Tatsu park, Adine and I sat down.\"', \"Oh my god, Adine. What is this?\"),\n",
    "    ('<p><msg>m \"I sat down on a chair in Anna\\'s lab.\"', \"What will we do here?\"),\n",
    "    ('<p><msg>Nm happy \"Ah, nice. I like it here.\"', \"Can you swim?\"),\n",
    "]\n",
    "rp_prompts = [('<p><msg>c \"Hey Remy!\"<d><scn>park2<msg>Ry happy \"Hello, [player_name].\"', d) for d in [\n",
    "    \"Visit Lorem\",\n",
    "    \"Meet with Lorem\",\n",
    "    \"Visit Adine\",\n",
    "    \"Fight\",\n",
    "    \"Bite\",\n",
    "    \"Attack\",\n",
    "    \"Go to store\"\n",
    "]]\n",
    "\n",
    "def story_test(do_sample_test = True):\n",
    "    for (context, prompt) in story_prompts:\n",
    "        print(f\"Prompt: {prompt}\")\n",
    "        reply = model_manager.say(context, prompt, max_length = 64)\n",
    "        print(f\"Reply: {reply}\")\n",
    "        if do_sample_test:\n",
    "            reply = model_manager.say(context, prompt, top_k = 50, top_p = 0.7, max_length = 64)\n",
    "            print(f\"Reply [sampled]: {reply}\")\n",
    "        print(\"-\" * 10)\n",
    "\n",
    "def rp_test(do_lowercase_test = True):\n",
    "    for (context, prompt) in rp_prompts:\n",
    "        print(f'{prompt} -> {model_manager.say(context, prompt, max_length = 64)}')\n",
    "        print(f'[sampled] {prompt} -> {model_manager.say(context, prompt, top_k = 50, top_p = 0.7, max_length = 64)}')\n",
    "        print(\"-\" * 10)\n",
    "    if do_lowercase_test:\n",
    "        print(\"Lowercase test\")\n",
    "        for (context, prompt) in rp_prompts:\n",
    "            prompt = prompt[0].lower() + prompt[1:]\n",
    "            print(f'{prompt} -> {model_manager.say(context, prompt, max_length = 64)}')\n",
    "            prompt = prompt.lower()\n",
    "            print(f'{prompt} -> {model_manager.say(context, prompt, max_length = 64)}')\n",
    "            print(\"-\" * 10)"
   ]
  },
  {
   "cell_type": "markdown",
   "id": "e02b402b-21dd-4cec-a2ef-b6878792cafe",
   "metadata": {},
   "source": [
    "# Loading pretrained model\n",
    "We load a foundation language model, i.e. a language model that is generic and needs to be finetuned on a downstream task."
   ]
  },
  {
   "cell_type": "code",
   "execution_count": 4,
   "id": "85092601-eb4d-46a2-9e0e-b4b4c69efa43",
   "metadata": {},
   "outputs": [
    {
     "data": {
      "application/vnd.jupyter.widget-view+json": {
       "model_id": "abc8f19c02664d13962ab5e523dc6f69",
       "version_major": 2,
       "version_minor": 0
      },
      "text/plain": [
       "Loading checkpoint shards:   0%|          | 0/2 [00:00<?, ?it/s]"
      ]
     },
     "metadata": {},
     "output_type": "display_data"
    },
    {
     "name": "stdout",
     "output_type": "stream",
     "text": [
      "Loaded empty model\n"
     ]
    },
    {
     "name": "stderr",
     "output_type": "stream",
     "text": [
      "/Projects/Personal/Endless-AWSW/Research/.venv/lib/python3.10/site-packages/transformers/generation/configuration_utils.py:362: UserWarning: `do_sample` is set to `False`. However, `temperature` is set to `0.9` -- this flag is only used in sample-based generation modes. You should set `do_sample=True` or unset `temperature`. This was detected when initializing the generation config instance, which means the corresponding file may hold incorrect parameterization and should be fixed.\n",
      "  warnings.warn(\n",
      "/Projects/Personal/Endless-AWSW/Research/.venv/lib/python3.10/site-packages/transformers/generation/configuration_utils.py:367: UserWarning: `do_sample` is set to `False`. However, `top_p` is set to `0.6` -- this flag is only used in sample-based generation modes. You should set `do_sample=True` or unset `top_p`. This was detected when initializing the generation config instance, which means the corresponding file may hold incorrect parameterization and should be fixed.\n",
      "  warnings.warn(\n"
     ]
    }
   ],
   "source": [
    "saved_model_path = os.path.join(\"models\", \"awsw_main\")\n",
    "tokenizer = AutoTokenizer.from_pretrained(Config.base_model_name)\n",
    "if os.path.exists(os.path.join(saved_model_path, \"pytorch_model.bin\")):\n",
    "    model = AutoModelForCausalLM.from_pretrained(\n",
    "        saved_model_path, \n",
    "        load_in_8bit=True, \n",
    "        device_map='auto',\n",
    "        torch_dtype=torch.float16)\n",
    "    print(\"Pretrained model loaded\")\n",
    "else:\n",
    "    model = AutoModelForCausalLM.from_pretrained(\n",
    "        Config.base_model_name,\n",
    "        load_in_8bit=True, \n",
    "        device_map='auto',\n",
    "        torch_dtype=torch.float16 \n",
    "    )\n",
    "    print(\"Loaded empty model\")\n",
    "model_manager = ModelManager(model=model, tokenizer=tokenizer, device=device)"
   ]
  },
  {
   "cell_type": "markdown",
   "id": "a989f94a-18ec-4ad9-8f8a-aae47eac3e5c",
   "metadata": {},
   "source": [
    "# Running the first story test\n",
    "This story test will likely fail miserably, as we haven't trained the model yet!\n",
    "We also do a generic test, where we take a generic prompt to see how well the language model does in general."
   ]
  },
  {
   "cell_type": "code",
   "execution_count": 5,
   "id": "de846693-b725-42c5-8e4e-455f4dbb8f41",
   "metadata": {
    "tags": []
   },
   "outputs": [
    {
     "name": "stdout",
     "output_type": "stream",
     "text": [
      "Prompt: How are you?\n"
     ]
    },
    {
     "name": "stderr",
     "output_type": "stream",
     "text": [
      "/Projects/Personal/Endless-AWSW/Research/.venv/lib/python3.10/site-packages/transformers/generation/configuration_utils.py:362: UserWarning: `do_sample` is set to `False`. However, `temperature` is set to `0.9` -- this flag is only used in sample-based generation modes. You should set `do_sample=True` or unset `temperature`.\n",
      "  warnings.warn(\n",
      "/Projects/Personal/Endless-AWSW/Research/.venv/lib/python3.10/site-packages/transformers/generation/configuration_utils.py:367: UserWarning: `do_sample` is set to `False`. However, `top_p` is set to `None` -- this flag is only used in sample-based generation modes. You should set `do_sample=True` or unset `top_p`.\n",
      "  warnings.warn(\n",
      "/Projects/Personal/Endless-AWSW/Research/.venv/lib/python3.10/site-packages/transformers/generation/configuration_utils.py:377: UserWarning: `do_sample` is set to `False`. However, `top_k` is set to `None` -- this flag is only used in sample-based generation modes. You should set `do_sample=True` or unset `top_k`.\n",
      "  warnings.warn(\n"
     ]
    },
    {
     "name": "stdout",
     "output_type": "stream",
     "text": [
      "Reply: <d><scn>park2<msg>Ry happy \"I'm doing well, thanks for asking. <p><msg>c \"That's great to hear. Is there anything you need help with?\"<d><scn>park2<msg>Ry happy \"Actually, I was wondering if you\n",
      "Reply [sampled]: <d><scn>park2<msg>Ry happy \"I'm doing well, thanks for asking. <p><msg>c \"That's great to hear. What have you been up to lately?\"<d><scn>park2<msg>Ry happy \"Oh, just the usual stuff.\n",
      "----------\n",
      "Prompt: What do you think of Lorem?\n",
      "Reply: <d><scn>park2<msg>Ad normal \"He's a good guy.\"<p><msg>c \"Do you think he's a good guy?\"<d><scn>park2<msg>Ad normal \"Yeah, I do.\"<p><msg>c \"Why do\n",
      "Reply [sampled]: <d><scn>park2<msg>Ad normal \"He's a good guy.\"<p><msg>c \"Do you think he's trustworthy?\"<d><scn>park2<msg>Ad normal \"I think so.\"<p><msg>c \"Do you think he's\n",
      "----------\n",
      "Prompt: Oh my god, Adine. What is this?\n",
      "Reply: <d><scn>Adine</scn><p><msg>m \"It's a gift from Tatsu.<p><msg>c \"Oh, I see. Thank you, Tatsu.\"<p><msg>m \"You're welcome.\"<p><msg>c \"I'm sorry\n",
      "Reply [sampled]: <d><scn>Adine</scn><p><msg>a \"I don't know, but it looks like it's a part of a treasure hunt.\"<p><msg>c \"A treasure hunt? That sounds like fun. What do we have to do?\"<d><scn\n",
      "----------\n",
      "Prompt: What will we do here?\n",
      "Reply: <d><scn>Anna looks at you and smiles. <p><msg>a \"We're going to work on a new project.<p><msg>c \"What is it?\"<d><scn>Anna leans in and whispers in your ear. <p><msg>a \"It\n",
      "Reply [sampled]: <d><scn>Anna</scn><scn>Tom</scn><scn>Jack</scn><scn>Lena</scn><scn>Mark</scn><scn>Mia</scn><scn>Sophie</scn><scn>Kai</\n",
      "----------\n",
      "Prompt: Can you swim?\n",
      "Reply: <d><scn>Nm \"Yes, I can swim.\"<p><msg>c \"Great, let's go for a swim.\"<d><scn>Nm \"Sure, let's go.\"<p><msg>c \"This way.\"<d><scn>Nm\n",
      "Reply [sampled]: <d><scn>Nm \"No, I can't swim.\"</scn><p><msg>c \"I see.</msg></p><p><msg>Nm happy \"Yeah, it's really cool here. I love it.\"</msg></p><p><msg>c \"\n",
      "----------\n",
      "<s> How to turn into a dragon in a lucid dream.\n",
      "Step 1: Practice Lucid Dreaming Techniques\n",
      "Step 2: Recognize the Signs of a Lucid Dream\n",
      "Step 3: Visualize Yourself as a Dragon\n",
      "Step 4: Take Control of Your Dream\n",
      "Step 5: Shape Your Dream Environment\n",
      "Step 6: Fly and Explore as a Dragon\n",
      "Step 7: Embrace the Dragon Experience\n",
      "Step 8: Stay Lucid and Enjoy the Dream\n",
      "Step 9: Reflect on the Dream Experience\n",
      "Step 10: Repeat the Process for Further Practice\n",
      "\n",
      "How to turn into\n"
     ]
    }
   ],
   "source": [
    "story_test(True)\n",
    "print(model_manager.say_raw(\"How to turn into a dragon in a lucid dream.\\nStep 1:\", top_k = 50, top_p = 0.7))"
   ]
  },
  {
   "cell_type": "markdown",
   "id": "fb32b3e9-bf8c-4fee-ae79-6cb3f62e440c",
   "metadata": {},
   "source": [
    "### Apply LoRA\n",
    "\n",
    "Here comes the magic of PEFT (parameter efficient finetuning)! PEFT allows one to finetune a model without changing the original weights by injecting new, smaller weights to train. This allows for faster finetuning and also keeps the orginal knowledge of the original model.\n",
    "Let's load a `PeftModel` and specify that we are going to use low-rank adapters (LoRA) using `get_peft_model` utility function from `peft`."
   ]
  },
  {
   "cell_type": "code",
   "execution_count": 6,
   "id": "41945144-796e-4297-b22b-39efa535b841",
   "metadata": {
    "tags": []
   },
   "outputs": [],
   "source": [
    "for param in model.parameters():\n",
    "  param.requires_grad = False  # freeze the model - train adapters later\n",
    "  if param.ndim == 1:\n",
    "    # cast the small parameters (e.g. layernorm) to fp32 for stability\n",
    "    param.data = param.data.to(torch.float32)\n",
    "\n",
    "model.gradient_checkpointing_enable()  # reduce number of stored activations\n",
    "model.enable_input_require_grads()\n",
    "\n",
    "class CastOutputToFloat(nn.Sequential):\n",
    "  def forward(self, x): return super().forward(x).to(torch.float32)\n",
    "model.lm_head = CastOutputToFloat(model.lm_head)"
   ]
  },
  {
   "cell_type": "code",
   "execution_count": 7,
   "id": "6299ad0e-c8ed-4b9b-aedb-a094f20eba55",
   "metadata": {
    "tags": []
   },
   "outputs": [],
   "source": [
    "def print_trainable_parameters(model):\n",
    "    \"\"\"\n",
    "    Prints the number of trainable parameters in the model.\n",
    "    \"\"\"\n",
    "    trainable_params = 0\n",
    "    all_param = 0\n",
    "    for _, param in model.named_parameters():\n",
    "        all_param += param.numel()\n",
    "        if param.requires_grad:\n",
    "            trainable_params += param.numel()\n",
    "    print(\n",
    "        f\"trainable params: {trainable_params / 1000000:.2f}M || all params: {all_param / 1000000:.2f}M || trainable: {(trainable_params / all_param) * 100:.2f}%\"\n",
    "    )"
   ]
  },
  {
   "cell_type": "code",
   "execution_count": 8,
   "id": "932c67c5-15c8-4e06-a41d-6b490ce24856",
   "metadata": {
    "tags": []
   },
   "outputs": [
    {
     "name": "stdout",
     "output_type": "stream",
     "text": [
      "trainable params: 4.19M || all params: 6742.61M || trainable: 0.06%\n"
     ]
    }
   ],
   "source": [
    "lora_config = LoraConfig(\n",
    "    r=8,\n",
    "    lora_alpha=32,\n",
    "    target_modules=[\"q_proj\", \"v_proj\"],\n",
    "    lora_dropout=0.05,\n",
    "    bias=\"none\",\n",
    "    task_type=\"CAUSAL_LM\"\n",
    ")\n",
    "\n",
    "model = get_peft_model(model, lora_config)\n",
    "print_trainable_parameters(model)"
   ]
  },
  {
   "cell_type": "markdown",
   "id": "4e846af4-a596-4d43-8438-dccddacf9cd2",
   "metadata": {},
   "source": [
    "# Reviewing our dataset!"
   ]
  },
  {
   "cell_type": "code",
   "execution_count": 9,
   "id": "f9103419-d4d6-4351-b45c-b4c12683f607",
   "metadata": {
    "tags": []
   },
   "outputs": [],
   "source": [
    "split_data(os.path.join(Config.work_dir, \"awsw_story_input.txt\"))"
   ]
  },
  {
   "cell_type": "code",
   "execution_count": 10,
   "id": "6f87e391-b115-4ba5-b07f-6c0996573929",
   "metadata": {
    "tags": []
   },
   "outputs": [
    {
     "name": "stdout",
     "output_type": "stream",
     "text": [
      "RP review!\n",
      "p><msg>c \"Fight\"<d><scn>cafe<msg>m \"Anna barely avoids my attack and fell, but managed to get up and quickly punch me in the face, a soaring pain quickly came over my face\"</s><s> <d><scn>black<msg>Kv brow \"Of course, this is also a side-effect of the small apartments as people tend to go out more often and seek entertainment elsewhere.\"<p><msg>c \"Which do you prefer?\"<d><scn>black<msg>Kv normal\n",
      "----------\n",
      "r<msg>Mv think \"Maybe I can.\"<p><msg>c \"What do you think of Lorem?\"<d><scn>np1r<msg>Mv normal \"I think he's cute.\"</s><s> <d><scn>black<msg>m \"Not being entirely sure about my technique, I moved the sponge over the tail's whole length in small circles.\"<d><scn>black<msg>m \"When I was nearly done, I noticed a low rumble emanating from her, reminding me of what an overs\n",
      "----------\n"
     ]
    }
   ],
   "source": [
    "dataset = get_dataset(seed, tokenizer, path_train = os.path.join(Config.work_dir, \"data_train.txt\"))\n",
    "with open(\"data_train_sample.txt\", 'w') as f:\n",
    "    for i, item in enumerate(dataset['train']):\n",
    "        f.write(tokenizer.decode(item['input_ids']) + \"\\n\")\n",
    "        \n",
    "with open(\"data_train_sample2.txt\", 'w') as f:\n",
    "    for i, item in enumerate(dataset['train']):\n",
    "        f.write(tokenizer.decode(item['input_ids']) + \"\\n\")\n",
    "        \n",
    "print(\"RP review!\")\n",
    "to_see_rp = [\n",
    "    'c \"Fight',\n",
    "    'c \"What do you think of Lorem?'\n",
    "]\n",
    "for item in dataset['train']:\n",
    "    decoded = tokenizer.decode(item['input_ids'])\n",
    "    for rp in list(to_see_rp):\n",
    "        if rp in decoded: \n",
    "            print(decoded)\n",
    "            print(\"-\" * 10)\n",
    "            to_see_rp.remove(rp)\n",
    "            continue\n",
    "    if len(to_see_rp) == 0:\n",
    "        break\n",
    "# Clean up\n",
    "del to_see_rp"
   ]
  },
  {
   "cell_type": "markdown",
   "id": "22c9a355-411e-4d57-bb63-0904119af8b9",
   "metadata": {},
   "source": [
    "# Train! 🐉"
   ]
  },
  {
   "cell_type": "code",
   "execution_count": 11,
   "id": "a19c0b65-3191-4c02-b08b-43adf672e3d8",
   "metadata": {},
   "outputs": [
    {
     "name": "stdout",
     "output_type": "stream",
     "text": [
      "env: WANDB_PROJECT=endless-angels-with-scaly-wings\n",
      "num_total_steps: 313 num_warmup_steps: 4\n"
     ]
    },
    {
     "name": "stderr",
     "output_type": "stream",
     "text": [
      "\u001b[34m\u001b[1mwandb\u001b[0m: Currently logged in as: \u001b[33mpeterwilli\u001b[0m. Use \u001b[1m`wandb login --relogin`\u001b[0m to force relogin\n"
     ]
    },
    {
     "data": {
      "text/html": [
       "Tracking run with wandb version 0.15.11"
      ],
      "text/plain": [
       "<IPython.core.display.HTML object>"
      ]
     },
     "metadata": {},
     "output_type": "display_data"
    },
    {
     "data": {
      "text/html": [
       "Run data is saved locally in <code>/Projects/Personal/Endless-AWSW/Research/wandb/run-20230929_220716-vcrd7jtc</code>"
      ],
      "text/plain": [
       "<IPython.core.display.HTML object>"
      ]
     },
     "metadata": {},
     "output_type": "display_data"
    },
    {
     "data": {
      "text/html": [
       "Syncing run <strong><a href='https://wandb.ai/peterwilli/endless-angels-with-scaly-wings/runs/vcrd7jtc' target=\"_blank\">classic-wind-22</a></strong> to <a href='https://wandb.ai/peterwilli/endless-angels-with-scaly-wings' target=\"_blank\">Weights & Biases</a> (<a href='https://wandb.me/run' target=\"_blank\">docs</a>)<br/>"
      ],
      "text/plain": [
       "<IPython.core.display.HTML object>"
      ]
     },
     "metadata": {},
     "output_type": "display_data"
    },
    {
     "data": {
      "text/html": [
       " View project at <a href='https://wandb.ai/peterwilli/endless-angels-with-scaly-wings' target=\"_blank\">https://wandb.ai/peterwilli/endless-angels-with-scaly-wings</a>"
      ],
      "text/plain": [
       "<IPython.core.display.HTML object>"
      ]
     },
     "metadata": {},
     "output_type": "display_data"
    },
    {
     "data": {
      "text/html": [
       " View run at <a href='https://wandb.ai/peterwilli/endless-angels-with-scaly-wings/runs/vcrd7jtc' target=\"_blank\">https://wandb.ai/peterwilli/endless-angels-with-scaly-wings/runs/vcrd7jtc</a>"
      ],
      "text/plain": [
       "<IPython.core.display.HTML object>"
      ]
     },
     "metadata": {},
     "output_type": "display_data"
    },
    {
     "data": {
      "application/vnd.jupyter.widget-view+json": {
       "model_id": "8bef3ca8b64d4fe58a349df1786a8658",
       "version_major": 2,
       "version_minor": 0
      },
      "text/plain": [
       "  0%|          | 0/300 [00:00<?, ?it/s]"
      ]
     },
     "metadata": {},
     "output_type": "display_data"
    },
    {
     "name": "stderr",
     "output_type": "stream",
     "text": [
      "/Projects/Personal/Endless-AWSW/Research/.venv/lib/python3.10/site-packages/bitsandbytes/autograd/_functions.py:322: UserWarning: MatMul8bitLt: inputs will be cast from torch.float32 to float16 during quantization\n",
      "  warnings.warn(f\"MatMul8bitLt: inputs will be cast from {A.dtype} to float16 during quantization\")\n",
      "/Projects/Personal/Endless-AWSW/Research/.venv/lib/python3.10/site-packages/transformers/generation/configuration_utils.py:362: UserWarning: `do_sample` is set to `False`. However, `temperature` is set to `0.9` -- this flag is only used in sample-based generation modes. You should set `do_sample=True` or unset `temperature`.\n",
      "  warnings.warn(\n",
      "/Projects/Personal/Endless-AWSW/Research/.venv/lib/python3.10/site-packages/transformers/generation/configuration_utils.py:367: UserWarning: `do_sample` is set to `False`. However, `top_p` is set to `None` -- this flag is only used in sample-based generation modes. You should set `do_sample=True` or unset `top_p`.\n",
      "  warnings.warn(\n",
      "/Projects/Personal/Endless-AWSW/Research/.venv/lib/python3.10/site-packages/transformers/generation/configuration_utils.py:377: UserWarning: `do_sample` is set to `False`. However, `top_k` is set to `None` -- this flag is only used in sample-based generation modes. You should set `do_sample=True` or unset `top_k`.\n",
      "  warnings.warn(\n",
      "`use_cache=True` is incompatible with gradient checkpointing. Setting `use_cache=False`...\n",
      "/Projects/Personal/Endless-AWSW/Research/.venv/lib/python3.10/site-packages/torch/utils/checkpoint.py:31: UserWarning: None of the inputs have requires_grad=True. Gradients will be None\n",
      "  warnings.warn(\"None of the inputs have requires_grad=True. Gradients will be None\")\n"
     ]
    }
   ],
   "source": [
    "%env WANDB_PROJECT=endless-angels-with-scaly-wings\n",
    "\n",
    "# Define a callback that logs the demo prompt at the end of each epoch\n",
    "class PromptTestCallback(TrainerCallback):\n",
    "    def __init__(self):\n",
    "        self.story_table = wandb.Table(columns=[\"epoch\", \"context\", \"prompt\", \"reply\", \"sampled_reply\"])\n",
    "        self.rp_table = wandb.Table(columns=[\"epoch\", \"context\", \"prompt\", \"reply\", \"sampled_reply\"])\n",
    "        \n",
    "    @torch.no_grad()\n",
    "    def on_epoch_end(self, args, state, control, **kwargs):\n",
    "        for (context, prompt) in story_prompts:\n",
    "            reply = model_manager.say(context, prompt, max_length = 64)\n",
    "            sampled_reply = model_manager.say(context, prompt, max_length = 64, top_k = 50, top_p = 0.7)\n",
    "            self.story_table.add_data(state.epoch, context, prompt, reply, sampled_reply)  \n",
    "        for (context, prompt) in rp_prompts:\n",
    "            reply = model_manager.say(context, prompt, max_length = 64)\n",
    "            sampled_reply = model_manager.say(context, prompt, max_length = 64, top_k = 50, top_p = 0.7)\n",
    "            self.rp_table.add_data(state.epoch, context, prompt, reply, sampled_reply)\n",
    "        # \"Temporary\" hack (6 months already) due to wandb sucking (see: https://github.com/wandb/wandb/issues/2981)\n",
    "        from copy import copy\n",
    "        wandb.log({ 'story_test': copy(self.story_table), 'rp_test': copy(self.rp_table) })\n",
    "        \n",
    "model.train()\n",
    "train_results = {}\n",
    "train_model(model, tokenizer, dataset, config, train_results, [AWSWProgressCallback(), PromptTestCallback()])"
   ]
  },
  {
   "cell_type": "markdown",
   "id": "6c1c5d8d-37ba-4e5c-ae18-c3d6f1eacf77",
   "metadata": {},
   "source": [
    "# Show loss and learning rate of our training!"
   ]
  },
  {
   "cell_type": "code",
   "execution_count": 12,
   "id": "962ec8c8-916f-456a-ab06-8d098d25eed4",
   "metadata": {
    "tags": []
   },
   "outputs": [
    {
     "data": {
      "text/plain": [
       "[<matplotlib.lines.Line2D at 0x7f3862b72d10>]"
      ]
     },
     "execution_count": 12,
     "metadata": {},
     "output_type": "execute_result"
    },
    {
     "data": {
      "image/png": "[encoded data removed]",
      "text/plain": [
       "<Figure size 640x480 with 2 Axes>"
      ]
     },
     "metadata": {},
     "output_type": "display_data"
    }
   ],
   "source": [
    "fig, axs = plt.subplots(2)\n",
    "fig.suptitle('Learning rate and loss')\n",
    "axs[0].plot(train_results['learning_rate_history'])\n",
    "axs[1].plot(train_results['loss_history'])"
   ]
  },
  {
   "cell_type": "markdown",
   "id": "40372452-b7dd-4040-9c57-e234207f9901",
   "metadata": {},
   "source": [
    "# RP and story evaluation\n",
    "\n",
    "Here we evaluate the final trained model capabilities, and see how well it does in both roleplay and storytelling around the AWSW universe."
   ]
  },
  {
   "cell_type": "code",
   "execution_count": 13,
   "id": "e2484747-9ade-4bdc-85b5-8e05b2945fae",
   "metadata": {},
   "outputs": [
    {
     "name": "stdout",
     "output_type": "stream",
     "text": [
      "Prompt: How are you?\n",
      "Reply: <d><scn>park2<msg>Ry normal \"I'm good.\"\n",
      "Reply [sampled]: <d><scn>park2<msg>Ry normal \"I'm good.\"\n",
      "----------\n",
      "Prompt: What do you think of Lorem?\n",
      "Reply: <d><scn>park2<msg>Ad normal \"I think he's very nice.\"\n",
      "Reply [sampled]: <d><scn>park2<msg>Ad normal \"I think he is very nice.\"\n",
      "----------\n",
      "Prompt: Oh my god, Adine. What is this?\n",
      "Reply: <d><scn>park2<msg>Ad giggle \"I'm not sure, but I think it's a dragon.\"<p><msg>c \"I was with Lorem today\"<d><scn>park2<msg>Ad normal \"That's cool\"\n",
      "Reply [sampled]: <d><scn>park2<msg>Ad normal \"I'm not sure, but I think it's a dragon.\"\n",
      "----------\n",
      "Prompt: What will we do here?\n",
      "Reply: <d><scn>loremapt<msg>Lo normal \"We'll be working on the next part of the project.\"<p><msg>c \"What is it?\"<d><scn>loremapt<msg>Lo normal \"I'll show you.\"<p><msg>c \"I was with\n",
      "Reply [sampled]: <d><scn>adineapt<msg>Ad giggle \"Well, I have some stuff to show you. You know, I was thinking of showing you my work and how I came to this conclusion, but if you want to do something else, we can do that too.\"<p><msg>c \"I was with\n",
      "----------\n",
      "Prompt: Can you swim?\n",
      "Reply: <d><scn>o2<msg>Nm normal \"I can, but I don't really like it.\"<p><msg>c \"What do you mean?\"<d><scn>o2<msg>Nm normal \"I don't know. <p><msg>c \"What do you\n",
      "Reply [sampled]: <d><scn>cafe<msg>Nm smile \"Not really.Љavery good\"\n",
      "----------\n",
      "Visit Lorem -> <d><scn>loremapt<msg>Lo normal \"Oh, [player_name], I wasn't expecting visitors.\"\n",
      "[sampled] Visit Lorem -> <d><scn>loremapt<msg>Lo happy \"Oh, [player_name], I wasn't expecting visitors.\"\n",
      "----------\n",
      "Meet with Lorem -> <d><scn>loremapt<msg>Lo happy \"Oh, [player_name], I wasn't expecting visitors.\"\n",
      "[sampled] Meet with Lorem -> <d><scn>loremapt<msg>Lo normal \"Oh, [player_name], I wasn't expecting visitors.\"\n",
      "----------\n",
      "Visit Adine -> <d><scn>adineapt<msg>Ad giggle \"Oh, [player_name], I wasn't expecting visitors.\"\n",
      "[sampled] Visit Adine -> <d><scn>adineapt<msg>Ad normal \"Oh, [player_name], I wasn't expecting visitors.\"\n",
      "----------\n",
      "Fight -> <d><scn>park2<msg>m \"Remy barely avoids my attack and fell, but managed to get up and quickly punch me in the face, a soaring pain quickly came over my face\"\n",
      "[sampled] Fight -> <d><scn>park2<msg>m \"Remy barely avoids my attack and fell, but managed to get up and quickly punch me in the face, a soaring pain quickly came over my face\"\n",
      "----------\n",
      "Bite -> <d><scn>park2<msg>Ry angry \"Wtf you think you doing?\"\n",
      "[sampled] Bite -> <d><scn>park2<msg>Ry angry \"Think you can hurt me?\"\n",
      "----------\n",
      "Attack -> <d><scn>park2<msg>m \"Remy dodges my attack and comes rushing towards me\"\n",
      "[sampled] Attack -> <d><scn>park2<msg>m \"Remy barely avoids my attack and fell, but managed to get up and quickly punch me in the face, a soaring pain quickly came over my face\"\n",
      "----------\n",
      "Go to store -> <d><scn>store<msg>m \"I opened the door and stepped in the store\"\n",
      "[sampled] Go to store -> <d><scn>store<msg>m \"The store was rather crowded\"\n",
      "----------\n",
      "Lowercase test\n",
      "visit Lorem -> <d><scn>loremapt<msg>Lo happy \"Oh, [player_name], I wasn't expecting visitors.\"\n",
      "visit lorem -> <d><scn>loremapt<msg>Lo normal \"Oh, [player_name], I wasn't expecting visitors.\"\n",
      "----------\n",
      "meet with Lorem -> <d><scn>loremapt<msg>Lo normal \"Oh, [player_name], I wasn't expecting visitors.\"\n",
      "meet with lorem -> <d><scn>loremapt<msg>Lo normal \"Oh, [player_name], I wasn't expecting visitors.\"\n",
      "----------\n",
      "visit Adine -> <d><scn>adineapt<msg>Ad giggle \"Hey [player_name]! How are you?\"\n",
      "visit adine -> <d><scn>adineapt<msg>Ad giggle \"Hey [player_name]! How are you?\"\n",
      "----------\n",
      "fight -> <d><scn>park2<msg>m \"Remy dodges my attack and comes rushing towards me\"\n",
      "fight -> <d><scn>park2<msg>m \"Remy dodges my attack and comes rushing towards me\"\n",
      "----------\n",
      "bite -> <d><scn>park2<msg>Ry angry \"Wtf you think you doing?\"\n",
      "bite -> <d><scn>park2<msg>Ry angry \"Wtf you think you doing?\"\n",
      "----------\n",
      "attack -> <d><scn>park2<msg>m \"Remy dodges my attack and comes rushing towards me\"\n",
      "attack -> <d><scn>park2<msg>m \"Remy dodges my attack and comes rushing towards me\"\n",
      "----------\n",
      "go to store -> <d><scn>store<msg>m \"I opened the door and stepped in the store\"\n",
      "go to store -> <d><scn>store<msg>m \"The store was rather crowded\"\n",
      "----------\n"
     ]
    }
   ],
   "source": [
    "story_test(True)\n",
    "rp_test(True)"
   ]
  },
  {
   "cell_type": "markdown",
   "id": "72fea741-4f91-4896-87ca-4247621c5082",
   "metadata": {},
   "source": [
    "# Saving our precious! 💎"
   ]
  },
  {
   "cell_type": "code",
   "execution_count": 14,
   "id": "8dff75a6-a92f-4111-a037-a6424ee23d88",
   "metadata": {
    "tags": []
   },
   "outputs": [],
   "source": [
    "model = model.to('cpu')\n",
    "gc.collect()\n",
    "try:\n",
    "    torch.distributed.destroy_process_group()\n",
    "except:\n",
    "    pass\n",
    "torch.cuda.empty_cache()"
   ]
  },
  {
   "cell_type": "code",
   "execution_count": 15,
   "id": "88a42ecd-a07d-433e-b23e-829684393f2b",
   "metadata": {},
   "outputs": [],
   "source": [
    "model.save_pretrained(saved_model_path)"
   ]
  },
  {
   "cell_type": "markdown",
   "id": "a2992e56-3232-4bb4-86e5-d0e3be55d11d",
   "metadata": {},
   "source": [
    "# Share to 🤗 Hub"
   ]
  },
  {
   "cell_type": "code",
   "execution_count": 16,
   "id": "2e6bf005-009b-4783-b3d2-8c796323e650",
   "metadata": {
    "tags": []
   },
   "outputs": [
    {
     "data": {
      "application/vnd.jupyter.widget-view+json": {
       "model_id": "ff61f1e3eb6a4b419efc801bbd394892",
       "version_major": 2,
       "version_minor": 0
      },
      "text/plain": [
       "VBox(children=(HTML(value='<center> <img\\nsrc=https://huggingface.co/front/assets/huggingface_logo-noborder.sv…"
      ]
     },
     "metadata": {},
     "output_type": "display_data"
    }
   ],
   "source": [
    "from huggingface_hub import notebook_login\n",
    "\n",
    "notebook_login()"
   ]
  },
  {
   "cell_type": "code",
   "execution_count": 17,
   "id": "3ba312ee-9752-4fb8-b847-a928bef38497",
   "metadata": {
    "tags": []
   },
   "outputs": [
    {
     "name": "stderr",
     "output_type": "stream",
     "text": [
      "/Projects/Personal/Endless-AWSW/Research/.venv/lib/python3.10/site-packages/transformers/utils/hub.py:844: FutureWarning: The `use_auth_token` argument is deprecated and will be removed in v5 of Transformers.\n",
      "  warnings.warn(\n"
     ]
    },
    {
     "ename": "LocalTokenNotFoundError",
     "evalue": "Token is required (`token=True`), but no token found. You need to provide a token or be logged in to Hugging Face with `huggingface-cli login` or `huggingface_hub.login`. See https://huggingface.co/settings/tokens.",
     "output_type": "error",
     "traceback": [
      "\u001b[0;31m---------------------------------------------------------------------------\u001b[0m",
      "\u001b[0;31mLocalTokenNotFoundError\u001b[0m                   Traceback (most recent call last)",
      "Cell \u001b[0;32mIn[17], line 1\u001b[0m\n\u001b[0;32m----> 1\u001b[0m \u001b[43mmodel\u001b[49m\u001b[38;5;241;43m.\u001b[39;49m\u001b[43mpush_to_hub\u001b[49m\u001b[43m(\u001b[49m\u001b[38;5;124;43m\"\u001b[39;49m\u001b[38;5;124;43mpeterwilli/EAWSW-6.7B\u001b[39;49m\u001b[38;5;124;43m\"\u001b[39;49m\u001b[43m,\u001b[49m\u001b[43m \u001b[49m\u001b[43muse_auth_token\u001b[49m\u001b[38;5;241;43m=\u001b[39;49m\u001b[38;5;28;43;01mTrue\u001b[39;49;00m\u001b[43m)\u001b[49m\n",
      "File \u001b[0;32m/Projects/Personal/Endless-AWSW/Research/.venv/lib/python3.10/site-packages/transformers/utils/hub.py:882\u001b[0m, in \u001b[0;36mPushToHubMixin.push_to_hub\u001b[0;34m(self, repo_id, use_temp_dir, commit_message, private, token, max_shard_size, create_pr, safe_serialization, revision, **deprecated_kwargs)\u001b[0m\n\u001b[1;32m    879\u001b[0m repo_url \u001b[38;5;241m=\u001b[39m deprecated_kwargs\u001b[38;5;241m.\u001b[39mpop(\u001b[38;5;124m\"\u001b[39m\u001b[38;5;124mrepo_url\u001b[39m\u001b[38;5;124m\"\u001b[39m, \u001b[38;5;28;01mNone\u001b[39;00m)\n\u001b[1;32m    880\u001b[0m organization \u001b[38;5;241m=\u001b[39m deprecated_kwargs\u001b[38;5;241m.\u001b[39mpop(\u001b[38;5;124m\"\u001b[39m\u001b[38;5;124morganization\u001b[39m\u001b[38;5;124m\"\u001b[39m, \u001b[38;5;28;01mNone\u001b[39;00m)\n\u001b[0;32m--> 882\u001b[0m repo_id \u001b[38;5;241m=\u001b[39m \u001b[38;5;28;43mself\u001b[39;49m\u001b[38;5;241;43m.\u001b[39;49m\u001b[43m_create_repo\u001b[49m\u001b[43m(\u001b[49m\n\u001b[1;32m    883\u001b[0m \u001b[43m    \u001b[49m\u001b[43mrepo_id\u001b[49m\u001b[43m,\u001b[49m\u001b[43m \u001b[49m\u001b[43mprivate\u001b[49m\u001b[38;5;241;43m=\u001b[39;49m\u001b[43mprivate\u001b[49m\u001b[43m,\u001b[49m\u001b[43m \u001b[49m\u001b[43mtoken\u001b[49m\u001b[38;5;241;43m=\u001b[39;49m\u001b[43mtoken\u001b[49m\u001b[43m,\u001b[49m\u001b[43m \u001b[49m\u001b[43mrepo_url\u001b[49m\u001b[38;5;241;43m=\u001b[39;49m\u001b[43mrepo_url\u001b[49m\u001b[43m,\u001b[49m\u001b[43m \u001b[49m\u001b[43morganization\u001b[49m\u001b[38;5;241;43m=\u001b[39;49m\u001b[43morganization\u001b[49m\n\u001b[1;32m    884\u001b[0m \u001b[43m\u001b[49m\u001b[43m)\u001b[49m\n\u001b[1;32m    886\u001b[0m \u001b[38;5;28;01mif\u001b[39;00m use_temp_dir \u001b[38;5;129;01mis\u001b[39;00m \u001b[38;5;28;01mNone\u001b[39;00m:\n\u001b[1;32m    887\u001b[0m     use_temp_dir \u001b[38;5;241m=\u001b[39m \u001b[38;5;129;01mnot\u001b[39;00m os\u001b[38;5;241m.\u001b[39mpath\u001b[38;5;241m.\u001b[39misdir(working_dir)\n",
      "File \u001b[0;32m/Projects/Personal/Endless-AWSW/Research/.venv/lib/python3.10/site-packages/transformers/utils/hub.py:709\u001b[0m, in \u001b[0;36mPushToHubMixin._create_repo\u001b[0;34m(self, repo_id, private, token, repo_url, organization)\u001b[0m\n\u001b[1;32m    706\u001b[0m             repo_id \u001b[38;5;241m=\u001b[39m repo_id\u001b[38;5;241m.\u001b[39msplit(\u001b[38;5;124m\"\u001b[39m\u001b[38;5;124m/\u001b[39m\u001b[38;5;124m\"\u001b[39m)[\u001b[38;5;241m-\u001b[39m\u001b[38;5;241m1\u001b[39m]\n\u001b[1;32m    707\u001b[0m         repo_id \u001b[38;5;241m=\u001b[39m \u001b[38;5;124mf\u001b[39m\u001b[38;5;124m\"\u001b[39m\u001b[38;5;132;01m{\u001b[39;00morganization\u001b[38;5;132;01m}\u001b[39;00m\u001b[38;5;124m/\u001b[39m\u001b[38;5;132;01m{\u001b[39;00mrepo_id\u001b[38;5;132;01m}\u001b[39;00m\u001b[38;5;124m\"\u001b[39m\n\u001b[0;32m--> 709\u001b[0m url \u001b[38;5;241m=\u001b[39m \u001b[43mcreate_repo\u001b[49m\u001b[43m(\u001b[49m\u001b[43mrepo_id\u001b[49m\u001b[38;5;241;43m=\u001b[39;49m\u001b[43mrepo_id\u001b[49m\u001b[43m,\u001b[49m\u001b[43m \u001b[49m\u001b[43mtoken\u001b[49m\u001b[38;5;241;43m=\u001b[39;49m\u001b[43mtoken\u001b[49m\u001b[43m,\u001b[49m\u001b[43m \u001b[49m\u001b[43mprivate\u001b[49m\u001b[38;5;241;43m=\u001b[39;49m\u001b[43mprivate\u001b[49m\u001b[43m,\u001b[49m\u001b[43m \u001b[49m\u001b[43mexist_ok\u001b[49m\u001b[38;5;241;43m=\u001b[39;49m\u001b[38;5;28;43;01mTrue\u001b[39;49;00m\u001b[43m)\u001b[49m\n\u001b[1;32m    710\u001b[0m \u001b[38;5;28;01mreturn\u001b[39;00m url\u001b[38;5;241m.\u001b[39mrepo_id\n",
      "File \u001b[0;32m/Projects/Personal/Endless-AWSW/Research/.venv/lib/python3.10/site-packages/huggingface_hub/utils/_validators.py:118\u001b[0m, in \u001b[0;36mvalidate_hf_hub_args.<locals>._inner_fn\u001b[0;34m(*args, **kwargs)\u001b[0m\n\u001b[1;32m    115\u001b[0m \u001b[38;5;28;01mif\u001b[39;00m check_use_auth_token:\n\u001b[1;32m    116\u001b[0m     kwargs \u001b[38;5;241m=\u001b[39m smoothly_deprecate_use_auth_token(fn_name\u001b[38;5;241m=\u001b[39mfn\u001b[38;5;241m.\u001b[39m\u001b[38;5;18m__name__\u001b[39m, has_token\u001b[38;5;241m=\u001b[39mhas_token, kwargs\u001b[38;5;241m=\u001b[39mkwargs)\n\u001b[0;32m--> 118\u001b[0m \u001b[38;5;28;01mreturn\u001b[39;00m \u001b[43mfn\u001b[49m\u001b[43m(\u001b[49m\u001b[38;5;241;43m*\u001b[39;49m\u001b[43margs\u001b[49m\u001b[43m,\u001b[49m\u001b[43m \u001b[49m\u001b[38;5;241;43m*\u001b[39;49m\u001b[38;5;241;43m*\u001b[39;49m\u001b[43mkwargs\u001b[49m\u001b[43m)\u001b[49m\n",
      "File \u001b[0;32m/Projects/Personal/Endless-AWSW/Research/.venv/lib/python3.10/site-packages/huggingface_hub/hf_api.py:2542\u001b[0m, in \u001b[0;36mHfApi.create_repo\u001b[0;34m(self, repo_id, token, private, repo_type, exist_ok, space_sdk, space_hardware, space_storage, space_sleep_time, space_secrets, space_variables)\u001b[0m\n\u001b[1;32m   2538\u001b[0m \u001b[38;5;28;01mif\u001b[39;00m \u001b[38;5;28mgetattr\u001b[39m(\u001b[38;5;28mself\u001b[39m, \u001b[38;5;124m\"\u001b[39m\u001b[38;5;124m_lfsmultipartthresh\u001b[39m\u001b[38;5;124m\"\u001b[39m, \u001b[38;5;28;01mNone\u001b[39;00m):\n\u001b[1;32m   2539\u001b[0m     \u001b[38;5;66;03m# Testing purposes only.\u001b[39;00m\n\u001b[1;32m   2540\u001b[0m     \u001b[38;5;66;03m# See https://github.com/huggingface/huggingface_hub/pull/733/files#r820604472\u001b[39;00m\n\u001b[1;32m   2541\u001b[0m     json[\u001b[38;5;124m\"\u001b[39m\u001b[38;5;124mlfsmultipartthresh\u001b[39m\u001b[38;5;124m\"\u001b[39m] \u001b[38;5;241m=\u001b[39m \u001b[38;5;28mself\u001b[39m\u001b[38;5;241m.\u001b[39m_lfsmultipartthresh  \u001b[38;5;66;03m# type: ignore\u001b[39;00m\n\u001b[0;32m-> 2542\u001b[0m headers \u001b[38;5;241m=\u001b[39m \u001b[38;5;28;43mself\u001b[39;49m\u001b[38;5;241;43m.\u001b[39;49m\u001b[43m_build_hf_headers\u001b[49m\u001b[43m(\u001b[49m\u001b[43mtoken\u001b[49m\u001b[38;5;241;43m=\u001b[39;49m\u001b[43mtoken\u001b[49m\u001b[43m,\u001b[49m\u001b[43m \u001b[49m\u001b[43mis_write_action\u001b[49m\u001b[38;5;241;43m=\u001b[39;49m\u001b[38;5;28;43;01mTrue\u001b[39;49;00m\u001b[43m)\u001b[49m\n\u001b[1;32m   2543\u001b[0m r \u001b[38;5;241m=\u001b[39m get_session()\u001b[38;5;241m.\u001b[39mpost(path, headers\u001b[38;5;241m=\u001b[39mheaders, json\u001b[38;5;241m=\u001b[39mjson)\n\u001b[1;32m   2545\u001b[0m \u001b[38;5;28;01mtry\u001b[39;00m:\n",
      "File \u001b[0;32m/Projects/Personal/Endless-AWSW/Research/.venv/lib/python3.10/site-packages/huggingface_hub/hf_api.py:5719\u001b[0m, in \u001b[0;36mHfApi._build_hf_headers\u001b[0;34m(self, token, is_write_action, library_name, library_version, user_agent)\u001b[0m\n\u001b[1;32m   5716\u001b[0m \u001b[38;5;28;01mif\u001b[39;00m token \u001b[38;5;129;01mis\u001b[39;00m \u001b[38;5;28;01mNone\u001b[39;00m:\n\u001b[1;32m   5717\u001b[0m     \u001b[38;5;66;03m# Cannot do `token = token or self.token` as token can be `False`.\u001b[39;00m\n\u001b[1;32m   5718\u001b[0m     token \u001b[38;5;241m=\u001b[39m \u001b[38;5;28mself\u001b[39m\u001b[38;5;241m.\u001b[39mtoken\n\u001b[0;32m-> 5719\u001b[0m \u001b[38;5;28;01mreturn\u001b[39;00m \u001b[43mbuild_hf_headers\u001b[49m\u001b[43m(\u001b[49m\n\u001b[1;32m   5720\u001b[0m \u001b[43m    \u001b[49m\u001b[43mtoken\u001b[49m\u001b[38;5;241;43m=\u001b[39;49m\u001b[43mtoken\u001b[49m\u001b[43m,\u001b[49m\n\u001b[1;32m   5721\u001b[0m \u001b[43m    \u001b[49m\u001b[43mis_write_action\u001b[49m\u001b[38;5;241;43m=\u001b[39;49m\u001b[43mis_write_action\u001b[49m\u001b[43m,\u001b[49m\n\u001b[1;32m   5722\u001b[0m \u001b[43m    \u001b[49m\u001b[43mlibrary_name\u001b[49m\u001b[38;5;241;43m=\u001b[39;49m\u001b[43mlibrary_name\u001b[49m\u001b[43m \u001b[49m\u001b[38;5;129;43;01mor\u001b[39;49;00m\u001b[43m \u001b[49m\u001b[38;5;28;43mself\u001b[39;49m\u001b[38;5;241;43m.\u001b[39;49m\u001b[43mlibrary_name\u001b[49m\u001b[43m,\u001b[49m\n\u001b[1;32m   5723\u001b[0m \u001b[43m    \u001b[49m\u001b[43mlibrary_version\u001b[49m\u001b[38;5;241;43m=\u001b[39;49m\u001b[43mlibrary_version\u001b[49m\u001b[43m \u001b[49m\u001b[38;5;129;43;01mor\u001b[39;49;00m\u001b[43m \u001b[49m\u001b[38;5;28;43mself\u001b[39;49m\u001b[38;5;241;43m.\u001b[39;49m\u001b[43mlibrary_version\u001b[49m\u001b[43m,\u001b[49m\n\u001b[1;32m   5724\u001b[0m \u001b[43m    \u001b[49m\u001b[43muser_agent\u001b[49m\u001b[38;5;241;43m=\u001b[39;49m\u001b[43muser_agent\u001b[49m\u001b[43m \u001b[49m\u001b[38;5;129;43;01mor\u001b[39;49;00m\u001b[43m \u001b[49m\u001b[38;5;28;43mself\u001b[39;49m\u001b[38;5;241;43m.\u001b[39;49m\u001b[43muser_agent\u001b[49m\u001b[43m,\u001b[49m\n\u001b[1;32m   5725\u001b[0m \u001b[43m\u001b[49m\u001b[43m)\u001b[49m\n",
      "File \u001b[0;32m/Projects/Personal/Endless-AWSW/Research/.venv/lib/python3.10/site-packages/huggingface_hub/utils/_validators.py:118\u001b[0m, in \u001b[0;36mvalidate_hf_hub_args.<locals>._inner_fn\u001b[0;34m(*args, **kwargs)\u001b[0m\n\u001b[1;32m    115\u001b[0m \u001b[38;5;28;01mif\u001b[39;00m check_use_auth_token:\n\u001b[1;32m    116\u001b[0m     kwargs \u001b[38;5;241m=\u001b[39m smoothly_deprecate_use_auth_token(fn_name\u001b[38;5;241m=\u001b[39mfn\u001b[38;5;241m.\u001b[39m\u001b[38;5;18m__name__\u001b[39m, has_token\u001b[38;5;241m=\u001b[39mhas_token, kwargs\u001b[38;5;241m=\u001b[39mkwargs)\n\u001b[0;32m--> 118\u001b[0m \u001b[38;5;28;01mreturn\u001b[39;00m \u001b[43mfn\u001b[49m\u001b[43m(\u001b[49m\u001b[38;5;241;43m*\u001b[39;49m\u001b[43margs\u001b[49m\u001b[43m,\u001b[49m\u001b[43m \u001b[49m\u001b[38;5;241;43m*\u001b[39;49m\u001b[38;5;241;43m*\u001b[39;49m\u001b[43mkwargs\u001b[49m\u001b[43m)\u001b[49m\n",
      "File \u001b[0;32m/Projects/Personal/Endless-AWSW/Research/.venv/lib/python3.10/site-packages/huggingface_hub/utils/_headers.py:121\u001b[0m, in \u001b[0;36mbuild_hf_headers\u001b[0;34m(token, is_write_action, library_name, library_version, user_agent)\u001b[0m\n\u001b[1;32m     48\u001b[0m \u001b[38;5;250m\u001b[39m\u001b[38;5;124;03m\"\"\"\u001b[39;00m\n\u001b[1;32m     49\u001b[0m \u001b[38;5;124;03mBuild headers dictionary to send in a HF Hub call.\u001b[39;00m\n\u001b[1;32m     50\u001b[0m \n\u001b[0;32m   (...)\u001b[0m\n\u001b[1;32m    118\u001b[0m \u001b[38;5;124;03m        If `token=True` but token is not saved locally.\u001b[39;00m\n\u001b[1;32m    119\u001b[0m \u001b[38;5;124;03m\"\"\"\u001b[39;00m\n\u001b[1;32m    120\u001b[0m \u001b[38;5;66;03m# Get auth token to send\u001b[39;00m\n\u001b[0;32m--> 121\u001b[0m token_to_send \u001b[38;5;241m=\u001b[39m \u001b[43mget_token_to_send\u001b[49m\u001b[43m(\u001b[49m\u001b[43mtoken\u001b[49m\u001b[43m)\u001b[49m\n\u001b[1;32m    122\u001b[0m _validate_token_to_send(token_to_send, is_write_action\u001b[38;5;241m=\u001b[39mis_write_action)\n\u001b[1;32m    124\u001b[0m \u001b[38;5;66;03m# Combine headers\u001b[39;00m\n",
      "File \u001b[0;32m/Projects/Personal/Endless-AWSW/Research/.venv/lib/python3.10/site-packages/huggingface_hub/utils/_headers.py:153\u001b[0m, in \u001b[0;36mget_token_to_send\u001b[0;34m(token)\u001b[0m\n\u001b[1;32m    151\u001b[0m \u001b[38;5;28;01mif\u001b[39;00m token \u001b[38;5;129;01mis\u001b[39;00m \u001b[38;5;28;01mTrue\u001b[39;00m:\n\u001b[1;32m    152\u001b[0m     \u001b[38;5;28;01mif\u001b[39;00m cached_token \u001b[38;5;129;01mis\u001b[39;00m \u001b[38;5;28;01mNone\u001b[39;00m:\n\u001b[0;32m--> 153\u001b[0m         \u001b[38;5;28;01mraise\u001b[39;00m LocalTokenNotFoundError(\n\u001b[1;32m    154\u001b[0m             \u001b[38;5;124m\"\u001b[39m\u001b[38;5;124mToken is required (`token=True`), but no token found. You\u001b[39m\u001b[38;5;124m\"\u001b[39m\n\u001b[1;32m    155\u001b[0m             \u001b[38;5;124m\"\u001b[39m\u001b[38;5;124m need to provide a token or be logged in to Hugging Face with\u001b[39m\u001b[38;5;124m\"\u001b[39m\n\u001b[1;32m    156\u001b[0m             \u001b[38;5;124m\"\u001b[39m\u001b[38;5;124m `huggingface-cli login` or `huggingface_hub.login`. See\u001b[39m\u001b[38;5;124m\"\u001b[39m\n\u001b[1;32m    157\u001b[0m             \u001b[38;5;124m\"\u001b[39m\u001b[38;5;124m https://huggingface.co/settings/tokens.\u001b[39m\u001b[38;5;124m\"\u001b[39m\n\u001b[1;32m    158\u001b[0m         )\n\u001b[1;32m    159\u001b[0m     \u001b[38;5;28;01mreturn\u001b[39;00m cached_token\n\u001b[1;32m    161\u001b[0m \u001b[38;5;66;03m# Case implicit use of the token is forbidden by env variable\u001b[39;00m\n",
      "\u001b[0;31mLocalTokenNotFoundError\u001b[0m: Token is required (`token=True`), but no token found. You need to provide a token or be logged in to Hugging Face with `huggingface-cli login` or `huggingface_hub.login`. See https://huggingface.co/settings/tokens."
     ]
    }
   ],
   "source": [
    "model.push_to_hub(\"peterwilli/EAWSW-6.7B\", use_auth_token=True)"
   ]
  }
 ],
 "metadata": {
  "kernelspec": {
   "display_name": "Python 3 (ipykernel)",
   "language": "python",
   "name": "python3"
  },
  "language_info": {
   "codemirror_mode": {
    "name": "ipython",
    "version": 3
   },
   "file_extension": ".py",
   "mimetype": "text/x-python",
   "name": "python",
   "nbconvert_exporter": "python",
   "pygments_lexer": "ipython3",
   "version": "3.10.12"
  }
 },
 "nbformat": 4,
 "nbformat_minor": 5
}
